{
 "cells": [
  {
   "cell_type": "markdown",
   "metadata": {},
   "source": [
    "# Asymptotic solutions in short-times"
   ]
  },
  {
   "cell_type": "markdown",
   "metadata": {},
   "source": [
    "Projectile motion in a linear potential field with images is described by the equation\n",
    "\n",
    "$$y_{\\tau \\tau} + \\alpha \\frac{1}{(1 + \\epsilon y)^2} + 1= 0,$$\n",
    "\n",
    "with $y(0) = \\epsilon$ and $y_{\\tau}(0)=1$, and where $\\epsilon \\ll 1$ is expected."
   ]
  },
  {
   "cell_type": "code",
   "execution_count": 1,
   "metadata": {},
   "outputs": [],
   "source": [
    "import sympy as sym\n",
    "from sympy import init_printing\n",
    "init_printing(order='rev-lex') "
   ]
  },
  {
   "cell_type": "code",
   "execution_count": 2,
   "metadata": {},
   "outputs": [],
   "source": [
    "y, eps, a, b, t, alpha = sym.symbols('y, epsilon, a, b, t, alpha')\n",
    "y0 = sym.Function('y0')(t)\n",
    "y1 = sym.Function('y1')(t)\n",
    "y2 = sym.Function('y2')(t)\n",
    "y3 = sym.Function('y3')(t)\n",
    "y4 = sym.Function('y4')(t)"
   ]
  },
  {
   "cell_type": "code",
   "execution_count": 3,
   "metadata": {},
   "outputs": [
    {
     "data": {
      "image/png": "[encoded data removed]",
      "text/latex": [
       "$$\\epsilon^{4} \\operatorname{y_{4}}{\\left (t \\right )} + \\epsilon^{3} \\operatorname{y_{3}}{\\left (t \\right )} + \\epsilon^{2} \\operatorname{y_{2}}{\\left (t \\right )} + \\epsilon \\operatorname{y_{1}}{\\left (t \\right )} + \\operatorname{y_{0}}{\\left (t \\right )} = 0$$"
      ],
      "text/plain": [
       "                   2          3          4          \n",
       "y₀(t) + ε⋅y₁(t) + ε ⋅y₂(t) + ε ⋅y₃(t) + ε ⋅y₄(t) = 0"
      ]
     },
     "execution_count": 3,
     "metadata": {},
     "output_type": "execute_result"
    }
   ],
   "source": [
    "y = sym.Eq(y0 + eps*y1 + eps**2*y2 + eps**3*y3 + eps**4*y4) # naive expansion\n",
    "\n",
    "class f(sym.Function):\n",
    "    \n",
    "    @classmethod\n",
    "    def eval(cls, y):\n",
    "        return y.lhs.diff(t,t) + alpha /(1 + eps * y.lhs)**2\n",
    "        #return y.lhs.diff(tau, tau) + eps/y.lhs**2\n",
    "y"
   ]
  },
  {
   "cell_type": "code",
   "execution_count": 4,
   "metadata": {},
   "outputs": [
    {
     "data": {
      "image/png": "[encoded data removed]",
      "text/latex": [
       "$$\\frac{d^{2}}{d t^{2}} \\operatorname{y_{0}}{\\left (t \\right )} + \\epsilon \\left(- 2 \\alpha \\operatorname{y_{0}}{\\left (t \\right )} + \\frac{d^{2}}{d t^{2}} \\operatorname{y_{1}}{\\left (t \\right )}\\right) + \\epsilon^{2} \\left(3 \\alpha \\operatorname{y_{0}}^{2}{\\left (t \\right )} - 2 \\alpha \\operatorname{y_{1}}{\\left (t \\right )} + \\frac{d^{2}}{d t^{2}} \\operatorname{y_{2}}{\\left (t \\right )}\\right) + \\epsilon^{3} \\left(- 4 \\alpha \\operatorname{y_{0}}^{3}{\\left (t \\right )} + 6 \\alpha \\operatorname{y_{0}}{\\left (t \\right )} \\operatorname{y_{1}}{\\left (t \\right )} - 2 \\alpha \\operatorname{y_{2}}{\\left (t \\right )} + \\frac{d^{2}}{d t^{2}} \\operatorname{y_{3}}{\\left (t \\right )}\\right) + \\epsilon^{4} \\left(5 \\alpha \\operatorname{y_{0}}^{4}{\\left (t \\right )} - 12 \\alpha \\operatorname{y_{0}}^{2}{\\left (t \\right )} \\operatorname{y_{1}}{\\left (t \\right )} + 6 \\alpha \\operatorname{y_{0}}{\\left (t \\right )} \\operatorname{y_{2}}{\\left (t \\right )} + 3 \\alpha \\operatorname{y_{1}}^{2}{\\left (t \\right )} - 2 \\alpha \\operatorname{y_{3}}{\\left (t \\right )} + \\frac{d^{2}}{d t^{2}} \\operatorname{y_{4}}{\\left (t \\right )}\\right) + \\alpha + O\\left(\\epsilon^{5}\\right)$$"
      ],
      "text/plain": [
       "  2            ⎛  2                   ⎞      ⎛  2                             \n",
       " d             ⎜ d                    ⎟    2 ⎜ d                             2\n",
       "───(y₀(t)) + ε⋅⎜───(y₁(t)) - 2⋅α⋅y₀(t)⎟ + ε ⋅⎜───(y₂(t)) - 2⋅α⋅y₁(t) + 3⋅α⋅y₀ \n",
       "  2            ⎜  2                   ⎟      ⎜  2                             \n",
       "dt             ⎝dt                    ⎠      ⎝dt                              \n",
       "\n",
       "   ⎞      ⎛  2                                                  ⎞      ⎛  2   \n",
       "   ⎟    3 ⎜ d                                               3   ⎟    4 ⎜ d    \n",
       "(t)⎟ + ε ⋅⎜───(y₃(t)) - 2⋅α⋅y₂(t) + 6⋅α⋅y₀(t)⋅y₁(t) - 4⋅α⋅y₀ (t)⎟ + ε ⋅⎜───(y₄\n",
       "   ⎟      ⎜  2                                                  ⎟      ⎜  2   \n",
       "   ⎠      ⎝dt                                                   ⎠      ⎝dt    \n",
       "\n",
       "                                                                              \n",
       "                         2                               2                  4 \n",
       "(t)) - 2⋅α⋅y₃(t) + 3⋅α⋅y₁ (t) + 6⋅α⋅y₀(t)⋅y₂(t) - 12⋅α⋅y₀ (t)⋅y₁(t) + 5⋅α⋅y₀ (\n",
       "                                                                              \n",
       "                                                                              \n",
       "\n",
       "  ⎞            \n",
       "  ⎟        ⎛ 5⎞\n",
       "t)⎟ + α + O⎝ε ⎠\n",
       "  ⎟            \n",
       "  ⎠            "
      ]
     },
     "execution_count": 4,
     "metadata": {},
     "output_type": "execute_result"
    }
   ],
   "source": [
    "the_series = sym.series(f(y), eps, x0=0, n=5)\n",
    "by_order = sym.collect(the_series, eps, evaluate=False)\n",
    "the_series"
   ]
  },
  {
   "cell_type": "markdown",
   "metadata": {},
   "source": [
    "### $\\mathcal{O} \\left( 1 \\right) \\mbox{Solution}$"
   ]
  },
  {
   "cell_type": "code",
   "execution_count": 5,
   "metadata": {},
   "outputs": [
    {
     "data": {
      "image/png": "[encoded data removed]",
      "text/latex": [
       "$$\\alpha + \\frac{d^{2}}{d t^{2}} \\operatorname{y_{0}}{\\left (t \\right )} = 0$$"
      ],
      "text/plain": [
       "  2               \n",
       " d                \n",
       "───(y₀(t)) + α = 0\n",
       "  2               \n",
       "dt                "
      ]
     },
     "execution_count": 5,
     "metadata": {},
     "output_type": "execute_result"
    }
   ],
   "source": [
    "sym.Eq(by_order[1].removeO())"
   ]
  },
  {
   "cell_type": "code",
   "execution_count": 6,
   "metadata": {},
   "outputs": [
    {
     "name": "stdout",
     "output_type": "stream",
     "text": [
      "\\operatorname{y_{0}}{\\left (t \\right )} = - \\frac{\\alpha t^{2}}{2} + t\n"
     ]
    },
    {
     "data": {
      "image/png": "[encoded data removed]",
      "text/latex": [
       "$$\\operatorname{y_{0}}{\\left (t \\right )} = - \\frac{\\alpha t^{2}}{2} + t$$"
      ],
      "text/plain": [
       "               2\n",
       "            α⋅t \n",
       "y₀(t) = t - ────\n",
       "             2  "
      ]
     },
     "execution_count": 6,
     "metadata": {},
     "output_type": "execute_result"
    }
   ],
   "source": [
    "eqn = sym.Eq(by_order[1].removeO())    #1 + y0(tau).diff(tau, tau))\n",
    "soln0 = sym.dsolve(eqn, y0)\n",
    "constants = sym.solve([soln0.rhs.subs(t,0) - 0, \\\n",
    "                      soln0.rhs.diff(t).subs(t,0) - 1])\n",
    "C1, C2 = sym.symbols('C1 C2')\n",
    "soln0 = soln0.subs(constants)\n",
    "print(sym.latex(soln0))\n",
    "soln0"
   ]
  },
  {
   "cell_type": "markdown",
   "metadata": {},
   "source": [
    "### $\\mathcal{O} \\left( \\epsilon \\right) \\mbox{Solution}$"
   ]
  },
  {
   "cell_type": "code",
   "execution_count": 7,
   "metadata": {},
   "outputs": [
    {
     "data": {
      "image/png": "[encoded data removed]",
      "text/latex": [
       "$$- 2 \\alpha \\operatorname{y_{0}}{\\left (t \\right )} + \\frac{d^{2}}{d t^{2}} \\operatorname{y_{1}}{\\left (t \\right )}$$"
      ],
      "text/plain": [
       "  2                   \n",
       " d                    \n",
       "───(y₁(t)) - 2⋅α⋅y₀(t)\n",
       "  2                   \n",
       "dt                    "
      ]
     },
     "execution_count": 7,
     "metadata": {},
     "output_type": "execute_result"
    }
   ],
   "source": [
    "by_order[eps]"
   ]
  },
  {
   "cell_type": "code",
   "execution_count": 8,
   "metadata": {},
   "outputs": [
    {
     "data": {
      "image/png": "[encoded data removed]",
      "text/latex": [
       "$$\\operatorname{y_{1}}{\\left (t \\right )} = - \\frac{\\alpha^{2} t^{4}}{12} + \\frac{\\alpha t^{3}}{3}$$"
      ],
      "text/plain": [
       "           3    2  4\n",
       "        α⋅t    α ⋅t \n",
       "y₁(t) = ──── - ─────\n",
       "         3       12 "
      ]
     },
     "execution_count": 8,
     "metadata": {},
     "output_type": "execute_result"
    }
   ],
   "source": [
    "try:\n",
    "    eqn = sym.Eq(by_order[eps].replace(y0, soln0.rhs))\n",
    "except NameError:\n",
    "    eqn = sym.Eq(by_order[eps])\n",
    "    \n",
    "soln1 = sym.dsolve(eqn, y1)\n",
    "constants = sym.solve([soln1.rhs.subs(t,0) - 0, \\\n",
    "                      soln1.rhs.diff(t,1).subs(t,0) - 0])\n",
    "C1, C2 = sym.symbols('C1 C2')\n",
    "soln1 = soln1.subs(constants)\n",
    "soln1\n"
   ]
  },
  {
   "cell_type": "markdown",
   "metadata": {},
   "source": [
    "### $\\mathcal{O} \\left( \\epsilon^2 \\right) \\mbox{Solution}$"
   ]
  },
  {
   "cell_type": "code",
   "execution_count": 9,
   "metadata": {},
   "outputs": [
    {
     "data": {
      "image/png": "[encoded data removed]",
      "text/latex": [
       "$$3 \\alpha \\operatorname{y_{0}}^{2}{\\left (t \\right )} - 2 \\alpha \\operatorname{y_{1}}{\\left (t \\right )} + \\frac{d^{2}}{d t^{2}} \\operatorname{y_{2}}{\\left (t \\right )}$$"
      ],
      "text/plain": [
       "  2                                \n",
       " d                             2   \n",
       "───(y₂(t)) - 2⋅α⋅y₁(t) + 3⋅α⋅y₀ (t)\n",
       "  2                                \n",
       "dt                                 "
      ]
     },
     "execution_count": 9,
     "metadata": {},
     "output_type": "execute_result"
    }
   ],
   "source": [
    "by_order[eps**2]"
   ]
  },
  {
   "cell_type": "code",
   "execution_count": 10,
   "metadata": {},
   "outputs": [
    {
     "data": {
      "image/png": "[encoded data removed]",
      "text/latex": [
       "$$\\operatorname{y_{2}}{\\left (t \\right )} = - \\frac{\\alpha t^{4} \\left(11 \\alpha^{2} t^{2} - 66 \\alpha t + 90\\right)}{360}$$"
      ],
      "text/plain": [
       "            4 ⎛                  2  2⎞ \n",
       "        -α⋅t ⋅⎝90 - 66⋅α⋅t + 11⋅α ⋅t ⎠ \n",
       "y₂(t) = ───────────────────────────────\n",
       "                      360              "
      ]
     },
     "execution_count": 10,
     "metadata": {},
     "output_type": "execute_result"
    }
   ],
   "source": [
    "try:\n",
    "    eqn = sym.Eq(by_order[eps**2].replace(y1, soln1.rhs).replace(y0, soln0.rhs))\n",
    "except NameError:\n",
    "    eqn = sym.Eq(by_order[eps**2].replace(y1, soln1.rhs))\n",
    "    \n",
    "soln2 = sym.dsolve(eqn, y2)\n",
    "constants = sym.solve([soln2.rhs.subs(t,0) - 0, \\\n",
    "                      soln2.rhs.diff(t,1).subs(t,0) - 0])\n",
    "C1, C2 = sym.symbols('C1 C2')\n",
    "soln2 = soln2.subs(constants)\n",
    "sym.factor(soln2)"
   ]
  },
  {
   "cell_type": "markdown",
   "metadata": {},
   "source": [
    "### $\\mathcal{O} \\left( \\epsilon^3 \\right) \\mbox{Solution}$"
   ]
  },
  {
   "cell_type": "code",
   "execution_count": 11,
   "metadata": {},
   "outputs": [
    {
     "data": {
      "image/png": "[encoded data removed]",
      "text/latex": [
       "$$- 4 \\alpha \\operatorname{y_{0}}^{3}{\\left (t \\right )} + 6 \\alpha \\operatorname{y_{0}}{\\left (t \\right )} \\operatorname{y_{1}}{\\left (t \\right )} - 2 \\alpha \\operatorname{y_{2}}{\\left (t \\right )} + \\frac{d^{2}}{d t^{2}} \\operatorname{y_{3}}{\\left (t \\right )}$$"
      ],
      "text/plain": [
       "  2                                                  \n",
       " d                                               3   \n",
       "───(y₃(t)) - 2⋅α⋅y₂(t) + 6⋅α⋅y₀(t)⋅y₁(t) - 4⋅α⋅y₀ (t)\n",
       "  2                                                  \n",
       "dt                                                   "
      ]
     },
     "execution_count": 11,
     "metadata": {},
     "output_type": "execute_result"
    }
   ],
   "source": [
    "by_order[eps**3]"
   ]
  },
  {
   "cell_type": "code",
   "execution_count": 12,
   "metadata": {
    "scrolled": true
   },
   "outputs": [
    {
     "data": {
      "image/png": "[encoded data removed]",
      "text/latex": [
       "$$\\operatorname{y_{3}}{\\left (t \\right )} = - \\frac{\\alpha t^{5} \\left(73 \\alpha^{3} t^{3} - 584 \\alpha^{2} t^{2} + 1428 \\alpha t - 1008\\right)}{5040}$$"
      ],
      "text/plain": [
       "            5 ⎛                        2  2       3  3⎞ \n",
       "        -α⋅t ⋅⎝-1008 + 1428⋅α⋅t - 584⋅α ⋅t  + 73⋅α ⋅t ⎠ \n",
       "y₃(t) = ────────────────────────────────────────────────\n",
       "                              5040                      "
      ]
     },
     "execution_count": 12,
     "metadata": {},
     "output_type": "execute_result"
    }
   ],
   "source": [
    "try:\n",
    "    eqn = sym.Eq(by_order[eps**3].replace(y2, soln2.rhs).replace(y1, soln1.rhs).replace(y0, soln0.rhs))\n",
    "except NameError:\n",
    "    eqn = sym.Eq(by_order[eps**3].replace(y2, soln2.rhs))\n",
    "    \n",
    "soln3 = sym.dsolve(eqn, y3)\n",
    "constants = sym.solve([soln3.rhs.subs(t,0) - 0, \\\n",
    "                      soln3.rhs.diff(t,1).subs(t,0) - 0])\n",
    "C1, C2 = sym.symbols('C1 C2')\n",
    "soln3 = soln3.subs(constants)\n",
    "sym.factor(soln3)"
   ]
  },
  {
   "cell_type": "markdown",
   "metadata": {},
   "source": [
    "### $\\mathcal{O} \\left( \\epsilon^4 \\right) \\mbox{Solution}$"
   ]
  },
  {
   "cell_type": "code",
   "execution_count": 13,
   "metadata": {},
   "outputs": [
    {
     "data": {
      "image/png": "[encoded data removed]",
      "text/latex": [
       "$$5 \\alpha \\operatorname{y_{0}}^{4}{\\left (t \\right )} - 12 \\alpha \\operatorname{y_{0}}^{2}{\\left (t \\right )} \\operatorname{y_{1}}{\\left (t \\right )} + 6 \\alpha \\operatorname{y_{0}}{\\left (t \\right )} \\operatorname{y_{2}}{\\left (t \\right )} + 3 \\alpha \\operatorname{y_{1}}^{2}{\\left (t \\right )} - 2 \\alpha \\operatorname{y_{3}}{\\left (t \\right )} + \\frac{d^{2}}{d t^{2}} \\operatorname{y_{4}}{\\left (t \\right )}$$"
      ],
      "text/plain": [
       "  2                                                                           \n",
       " d                             2                               2              \n",
       "───(y₄(t)) - 2⋅α⋅y₃(t) + 3⋅α⋅y₁ (t) + 6⋅α⋅y₀(t)⋅y₂(t) - 12⋅α⋅y₀ (t)⋅y₁(t) + 5⋅\n",
       "  2                                                                           \n",
       "dt                                                                            \n",
       "\n",
       "        \n",
       "    4   \n",
       "α⋅y₀ (t)\n",
       "        \n",
       "        "
      ]
     },
     "execution_count": 13,
     "metadata": {},
     "output_type": "execute_result"
    }
   ],
   "source": [
    "by_order[eps**4]"
   ]
  },
  {
   "cell_type": "code",
   "execution_count": 14,
   "metadata": {},
   "outputs": [
    {
     "data": {
      "image/png": "[encoded data removed]",
      "text/latex": [
       "$$\\operatorname{y_{4}}{\\left (t \\right )} = - \\frac{\\alpha t^{6} \\left(3548 \\alpha^{4} t^{4} - 35480 \\alpha^{3} t^{3} + 123525 \\alpha^{2} t^{2} - 171720 \\alpha t + 75600\\right)}{453600}$$"
      ],
      "text/plain": [
       "            6 ⎛                             2  2          3  3         4  4⎞ \n",
       "        -α⋅t ⋅⎝75600 - 171720⋅α⋅t + 123525⋅α ⋅t  - 35480⋅α ⋅t  + 3548⋅α ⋅t ⎠ \n",
       "y₄(t) = ─────────────────────────────────────────────────────────────────────\n",
       "                                        453600                               "
      ]
     },
     "execution_count": 14,
     "metadata": {},
     "output_type": "execute_result"
    }
   ],
   "source": [
    "try:\n",
    "    eqn = sym.Eq(by_order[eps**4].replace(y3, soln3.rhs).replace(\n",
    "        y2, soln2.rhs).replace(y1, soln1.rhs).replace(y0, soln0.rhs))\n",
    "except NameError:\n",
    "    eqn = sym.Eq(by_order[eps**4].replace(y3, soln3.rhs))\n",
    "    \n",
    "soln4 = sym.dsolve(eqn, y4)\n",
    "constants = sym.solve([soln4.rhs.subs(t,0) - 0, \\\n",
    "                      soln4.rhs.diff(t,1).subs(t,0) - 0])\n",
    "C1, C2 = sym.symbols('C1 C2')\n",
    "soln4 = soln4.subs(constants)\n",
    "sym.factor(soln4)"
   ]
  },
  {
   "cell_type": "markdown",
   "metadata": {},
   "source": [
    "### $\\mbox{Composite Solution}$"
   ]
  },
  {
   "cell_type": "code",
   "execution_count": 15,
   "metadata": {},
   "outputs": [
    {
     "name": "stdout",
     "output_type": "stream",
     "text": [
      "-alpha/2 + epsilon**4*(-887*alpha**5/113400 + 887*alpha**4/11340 - 61*alpha**3/224 + 53*alpha**2/140 - alpha/6) + epsilon**3*(-73*alpha**4/5040 + 73*alpha**3/630 - 17*alpha**2/60 + alpha/5) + epsilon**2*(-11*alpha**3/360 + 11*alpha**2/60 - alpha/4) + epsilon*(-alpha**2/12 + alpha/3) + 1\n"
     ]
    },
    {
     "data": {
      "image/png": "[encoded data removed]",
      "text/latex": [
       "$$\\operatorname{y_{comp}} = - \\frac{\\alpha t^{2}}{2} + \\epsilon^{4} \\left(- \\frac{887 \\alpha^{5} t^{10}}{113400} + \\frac{887 \\alpha^{4} t^{9}}{11340} - \\frac{61 \\alpha^{3} t^{8}}{224} + \\frac{53 \\alpha^{2} t^{7}}{140} - \\frac{\\alpha t^{6}}{6}\\right) + \\epsilon^{3} \\left(- \\frac{73 \\alpha^{4} t^{8}}{5040} + \\frac{73 \\alpha^{3} t^{7}}{630} - \\frac{17 \\alpha^{2} t^{6}}{60} + \\frac{\\alpha t^{5}}{5}\\right) + \\epsilon^{2} \\left(- \\frac{11 \\alpha^{3} t^{6}}{360} + \\frac{11 \\alpha^{2} t^{5}}{60} - \\frac{\\alpha t^{4}}{4}\\right) + \\epsilon \\left(- \\frac{\\alpha^{2} t^{4}}{12} + \\frac{\\alpha t^{3}}{3}\\right) + t$$"
      ],
      "text/plain": [
       "                 ⎛   3    2  4⎞      ⎛     4       2  5       3  6⎞      ⎛   5\n",
       "                 ⎜α⋅t    α ⋅t ⎟    2 ⎜  α⋅t    11⋅α ⋅t    11⋅α ⋅t ⎟    3 ⎜α⋅t \n",
       "y_{comp} = t + ε⋅⎜──── - ─────⎟ + ε ⋅⎜- ──── + ──────── - ────────⎟ + ε ⋅⎜────\n",
       "                 ⎝ 3       12 ⎠      ⎝   4        60        360   ⎠      ⎝ 5  \n",
       "\n",
       "       2  6       3  7       4  8⎞      ⎛     6       2  7       3  8        4\n",
       "   17⋅α ⋅t    73⋅α ⋅t    73⋅α ⋅t ⎟    4 ⎜  α⋅t    53⋅α ⋅t    61⋅α ⋅t    887⋅α \n",
       " - ──────── + ──────── - ────────⎟ + ε ⋅⎜- ──── + ──────── - ──────── + ──────\n",
       "      60        630        5040  ⎠      ⎝   6       140        224        1134\n",
       "\n",
       "  9        5  10⎞      2\n",
       "⋅t    887⋅α ⋅t  ⎟   α⋅t \n",
       "─── - ──────────⎟ - ────\n",
       "0       113400  ⎠    2  "
      ]
     },
     "execution_count": 15,
     "metadata": {},
     "output_type": "execute_result"
    }
   ],
   "source": [
    "y_comp = sym.symbols('y_{comp}', cls=sym.Function)\n",
    "try:\n",
    "    y_comp = sym.Eq(y_comp, soln0.rhs + eps*soln1.rhs + eps**2*soln2.rhs + eps**3*soln3.rhs + eps**4*soln4.rhs) # + eps**2*soln2.rhs)\n",
    "except NameError:\n",
    "    y_comp = sym.Eq(y_comp, eps*soln1.rhs + eps**2*soln2.rhs + eps**3*soln3.rhs + eps**4*soln4.rhs) # + eps**2*soln2.rhs)\n",
    "    \n",
    "#print(sym.latex(y_comp))\n",
    "print(str(y_comp.rhs.subs(t, 1)))\n",
    "y_comp\n"
   ]
  },
  {
   "cell_type": "markdown",
   "metadata": {},
   "source": [
    "### $\\mbox{The Trajectory}$"
   ]
  },
  {
   "cell_type": "code",
   "execution_count": 16,
   "metadata": {},
   "outputs": [],
   "source": [
    "def savefig(filename, pics):\n",
    "    if pics == True:\n",
    "        plt.savefig('../doc/figures/{}.pgf'.format(filename), bbox_inches='tight', dpi=400)\n",
    "    else:\n",
    "        pass\n",
    "pics = False"
   ]
  },
  {
   "cell_type": "code",
   "execution_count": 25,
   "metadata": {},
   "outputs": [
    {
     "data": {
      "text/plain": [
       "array([0.11181908, 0.25712708, 0.4620742 , 0.72666042])"
      ]
     },
     "execution_count": 25,
     "metadata": {},
     "output_type": "execute_result"
    }
   ],
   "source": [
    "d = 6.47/100\n",
    "R = np.linspace(0.00193, 0.00492, 4)\n",
    "phi = d**2/(2*np.pi*R**2)\n",
    "1/phi*20"
   ]
  },
  {
   "cell_type": "code",
   "execution_count": 22,
   "metadata": {
    "scrolled": false
   },
   "outputs": [
    {
     "name": "stderr",
     "output_type": "stream",
     "text": [
      "/home/erin/anaconda3/lib/python3.6/site-packages/ipykernel_launcher.py:23: DeprecationWarning: scipy.arange is deprecated and will be removed in SciPy 2.0.0, use numpy.arange instead\n",
      "No handles with labels found to put in legend.\n",
      "No handles with labels found to put in legend.\n",
      "No handles with labels found to put in legend.\n",
      "No handles with labels found to put in legend.\n"
     ]
    },
    {
     "data": {
      "image/png": "[encoded data removed]",
      "text/plain": [
       "<Figure size 720x576 with 4 Axes>"
      ]
     },
     "metadata": {
      "image/png": {
       "height": 584,
       "width": 740
      },
      "needs_background": "light"
     },
     "output_type": "display_data"
    }
   ],
   "source": [
    "import matplotlib.pyplot as plt\n",
    "import matplotlib\n",
    "import numpy as np\n",
    "import scipy as sp\n",
    "\n",
    "\n",
    "%config InlineBackend.figure_format = 'retina'\n",
    "#plt.rc('text', usetex=True)\n",
    "#plt.rc('font', family='serif')\n",
    "#plt.rcParams['figure.dpi'] = 300\n",
    "%matplotlib inline\n",
    "matplotlib.rcParams.update(\n",
    "{   'text.color': 'k',\n",
    "    'xtick.color': 'k',\n",
    "    'ytick.color': 'k',\n",
    "    'axes.labelcolor': 'k'\n",
    "})\n",
    "plt.rc('font', size=14)\n",
    "\n",
    "eps_val = [0.1, .2, .5, 1.][::-1]\n",
    "eps_val = np.linspace(0.87, 23.4, 4)[::-1]\n",
    "linestyle = ['rs--', 'bo-', 'cv-.', 'k+:', 'm']\n",
    "tt = sp.arange(0,3,0.001)\n",
    "al = [2, 1., .5, .01]\n",
    "al = phi\n",
    "\n",
    "fig, axs = plt.subplots(2,2, figsize=(10, 8), sharex='col', sharey='row')\n",
    "fig.subplots_adjust(hspace = .2, wspace=.2)\n",
    "axs = axs.ravel()\n",
    "i = 0\n",
    "for aas in al:\n",
    "    yc = y_comp.rhs.subs(alpha, aas)\n",
    "    #plt.figure(figsize=(6, 4), dpi=100)\n",
    "    for keys, vals in enumerate(eps_val):\n",
    "        y_compP = sym.lambdify(t, yc.subs(eps, vals), 'numpy')\n",
    "        if aas == 2:\n",
    "            label='$\\mathbf{E}\\mbox{u}=$'+ ' {}'.format(vals).rstrip('0').rstrip('.')\n",
    "        else:\n",
    "            label=None\n",
    "        axs[i].plot(tt, y_compP(tt), linestyle[keys],label=label,\n",
    "                 markevery=100)\n",
    "    axs[i].set_ylim(ymin=0., ymax=1)\n",
    "    axs[i].set_xlim(xmax=1.5)\n",
    "    axs[i].tick_params(axis='both', which='major', labelsize=16)\n",
    "    leg = axs[i].legend(title = r'$\\phi = $' + ' {:1.2f}'.format(aas).rstrip('0').rstrip('.'), loc=2)\n",
    "    leg.get_frame().set_linewidth(0.0)\n",
    "    i += 1\n",
    "\n",
    "fig.text(0.5, -0.01, r'$t^*$', ha='center', fontsize=20)\n",
    "fig.text(-0.03, 0.5, r'$y^*$', va='center', rotation='vertical', fontsize=20)\n",
    "fig.tight_layout()\n",
    "savefig('short_times', pics)\n",
    "plt.show()"
   ]
  },
  {
   "cell_type": "code",
   "execution_count": null,
   "metadata": {},
   "outputs": [],
   "source": [
    "eps_val = [.01, .1, 1.][::-1]\n",
    "linestyle = ['rs--', 'bo-', 'cv-.', 'k+:', 'm']\n",
    "tt = sp.arange(0,2.5,0.001)\n",
    "yc = y_comp.rhs.subs(alpha, eps*0.0121 + 0.2121)\n",
    "\n",
    "plt.figure(figsize=(6, 4))#, dpi=100)\n",
    "for keys, vals in enumerate(eps_val):\n",
    "    y_compP = sym.lambdify(t, yc.subs(eps, vals), 'numpy')\n",
    "    plt.plot(tt, y_compP(tt), linestyle[keys], label='$\\mathbf{E}\\mbox{u} =$'+ ' {}'.format(vals).rstrip('0').rstrip('.'),\n",
    "             markevery=100)\n",
    "plt.ylim(ymin=0., ymax=0.5)\n",
    "plt.xlim(xmax=2.05)\n",
    "plt.legend()\n",
    "\n",
    "plt.xlabel(r'$t^*$')\n",
    "plt.ylabel(r'$y^*$')\n",
    "#savefig('short_times_better', pics)\n",
    "plt.show()"
   ]
  },
  {
   "cell_type": "markdown",
   "metadata": {},
   "source": [
    "## Time aloft"
   ]
  },
  {
   "cell_type": "code",
   "execution_count": null,
   "metadata": {},
   "outputs": [],
   "source": [
    "y2 = sym.symbols('y2', cls=sym.Function)\n",
    "y2 = sym.Function('y2')(t)\n",
    "try:\n",
    "    y2 = sym.Eq(y2, soln0.rhs + eps*soln1.rhs + eps**2*soln2.rhs) # + eps**2*soln2.rhs)\n",
    "except NameError:\n",
    "    y2 = sym.Eq(y2, eps*soln1.rhs + eps**2*soln2.rhs)\n",
    "y2.rhs\n",
    "#y2.diff(t)"
   ]
  },
  {
   "cell_type": "code",
   "execution_count": null,
   "metadata": {},
   "outputs": [],
   "source": [
    "tau0, tau1, tau2 = sym.symbols('tau0 tau1 tau2')\n",
    "tau = sym.Eq(tau0 + eps*tau1 + eps**2*tau2)\n",
    "y3 = y2.rhs.subs(t, tau.lhs).series(eps)\n",
    "col = sym.collect(y3, eps, evaluate=False)"
   ]
  },
  {
   "cell_type": "markdown",
   "metadata": {},
   "source": [
    "### $\\mathcal{O} \\left( 1 \\right) \\mbox{Solution}$"
   ]
  },
  {
   "cell_type": "code",
   "execution_count": null,
   "metadata": {},
   "outputs": [],
   "source": [
    "#tau0 = 2\n",
    "sym.Eq(col[1].removeO())"
   ]
  },
  {
   "cell_type": "markdown",
   "metadata": {},
   "source": [
    "### $\\mathcal{O} \\left( \\epsilon \\right) \\mbox{Solution}$"
   ]
  },
  {
   "cell_type": "code",
   "execution_count": null,
   "metadata": {},
   "outputs": [],
   "source": [
    "order_eps = col[eps].subs(tau0, 2)\n",
    "order_eps \n",
    "soln_eps = sym.solve(order_eps, tau1)"
   ]
  },
  {
   "cell_type": "markdown",
   "metadata": {},
   "source": [
    "### $\\mathcal{O} \\left( \\epsilon^2 \\right) \\mbox{Solution}$"
   ]
  },
  {
   "cell_type": "code",
   "execution_count": null,
   "metadata": {},
   "outputs": [],
   "source": [
    "order_eps2 = col[eps**2].subs(tau0, 2).subs(tau1, soln_eps[0])\n",
    "order_eps2\n",
    "soln_eps2 = sym.solve(order_eps2, tau2)"
   ]
  },
  {
   "cell_type": "markdown",
   "metadata": {},
   "source": [
    "### Composite Solution\n",
    "Using the linear regression for Im."
   ]
  },
  {
   "cell_type": "code",
   "execution_count": null,
   "metadata": {},
   "outputs": [],
   "source": [
    "tau0, tau1, tau2 = sym.symbols('tau0 tau1 tau2')\n",
    "tau = sym.Eq(tau0 + eps*tau1 + eps**2*tau2)\n",
    "tau = tau.subs(tau0, 2).subs(tau1, soln_eps[0]).subs(tau2, soln_eps2[0])\n",
    "print(str(tau.subs(alpha, eps*0.0121 + 0.2121)))\n",
    "tau.subs(alpha, eps*0.0121 + 0.2121)"
   ]
  },
  {
   "cell_type": "code",
   "execution_count": null,
   "metadata": {},
   "outputs": [],
   "source": [
    "ttt = np.arange(0.01, 2.,0.001)\n",
    "#betas = [bet]\n",
    "linestyle = ['k','rs--', 'bo-', 'cv-.', 'k+:', 'm']\n",
    "plt.figure(figsize=(6, 4), dpi=100)\n",
    "\n",
    "#taun = tau.subs(beta, vals)\n",
    "tau_soln = sym.lambdify(eps, tau.lhs.subs(alpha, eps*0.0121 + 0.2121), 'numpy')\n",
    "plt.semilogx(ttt, tau_soln(ttt), 'k', markevery=100)\n",
    "plt.xlabel(r'$\\mathbf{E}\\mbox{u}$')\n",
    "plt.ylabel(r'$t_f$')\n",
    "#plt.legend()\n",
    "#savefig('drag', pics)\n",
    "plt.show();"
   ]
  },
  {
   "cell_type": "code",
   "execution_count": null,
   "metadata": {},
   "outputs": [],
   "source": []
  }
 ],
 "metadata": {
  "kernelspec": {
   "display_name": "Python 3",
   "language": "python",
   "name": "python3"
  },
  "language_info": {
   "codemirror_mode": {
    "name": "ipython",
    "version": 3
   },
   "file_extension": ".py",
   "mimetype": "text/x-python",
   "name": "python",
   "nbconvert_exporter": "python",
   "pygments_lexer": "ipython3",
   "version": "3.6.7"
  }
 },
 "nbformat": 4,
 "nbformat_minor": 2
}
