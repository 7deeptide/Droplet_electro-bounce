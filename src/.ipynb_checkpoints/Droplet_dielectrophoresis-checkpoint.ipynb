{
 "cells": [
  {
   "cell_type": "markdown",
   "metadata": {},
   "source": [
    "# Bouncing simulation\n",
    "The equation of motion is given by \n",
    "$$m\\frac{d^2y}{dt^2} = F_{EP} + F_{img} + F_{DEP} + F_{d}$$\n",
    "\n",
    "where\n",
    "$$f_{EP} = qE$$ and $$f_{DEP} = 2 \\pi  R_{drop}^3 \\epsilon_{air}  K  \\epsilon_0  \\nabla |E|^2$$\n",
    "\n",
    "In this geometry\n",
    "\n",
    "$$E = 2 \\pi k \\sigma \\left(1 - \\frac{z}{\\sqrt{z^2 + R^2}}\\right)$$\n",
    "and\n",
    "$$\\nabla |E|^2 = 2 (2 \\pi k \\sigma)^2 R^2 \\frac{z - \\sqrt{R^2 + z^2}}{(R^2 + z^2)^2} $$\n"
   ]
  },
  {
   "cell_type": "code",
   "execution_count": null,
   "metadata": {},
   "outputs": [],
   "source": [
    "import numpy as np\n",
    "\n",
    "#inputs\n",
    "V = 300\n",
    "d = 2.54/100\n",
    "sigma =145*1.1/3*5.5E-8      # charge density\n",
    "R = 2.54/200           # surface radius [m] \n",
    "q = 6*2.3*2E-11        # droplet net charge [C]\n",
    "volume = 0.06 #0.065  # droplet volume [mL]\n",
    "u0 = (15.3-1)/100          # droplet initial velocity [m/s]\n",
    "puddleness = 3/2\n",
    "m = 1000 * volume * 1E-6                          #droplet mass [kg]\n",
    "R_drop = (3 * volume * 1E-6/(np.pi * 4))**(1/3.)  #droplet radius [m]\n",
    "z0 = R_drop/puddleness\n",
    "\n",
    "#physical constants\n",
    "eta_0 = 8.85E-12       # vacuum permitivity \n",
    "k = 1/(4*np.pi*eta_0)  # Coulomb's constant\n",
    "global k, eta_0\n",
    "\n",
    "print('drop radius {:.2f} cm'.format(R_drop*100))\n",
    "#print(np.sqrt(q*R*sigma/eta_0))\n",
    "print('surface potential {:.2} '.format(V*eta_0/d))\n",
    "print('surface charge density {:.2} C/m^2'.format(sigma))\n",
    "print(q)"
   ]
  },
  {
   "cell_type": "code",
   "execution_count": null,
   "metadata": {
    "scrolled": false
   },
   "outputs": [],
   "source": [
    "def electric_field(z, R=R, sigma=sigma):\n",
    "    E = k * sigma * 2 * np.pi * (1 - z/np.sqrt(z**2. + R**2.))\n",
    "    #E = 664/(2.54/100)\n",
    "    del_E2 = 2 * (k * sigma * 2 * np.pi)**2. * R**2. * (z - np.sqrt(R**2. + z**2.))/(R**2. + z**2.)**2.\n",
    "    V = k * sigma * 2 * np.pi * (np.sqrt(z**2. + R**2.) - z)\n",
    "    E_sqr = 4*k*sigma*np.arctan(d**2/(2*z*np.sqrt(2*d**2 + 4*z**2)))\n",
    "    del_E_sqr2 = 32* k**2 *((-2* d**2)/(2 *d**2 + 4 *z**2)**(3/2) - d**2/(2 *z**2 *np.sqrt(2 *d**2 + 4* z**2))\\\n",
    "                            *sigma**2 *np.arctan(d**2/(2 *z *np.sqrt(2* d**2 + 4* z**2))))\\\n",
    "    /(1 + d**4/(4* z**2 *(2 *d**2 + 4 *z**2)))\n",
    "    return E, del_E2, V, E_sqr, del_E_sqr2\n",
    "\n",
    "print('Simulated fieldmeter reading {:.2f} kV'.format(electric_field(2.54/100)[2]/1000))\n",
    "print('Simulated fieldmeter reading {:.2f} kV/m'.format(electric_field(2.54/100)[0]/1000))\n",
    "\n",
    "# Plot the results\n",
    "import matplotlib\n",
    "import matplotlib.pyplot as plt\n",
    "from matplotlib import rc\n",
    "import pylab\n",
    "%config InlineBackend.figure_formats=['svg']\n",
    "%matplotlib inline\n",
    "#rc('font', **{'family': 'serif', 'serif': ['Computer Modern']})\n",
    "#rc('text', usetex=True)\n",
    "\n",
    "zz = np.linspace(0.00001, 3./100, 1000)              \n",
    "#zz = np.linspace(0, 4, 1000)\n",
    "plt.plot(zz*100, electric_field(zz)[2]/1000)\n",
    "plt.xlabel('z (cm)')\n",
    "plt.ylabel('Scalar Potential (kV)')\n",
    "plt.show()\n",
    "\n",
    "fig, ax1 = plt.subplots()\n",
    "ax1.plot(zz*100, electric_field(zz)[0]/1000, zz*100, electric_field(zz)[3]/1000)\n",
    "ax2 = ax1.twinx()\n",
    "ax2.plot(zz*100, np.multiply(electric_field(zz)[3],zz)/1000, 'r')\n",
    "ax1.set_xlabel('z (cm)')\n",
    "ax1.set_ylabel('Electric field (kV/m)')\n",
    "ax2.set_ylabel('Surface Voltage E*d (kV)')\n",
    "plt.show()\n",
    "\n",
    "plt.semilogy(zz*100, np.abs(electric_field(zz)[1]/1000), zz*100, np.abs(electric_field(zz)[4]/1000))\n",
    "plt.show()"
   ]
  },
  {
   "cell_type": "markdown",
   "metadata": {},
   "source": [
    "This looks correct!"
   ]
  },
  {
   "cell_type": "code",
   "execution_count": null,
   "metadata": {},
   "outputs": [],
   "source": [
    "def force_ep(z, q=q):\n",
    "    eta_a=3\n",
    "    im = -1/(16*np.pi*1*eta_0)*(1-eta_a)/(1+eta_a)*q**2/z**2\n",
    "    return q * electric_field(z)[3] + im\n",
    "\n",
    "def force_dep(z, R_drop=R_drop):\n",
    "    eta_air = 1.\n",
    "    eta_water = 90.\n",
    "    K = (eta_water - eta_air)/(eta_water + 2 * eta_air)\n",
    "    return -2 * np.pi * R_drop**3. * eta_air * K * eta_0 * electric_field(z)[4]\n",
    "\n",
    "def reynolds(v, R_drop=R_drop):\n",
    "    nu = 15.11E-6\n",
    "    D = R_drop * 2\n",
    "    return D*np.abs(v)/nu\n",
    "\n",
    "def drag(v, R_drop=R_drop):\n",
    "    rho = 1.225\n",
    "    Cd = 24/reynolds(v) + 5/np.sqrt(reynolds(v)) + 0.3\n",
    "    return Cd*2*rho*np.pi*R_drop**2*v**2\n",
    "    \n",
    "print('DEP {}'.format(force_dep(R_drop/3)))\n",
    "print('EP {}'.format(force_ep(R_drop/3)))"
   ]
  },
  {
   "cell_type": "code",
   "execution_count": null,
   "metadata": {
    "collapsed": true
   },
   "outputs": [],
   "source": [
    "# model data\n",
    "def exp_data(x):\n",
    "    v = -11.281*x**5 + 66.22*x**4 - 145.47*x**3 + 148.49*x**2 - 70.216*x + 15.301\n",
    "    a = -11.281*5*x**4 + 66.22*4*x**3 - 145.47*3*x**2 + 148.49*2*x - 70.216\n",
    "    y = 15.301*x - 35.108*x**2 + 49.4967*x**3 - 36.3675*x**4 + 13.244 *x**5 - 1.88017* x**6\n",
    "    return v, a, y"
   ]
  },
  {
   "cell_type": "code",
   "execution_count": null,
   "metadata": {
    "scrolled": false
   },
   "outputs": [],
   "source": [
    "x = np.array([R_drop/puddleness]).tolist()\n",
    "v = [u0]\n",
    "t = [0]\n",
    "EP = [force_ep(x[0])]\n",
    "DEP = [force_dep(x[0])]\n",
    "a = [(-EP[0] - DEP[0])/m]\n",
    "re = [reynolds(v[0])]\n",
    "drg = [drag(v[0])]\n",
    "\n",
    "dt = 0.00001\n",
    "    \n",
    "while x[-1] >= R_drop/puddleness and t[-1] <= 1.6:\n",
    "    a.append((-EP[-1] - DEP[-1] - drg[-1])/m)\n",
    "    v.append(a[-1]*dt + v[-1])\n",
    "    x.append(v[-1]*dt + x[-1])\n",
    "    EP.append(force_ep(x[-1]))\n",
    "    DEP.append(force_dep(x[-1]))\n",
    "    re.append(reynolds(v[-1]))\n",
    "    drg.append(drag(v[-1]))\n",
    "    t.append(t[-1] + dt)\n",
    "\n",
    "EP  = np.array(EP)\n",
    "DEP = np.array(DEP)\n",
    "a   = np.array(a)\n",
    "v   = np.array(v)\n",
    "x   = np.array(x)\n",
    "t   = np.array(t)\n",
    "re  = np.array(re)\n",
    "\n",
    "# plotting\n",
    "pylab.rcParams['figure.figsize'] = (8.0, 15.0)\n",
    "f, (ax1, ax2, ax3, ax4, ax5, ax6, ax7, ax8) = plt.subplots(8, sharex=True)\n",
    "ax1.plot(t, v*100, t, exp_data(t)[0])\n",
    "ax1.set_ylabel(\"Velocity (cm/s)\")\n",
    "ax2.plot(t, x*100, t, exp_data(t)[2])\n",
    "ax2.set_ylabel(\"Position (cm)\")\n",
    "ax3.plot(t, a*100, t, exp_data(t)[1])\n",
    "ax3.set_ylabel(\"Acceleration (cm/s^2)\")\n",
    "ax6.plot(t, EP/DEP)\n",
    "ax6.set_ylabel(\"Force ratio\")\n",
    "plt.ticklabel_format(style='sci', axis='y', scilimits=(0,0))\n",
    "ax4.plot(t, DEP)\n",
    "ax4.set_ylabel(\"Dielectrophoresis force (N)\")\n",
    "ax5.plot(t, EP)\n",
    "ax5.set_ylabel(\"Electrophoresis force (N)\")\n",
    "ax7.plot(t, re)\n",
    "ax8.plot(t, drg)\n",
    "ax6.set_xlabel(\"t (s)\")\n",
    "f.tight_layout()\n",
    "plt.show()"
   ]
  },
  {
   "cell_type": "code",
   "execution_count": null,
   "metadata": {},
   "outputs": [],
   "source": [
    "plt.figure(figsize=(9,5))\n",
    "plt.plot(x*100, a*100, x*100, exp_data(t)[1])\n",
    "plt.show"
   ]
  },
  {
   "cell_type": "code",
   "execution_count": null,
   "metadata": {},
   "outputs": [],
   "source": [
    "ratio = EP[0]/(DEP[0] + drg[0])\n",
    "print(ratio)"
   ]
  },
  {
   "cell_type": "code",
   "execution_count": null,
   "metadata": {
    "collapsed": true
   },
   "outputs": [],
   "source": [
    "import scipy.integrate as int\n",
    "\n",
    "def f(y, t, params):\n",
    "    z, u = y      # unpack current values of y\n",
    "    m, R_drop, sigma, q = params # unpack parameters   \n",
    "    derivs = [u, (-force_dep(z) - force_ep(z) - drag(u))/m] # list of dy/dt=f functions\n",
    "    return derivs\n",
    "\n",
    "# Initial values\n",
    "z0 = z0    # initial displacement\n",
    "u0 = u0     # initial velocity\n",
    "\n",
    "# Bundle parameters for ODE solver\n",
    "params = [m, R_drop, sigma, q]\n",
    "\n",
    "# Bundle initial conditions for ODE solver\n",
    "y0 = [z0, u0]\n",
    "\n",
    "# Make time array for solution\n",
    "tStop = 2.2\n",
    "tInc = 0.0005\n",
    "t_rk = np.arange(0., tStop, tInc)\n",
    "\n",
    "# Call the ODE solver\n",
    "psoln = int.odeint(f, y0, t_rk, args=(params,))"
   ]
  },
  {
   "cell_type": "code",
   "execution_count": null,
   "metadata": {},
   "outputs": [],
   "source": [
    "# Plot results\n",
    "fig = plt.figure(1, figsize=(8,8))\n",
    "\n",
    "# Plot theta as a function of time\n",
    "ax1 = fig.add_subplot(311)\n",
    "ax1.plot(t_rk, psoln[:,0]*100, t_rk, exp_data(t_rk)[2])\n",
    "ax1.set_xlabel('time')\n",
    "ax1.set_ylabel('position')\n",
    "\n",
    "# Plot omega as a function of time\n",
    "ax2 = fig.add_subplot(312)\n",
    "ax2.plot(t_rk, psoln[:,1]*100)\n",
    "ax2.set_xlabel('time')\n",
    "ax2.set_ylabel('velocity')\n",
    "\n",
    "plt.tight_layout()\n",
    "plt.show()"
   ]
  },
  {
   "cell_type": "code",
   "execution_count": null,
   "metadata": {},
   "outputs": [],
   "source": [
    "# Plot omega vs theta\n",
    "plt.figure(figsize=(9,5))\n",
    "plt.plot(psoln[:,0], psoln[:,1], '.', ms=1)\n",
    "plt.xlabel('z (cm)')\n",
    "plt.ylabel('u (cm/s)')\n",
    "plt.show()"
   ]
  },
  {
   "cell_type": "markdown",
   "metadata": {},
   "source": [
    "Need to get acceleration from psoln, make notes about integrator, methods..."
   ]
  },
  {
   "cell_type": "code",
   "execution_count": 1,
   "metadata": {},
   "outputs": [
    {
     "ename": "TypeError",
     "evalue": "'NoneType' object is not subscriptable",
     "output_type": "error",
     "traceback": [
      "\u001b[0;31m---------------------------------------------------------------------------\u001b[0m",
      "\u001b[0;31mTypeError\u001b[0m                                 Traceback (most recent call last)",
      "\u001b[0;32m<ipython-input-1-81d4a1b9f9ba>\u001b[0m in \u001b[0;36m<module>\u001b[0;34m()\u001b[0m\n\u001b[1;32m      3\u001b[0m \u001b[0;34m\u001b[0m\u001b[0m\n\u001b[1;32m      4\u001b[0m \u001b[0my\u001b[0m\u001b[0;34m,\u001b[0m \u001b[0mz\u001b[0m\u001b[0;34m,\u001b[0m \u001b[0mnu\u001b[0m\u001b[0;34m,\u001b[0m \u001b[0ma\u001b[0m \u001b[0;34m=\u001b[0m \u001b[0msymbols\u001b[0m\u001b[0;34m(\u001b[0m\u001b[0;34m'y z nu a'\u001b[0m\u001b[0;34m)\u001b[0m\u001b[0;34m\u001b[0m\u001b[0m\n\u001b[0;32m----> 5\u001b[0;31m \u001b[0mnu\u001b[0m\u001b[0;34m*\u001b[0m\u001b[0mintegrate\u001b[0m\u001b[0;34m(\u001b[0m\u001b[0mz\u001b[0m\u001b[0;34m/\u001b[0m\u001b[0;34m(\u001b[0m\u001b[0;34m(\u001b[0m\u001b[0mz\u001b[0m\u001b[0;34m**\u001b[0m\u001b[0;36m2\u001b[0m \u001b[0;34m+\u001b[0m \u001b[0my\u001b[0m\u001b[0;34m**\u001b[0m\u001b[0;36m2\u001b[0m\u001b[0;34m)\u001b[0m\u001b[0;34m*\u001b[0m\u001b[0msqrt\u001b[0m\u001b[0;34m(\u001b[0m\u001b[0mz\u001b[0m\u001b[0;34m**\u001b[0m\u001b[0;36m2\u001b[0m \u001b[0;34m+\u001b[0m \u001b[0my\u001b[0m\u001b[0;34m**\u001b[0m\u001b[0;36m2\u001b[0m \u001b[0;34m+\u001b[0m \u001b[0ma\u001b[0m\u001b[0;34m**\u001b[0m\u001b[0;36m2\u001b[0m\u001b[0;34m/\u001b[0m\u001b[0;36m4\u001b[0m\u001b[0;34m)\u001b[0m\u001b[0;34m)\u001b[0m\u001b[0;34m,\u001b[0m \u001b[0;34m(\u001b[0m\u001b[0my\u001b[0m\u001b[0;34m,\u001b[0m\u001b[0;36m0\u001b[0m\u001b[0;34m,\u001b[0m\u001b[0ma\u001b[0m\u001b[0;34m/\u001b[0m\u001b[0;36m2\u001b[0m\u001b[0;34m)\u001b[0m\u001b[0;34m)\u001b[0m\u001b[0;34m\u001b[0m\u001b[0m\n\u001b[0m",
      "\u001b[0;32m/home/erin/anaconda3/lib/python3.6/site-packages/sympy/integrals/integrals.py\u001b[0m in \u001b[0;36mintegrate\u001b[0;34m(*args, **kwargs)\u001b[0m\n\u001b[1;32m   1278\u001b[0m     \u001b[0;32mif\u001b[0m \u001b[0misinstance\u001b[0m\u001b[0;34m(\u001b[0m\u001b[0mintegral\u001b[0m\u001b[0;34m,\u001b[0m \u001b[0mIntegral\u001b[0m\u001b[0;34m)\u001b[0m\u001b[0;34m:\u001b[0m\u001b[0;34m\u001b[0m\u001b[0m\n\u001b[1;32m   1279\u001b[0m         return integral.doit(deep=False, meijerg=meijerg, conds=conds,\n\u001b[0;32m-> 1280\u001b[0;31m                              risch=risch, manual=manual)\n\u001b[0m\u001b[1;32m   1281\u001b[0m     \u001b[0;32melse\u001b[0m\u001b[0;34m:\u001b[0m\u001b[0;34m\u001b[0m\u001b[0m\n\u001b[1;32m   1282\u001b[0m         \u001b[0;32mreturn\u001b[0m \u001b[0mintegral\u001b[0m\u001b[0;34m\u001b[0m\u001b[0m\n",
      "\u001b[0;32m/home/erin/anaconda3/lib/python3.6/site-packages/sympy/integrals/integrals.py\u001b[0m in \u001b[0;36mdoit\u001b[0;34m(self, **hints)\u001b[0m\n\u001b[1;32m    484\u001b[0m                     \u001b[0mfunction\u001b[0m\u001b[0;34m,\u001b[0m \u001b[0mxab\u001b[0m\u001b[0;34m[\u001b[0m\u001b[0;36m0\u001b[0m\u001b[0;34m]\u001b[0m\u001b[0;34m,\u001b[0m\u001b[0;34m\u001b[0m\u001b[0m\n\u001b[1;32m    485\u001b[0m                     \u001b[0mmeijerg\u001b[0m\u001b[0;34m=\u001b[0m\u001b[0mmeijerg1\u001b[0m\u001b[0;34m,\u001b[0m \u001b[0mrisch\u001b[0m\u001b[0;34m=\u001b[0m\u001b[0mrisch\u001b[0m\u001b[0;34m,\u001b[0m \u001b[0mmanual\u001b[0m\u001b[0;34m=\u001b[0m\u001b[0mmanual\u001b[0m\u001b[0;34m,\u001b[0m\u001b[0;34m\u001b[0m\u001b[0m\n\u001b[0;32m--> 486\u001b[0;31m                     conds=conds)\n\u001b[0m\u001b[1;32m    487\u001b[0m                 \u001b[0;32mif\u001b[0m \u001b[0mantideriv\u001b[0m \u001b[0;32mis\u001b[0m \u001b[0;32mNone\u001b[0m \u001b[0;32mand\u001b[0m \u001b[0mmeijerg1\u001b[0m \u001b[0;32mis\u001b[0m \u001b[0;32mTrue\u001b[0m\u001b[0;34m:\u001b[0m\u001b[0;34m\u001b[0m\u001b[0m\n\u001b[1;32m    488\u001b[0m                     \u001b[0mret\u001b[0m \u001b[0;34m=\u001b[0m \u001b[0mtry_meijerg\u001b[0m\u001b[0;34m(\u001b[0m\u001b[0mfunction\u001b[0m\u001b[0;34m,\u001b[0m \u001b[0mxab\u001b[0m\u001b[0;34m)\u001b[0m\u001b[0;34m\u001b[0m\u001b[0m\n",
      "\u001b[0;32m/home/erin/anaconda3/lib/python3.6/site-packages/sympy/integrals/integrals.py\u001b[0m in \u001b[0;36m_eval_integral\u001b[0;34m(self, f, x, meijerg, risch, manual, conds)\u001b[0m\n\u001b[1;32m    910\u001b[0m             \u001b[0;32mif\u001b[0m \u001b[0mh\u001b[0m \u001b[0;32mis\u001b[0m \u001b[0;32mNone\u001b[0m \u001b[0;32mand\u001b[0m \u001b[0mmanual\u001b[0m \u001b[0;32mis\u001b[0m \u001b[0;32mnot\u001b[0m \u001b[0;32mFalse\u001b[0m\u001b[0;34m:\u001b[0m\u001b[0;34m\u001b[0m\u001b[0m\n\u001b[1;32m    911\u001b[0m                 \u001b[0;32mtry\u001b[0m\u001b[0;34m:\u001b[0m\u001b[0;34m\u001b[0m\u001b[0m\n\u001b[0;32m--> 912\u001b[0;31m                     \u001b[0mresult\u001b[0m \u001b[0;34m=\u001b[0m \u001b[0mmanualintegrate\u001b[0m\u001b[0;34m(\u001b[0m\u001b[0mg\u001b[0m\u001b[0;34m,\u001b[0m \u001b[0mx\u001b[0m\u001b[0;34m)\u001b[0m\u001b[0;34m\u001b[0m\u001b[0m\n\u001b[0m\u001b[1;32m    913\u001b[0m                     \u001b[0;32mif\u001b[0m \u001b[0mresult\u001b[0m \u001b[0;32mis\u001b[0m \u001b[0;32mnot\u001b[0m \u001b[0;32mNone\u001b[0m \u001b[0;32mand\u001b[0m \u001b[0;32mnot\u001b[0m \u001b[0misinstance\u001b[0m\u001b[0;34m(\u001b[0m\u001b[0mresult\u001b[0m\u001b[0;34m,\u001b[0m \u001b[0mIntegral\u001b[0m\u001b[0;34m)\u001b[0m\u001b[0;34m:\u001b[0m\u001b[0;34m\u001b[0m\u001b[0m\n\u001b[1;32m    914\u001b[0m                         \u001b[0;32mif\u001b[0m \u001b[0mresult\u001b[0m\u001b[0;34m.\u001b[0m\u001b[0mhas\u001b[0m\u001b[0;34m(\u001b[0m\u001b[0mIntegral\u001b[0m\u001b[0;34m)\u001b[0m\u001b[0;34m:\u001b[0m\u001b[0;34m\u001b[0m\u001b[0m\n",
      "\u001b[0;32m/home/erin/anaconda3/lib/python3.6/site-packages/sympy/integrals/manualintegrate.py\u001b[0m in \u001b[0;36mmanualintegrate\u001b[0;34m(f, var)\u001b[0m\n\u001b[1;32m   1143\u001b[0m     \u001b[0msympy\u001b[0m\u001b[0;34m.\u001b[0m\u001b[0mintegrals\u001b[0m\u001b[0;34m.\u001b[0m\u001b[0mintegrals\u001b[0m\u001b[0;34m.\u001b[0m\u001b[0mIntegral\u001b[0m\u001b[0;34m\u001b[0m\u001b[0m\n\u001b[1;32m   1144\u001b[0m     \"\"\"\n\u001b[0;32m-> 1145\u001b[0;31m     \u001b[0;32mreturn\u001b[0m \u001b[0m_manualintegrate\u001b[0m\u001b[0;34m(\u001b[0m\u001b[0mintegral_steps\u001b[0m\u001b[0;34m(\u001b[0m\u001b[0mf\u001b[0m\u001b[0;34m,\u001b[0m \u001b[0mvar\u001b[0m\u001b[0;34m)\u001b[0m\u001b[0;34m)\u001b[0m\u001b[0;34m\u001b[0m\u001b[0m\n\u001b[0m",
      "\u001b[0;32m/home/erin/anaconda3/lib/python3.6/site-packages/sympy/integrals/manualintegrate.py\u001b[0m in \u001b[0;36mintegral_steps\u001b[0;34m(integrand, symbol, **options)\u001b[0m\n\u001b[1;32m    944\u001b[0m             \u001b[0mnull_safe\u001b[0m\u001b[0;34m(\u001b[0m\u001b[0mtrig_substitution_rule\u001b[0m\u001b[0;34m)\u001b[0m\u001b[0;34m\u001b[0m\u001b[0m\n\u001b[1;32m    945\u001b[0m         ),\n\u001b[0;32m--> 946\u001b[0;31m         fallback_rule)(integral)\n\u001b[0m\u001b[1;32m    947\u001b[0m     \u001b[0;32mdel\u001b[0m \u001b[0m_integral_cache\u001b[0m\u001b[0;34m[\u001b[0m\u001b[0mcachekey\u001b[0m\u001b[0;34m]\u001b[0m\u001b[0;34m\u001b[0m\u001b[0m\n\u001b[1;32m    948\u001b[0m     \u001b[0;32mreturn\u001b[0m \u001b[0mresult\u001b[0m\u001b[0;34m\u001b[0m\u001b[0m\n",
      "\u001b[0;32m/home/erin/anaconda3/lib/python3.6/site-packages/sympy/strategies/core.py\u001b[0m in \u001b[0;36mdo_one_rl\u001b[0;34m(expr)\u001b[0m\n\u001b[1;32m     83\u001b[0m     \u001b[0;32mdef\u001b[0m \u001b[0mdo_one_rl\u001b[0m\u001b[0;34m(\u001b[0m\u001b[0mexpr\u001b[0m\u001b[0;34m)\u001b[0m\u001b[0;34m:\u001b[0m\u001b[0;34m\u001b[0m\u001b[0m\n\u001b[1;32m     84\u001b[0m         \u001b[0;32mfor\u001b[0m \u001b[0mrl\u001b[0m \u001b[0;32min\u001b[0m \u001b[0mrules\u001b[0m\u001b[0;34m:\u001b[0m\u001b[0;34m\u001b[0m\u001b[0m\n\u001b[0;32m---> 85\u001b[0;31m             \u001b[0mresult\u001b[0m \u001b[0;34m=\u001b[0m \u001b[0mrl\u001b[0m\u001b[0;34m(\u001b[0m\u001b[0mexpr\u001b[0m\u001b[0;34m)\u001b[0m\u001b[0;34m\u001b[0m\u001b[0m\n\u001b[0m\u001b[1;32m     86\u001b[0m             \u001b[0;32mif\u001b[0m \u001b[0mresult\u001b[0m \u001b[0;34m!=\u001b[0m \u001b[0mexpr\u001b[0m\u001b[0;34m:\u001b[0m\u001b[0;34m\u001b[0m\u001b[0m\n\u001b[1;32m     87\u001b[0m                 \u001b[0;32mreturn\u001b[0m \u001b[0mresult\u001b[0m\u001b[0;34m\u001b[0m\u001b[0m\n",
      "\u001b[0;32m/home/erin/anaconda3/lib/python3.6/site-packages/sympy/strategies/core.py\u001b[0m in \u001b[0;36mdo_one_rl\u001b[0;34m(expr)\u001b[0m\n\u001b[1;32m     83\u001b[0m     \u001b[0;32mdef\u001b[0m \u001b[0mdo_one_rl\u001b[0m\u001b[0;34m(\u001b[0m\u001b[0mexpr\u001b[0m\u001b[0;34m)\u001b[0m\u001b[0;34m:\u001b[0m\u001b[0;34m\u001b[0m\u001b[0m\n\u001b[1;32m     84\u001b[0m         \u001b[0;32mfor\u001b[0m \u001b[0mrl\u001b[0m \u001b[0;32min\u001b[0m \u001b[0mrules\u001b[0m\u001b[0;34m:\u001b[0m\u001b[0;34m\u001b[0m\u001b[0m\n\u001b[0;32m---> 85\u001b[0;31m             \u001b[0mresult\u001b[0m \u001b[0;34m=\u001b[0m \u001b[0mrl\u001b[0m\u001b[0;34m(\u001b[0m\u001b[0mexpr\u001b[0m\u001b[0;34m)\u001b[0m\u001b[0;34m\u001b[0m\u001b[0m\n\u001b[0m\u001b[1;32m     86\u001b[0m             \u001b[0;32mif\u001b[0m \u001b[0mresult\u001b[0m \u001b[0;34m!=\u001b[0m \u001b[0mexpr\u001b[0m\u001b[0;34m:\u001b[0m\u001b[0;34m\u001b[0m\u001b[0m\n\u001b[1;32m     87\u001b[0m                 \u001b[0;32mreturn\u001b[0m \u001b[0mresult\u001b[0m\u001b[0;34m\u001b[0m\u001b[0m\n",
      "\u001b[0;32m/home/erin/anaconda3/lib/python3.6/site-packages/sympy/strategies/core.py\u001b[0m in \u001b[0;36mnull_safe_rl\u001b[0;34m(expr)\u001b[0m\n\u001b[1;32m     63\u001b[0m     \u001b[0;34m\"\"\" Return original expr if rule returns None \"\"\"\u001b[0m\u001b[0;34m\u001b[0m\u001b[0m\n\u001b[1;32m     64\u001b[0m     \u001b[0;32mdef\u001b[0m \u001b[0mnull_safe_rl\u001b[0m\u001b[0;34m(\u001b[0m\u001b[0mexpr\u001b[0m\u001b[0;34m)\u001b[0m\u001b[0;34m:\u001b[0m\u001b[0;34m\u001b[0m\u001b[0m\n\u001b[0;32m---> 65\u001b[0;31m         \u001b[0mresult\u001b[0m \u001b[0;34m=\u001b[0m \u001b[0mrule\u001b[0m\u001b[0;34m(\u001b[0m\u001b[0mexpr\u001b[0m\u001b[0;34m)\u001b[0m\u001b[0;34m\u001b[0m\u001b[0m\n\u001b[0m\u001b[1;32m     66\u001b[0m         \u001b[0;32mif\u001b[0m \u001b[0mresult\u001b[0m \u001b[0;32mis\u001b[0m \u001b[0;32mNone\u001b[0m\u001b[0;34m:\u001b[0m\u001b[0;34m\u001b[0m\u001b[0m\n\u001b[1;32m     67\u001b[0m             \u001b[0;32mreturn\u001b[0m \u001b[0mexpr\u001b[0m\u001b[0;34m\u001b[0m\u001b[0m\n",
      "\u001b[0;32m/home/erin/anaconda3/lib/python3.6/site-packages/sympy/integrals/manualintegrate.py\u001b[0m in \u001b[0;36mtrig_substitution_rule\u001b[0;34m(integral)\u001b[0m\n\u001b[1;32m    688\u001b[0m         \u001b[0;32mfor\u001b[0m \u001b[0mexpr\u001b[0m \u001b[0;32min\u001b[0m \u001b[0mmatches\u001b[0m\u001b[0;34m:\u001b[0m\u001b[0;34m\u001b[0m\u001b[0m\n\u001b[1;32m    689\u001b[0m             \u001b[0mmatch\u001b[0m \u001b[0;34m=\u001b[0m \u001b[0mexpr\u001b[0m\u001b[0;34m.\u001b[0m\u001b[0mmatch\u001b[0m\u001b[0;34m(\u001b[0m\u001b[0ma\u001b[0m \u001b[0;34m+\u001b[0m \u001b[0mb\u001b[0m\u001b[0;34m*\u001b[0m\u001b[0msymbol\u001b[0m\u001b[0;34m**\u001b[0m\u001b[0;36m2\u001b[0m\u001b[0;34m)\u001b[0m\u001b[0;34m\u001b[0m\u001b[0m\n\u001b[0;32m--> 690\u001b[0;31m             \u001b[0ma\u001b[0m \u001b[0;34m=\u001b[0m \u001b[0mmatch\u001b[0m\u001b[0;34m[\u001b[0m\u001b[0ma\u001b[0m\u001b[0;34m]\u001b[0m\u001b[0;34m\u001b[0m\u001b[0m\n\u001b[0m\u001b[1;32m    691\u001b[0m             \u001b[0mb\u001b[0m \u001b[0;34m=\u001b[0m \u001b[0mmatch\u001b[0m\u001b[0;34m[\u001b[0m\u001b[0mb\u001b[0m\u001b[0;34m]\u001b[0m\u001b[0;34m\u001b[0m\u001b[0m\n\u001b[1;32m    692\u001b[0m \u001b[0;34m\u001b[0m\u001b[0m\n",
      "\u001b[0;31mTypeError\u001b[0m: 'NoneType' object is not subscriptable"
     ]
    }
   ],
   "source": [
    "from sympy import *\n",
    "init_printing()\n",
    "\n",
    "y, z, nu, a = symbols('y z nu a')\n",
    "nu*integrate(z/((z**2 + y**2)*sqrt(z**2 + y**2 + a**2/4)), (y,0,a/2))"
   ]
  },
  {
   "cell_type": "code",
   "execution_count": 3,
   "metadata": {},
   "outputs": [
    {
     "name": "stdout",
     "output_type": "stream",
     "text": [
      "a\n"
     ]
    }
   ],
   "source": [
    "print(a)"
   ]
  },
  {
   "cell_type": "markdown",
   "metadata": {},
   "source": [
    "Perhaps I need a substution of some kind."
   ]
  },
  {
   "cell_type": "code",
   "execution_count": null,
   "metadata": {},
   "outputs": [],
   "source": [
    "z = np.linspace(0.0001,10/100,1000)\n",
    "a = d\n",
    "k = 1/(4*np.pi*eta_0)\n",
    "def E(z):\n",
    "    return 4*k*sigma*np.arctan(a**2/(2*z*(2*a**2 + 4*z**2)**(1/2)))\n",
    "\n",
    "#k, sigma, a, z, = symbols('k, sigma, a, z')\n",
    "#pprint(4*k*sigma*atan(a**2/(2*z*(2*a**2 + 4*z**2)**(1/2))))\n",
    "%matplotlib inline\n",
    "plt.figure\n",
    "plt.loglog(z, E(z)/(sigma/(2*np.pi*eta_0)))\n",
    "#plt.autoscale(enable=True, axis='y', tight=True)\n",
    "plt.autoscale(enable=True, axis='x', tight=True)\n",
    "plt.show()\n"
   ]
  },
  {
   "cell_type": "code",
   "execution_count": null,
   "metadata": {
    "collapsed": true
   },
   "outputs": [],
   "source": []
  }
 ],
 "metadata": {
  "kernelspec": {
   "display_name": "Python 3",
   "language": "python",
   "name": "python3"
  },
  "language_info": {
   "codemirror_mode": {
    "name": "ipython",
    "version": 3
   },
   "file_extension": ".py",
   "mimetype": "text/x-python",
   "name": "python",
   "nbconvert_exporter": "python",
   "pygments_lexer": "ipython3",
   "version": "3.6.1"
  }
 },
 "nbformat": 4,
 "nbformat_minor": 2
}
