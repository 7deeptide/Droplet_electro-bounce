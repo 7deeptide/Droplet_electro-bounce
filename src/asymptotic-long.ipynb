{
 "cells": [
  {
   "cell_type": "markdown",
   "metadata": {},
   "source": [
    "# $ \\mbox{Asymptotic methods with SymPy}$"
   ]
  },
  {
   "cell_type": "markdown",
   "metadata": {},
   "source": [
    "Projectile motion in a non-homogenous potential field with drag is described by the equation\n",
    "\n",
    "$$y_{\\tau \\tau} + \\alpha \\epsilon y_{\\tau} + \\frac{1}{(1 + \\epsilon y)^2} = 0,$$\n",
    "\n",
    "with $y(0) = \\epsilon$ and $y_{\\tau}(0)=1$, and where $\\epsilon \\ll 1$ is expected."
   ]
  },
  {
   "cell_type": "code",
   "execution_count": 1,
   "metadata": {},
   "outputs": [],
   "source": [
    "import sympy as sym\n",
    "from sympy import init_printing\n",
    "init_printing() "
   ]
  },
  {
   "cell_type": "code",
   "execution_count": 2,
   "metadata": {},
   "outputs": [],
   "source": [
    "y, eps, a, b, tau, t, alpha = sym.symbols('y, epsilon, a, b, tau, t, alpha')\n",
    "y0 = sym.Function('y0')(t)\n",
    "y1 = sym.Function('y1')(t)\n",
    "y2 = sym.Function('y2')(t)\n",
    "y3 = sym.Function('y3')(t)\n",
    "y4 = sym.Function('y4')(t)"
   ]
  },
  {
   "cell_type": "code",
   "execution_count": null,
   "metadata": {},
   "outputs": [
    {
     "data": {
      "image/png": "[encoded data removed]",
      "text/latex": [
       "$$\\epsilon^{4} \\operatorname{y_{4}}{\\left (t \\right )} + \\epsilon^{3} \\operatorname{y_{3}}{\\left (t \\right )} + \\epsilon^{2} \\operatorname{y_{2}}{\\left (t \\right )} + \\epsilon \\operatorname{y_{1}}{\\left (t \\right )} + \\operatorname{y_{0}}{\\left (t \\right )} = 0$$"
      ],
      "text/plain": [
       " 4          3          2                            \n",
       "ε ⋅y₄(t) + ε ⋅y₃(t) + ε ⋅y₂(t) + ε⋅y₁(t) + y₀(t) = 0"
      ]
     },
     "execution_count": 3,
     "metadata": {},
     "output_type": "execute_result"
    }
   ],
   "source": [
    "y = sym.Eq(y0 + eps*y1 + eps**2*y2 + eps**3*y3 + eps**4*y4) # naive expansion\n",
    "\n",
    "class f(sym.Function):\n",
    "    \n",
    "    @classmethod\n",
    "    def eval(cls, y):\n",
    "        return y.lhs.diff(t,t) + alpha*eps*y.lhs.diff(t)**2 + 1/(1 + eps*y.lhs)**2\n",
    "        #return y.lhs.diff(tau, tau) + eps/y.lhs**2\n",
    "y"
   ]
  },
  {
   "cell_type": "code",
   "execution_count": null,
   "metadata": {},
   "outputs": [],
   "source": [
    "the_series = sym.series(f(y), eps, x0=0, n=5)\n",
    "by_order = sym.collect(the_series, eps, evaluate=False)\n",
    "the_series"
   ]
  },
  {
   "cell_type": "markdown",
   "metadata": {},
   "source": [
    "### $\\mathcal{O} \\left( 1 \\right) \\mbox{Solution}$"
   ]
  },
  {
   "cell_type": "code",
   "execution_count": null,
   "metadata": {},
   "outputs": [],
   "source": [
    "sym.Eq(by_order[1].removeO())"
   ]
  },
  {
   "cell_type": "code",
   "execution_count": null,
   "metadata": {},
   "outputs": [],
   "source": [
    "eqn = sym.Eq(by_order[1].removeO())    #1 + y0(tau).diff(tau, tau))\n",
    "soln0 = sym.dsolve(eqn, y0)\n",
    "constants = sym.solve([soln0.rhs.subs(t,0) - 0, \\\n",
    "                      soln0.rhs.diff(t).subs(t,0) - 1])\n",
    "C1, C2 = sym.symbols('C1 C2')\n",
    "soln0 = soln0.subs(constants)\n",
    "soln0"
   ]
  },
  {
   "cell_type": "markdown",
   "metadata": {},
   "source": [
    "### $\\mathcal{O} \\left( \\epsilon \\right) \\mbox{Solution}$"
   ]
  },
  {
   "cell_type": "code",
   "execution_count": null,
   "metadata": {},
   "outputs": [],
   "source": [
    "by_order[eps]"
   ]
  },
  {
   "cell_type": "markdown",
   "metadata": {},
   "source": [
    "Note, this looks like an Autonomous equation."
   ]
  },
  {
   "cell_type": "code",
   "execution_count": null,
   "metadata": {},
   "outputs": [],
   "source": [
    "try:\n",
    "    eqn = sym.Eq(by_order[eps].replace(y0, soln0.rhs))\n",
    "except NameError:\n",
    "    eqn = sym.Eq(by_order[eps])\n",
    "    \n",
    "soln1 = sym.dsolve(eqn, y1)\n",
    "constants = sym.solve([soln1.rhs.subs(t,0) - 0, \\\n",
    "                      soln1.rhs.diff(t,1).subs(t,0) - 0])\n",
    "C1, C2 = sym.symbols('C1 C2')\n",
    "soln1 = soln1.subs(constants)\n",
    "soln1\n"
   ]
  },
  {
   "cell_type": "markdown",
   "metadata": {},
   "source": [
    "### $\\mathcal{O} \\left( \\epsilon^2 \\right) \\mbox{Solution}$"
   ]
  },
  {
   "cell_type": "code",
   "execution_count": null,
   "metadata": {},
   "outputs": [],
   "source": [
    "by_order[eps**2]"
   ]
  },
  {
   "cell_type": "code",
   "execution_count": null,
   "metadata": {},
   "outputs": [],
   "source": [
    "try:\n",
    "    eqn = sym.Eq(by_order[eps**2].replace(y1, soln1.rhs).replace(y0, soln0.rhs))\n",
    "except NameError:\n",
    "    eqn = sym.Eq(by_order[eps**2].replace(y1, soln1.rhs))\n",
    "    \n",
    "soln2 = sym.dsolve(eqn, y2)\n",
    "constants = sym.solve([soln2.rhs.subs(t,0) - 0, \\\n",
    "                      soln2.rhs.diff(t,1).subs(t,0) - 0])\n",
    "C1, C2 = sym.symbols('C1 C2')\n",
    "soln2 = soln2.subs(constants)\n",
    "sym.factor(soln2)"
   ]
  },
  {
   "cell_type": "markdown",
   "metadata": {},
   "source": [
    "Non-linear term in the ODE, could linearize it, or add the numerical solution to the composite solution after lambda-ifying..."
   ]
  },
  {
   "cell_type": "markdown",
   "metadata": {},
   "source": [
    "### $\\mathcal{O} \\left( \\epsilon^3 \\right) \\mbox{Solution}$"
   ]
  },
  {
   "cell_type": "code",
   "execution_count": null,
   "metadata": {},
   "outputs": [],
   "source": [
    "by_order[eps**3]"
   ]
  },
  {
   "cell_type": "code",
   "execution_count": null,
   "metadata": {
    "scrolled": true
   },
   "outputs": [],
   "source": [
    "try:\n",
    "    eqn = sym.Eq(by_order[eps**3].replace(y2, soln2.rhs).replace(y1, soln1.rhs).replace(y0, soln0.rhs))\n",
    "except NameError:\n",
    "    eqn = sym.Eq(by_order[eps**3].replace(y2, soln2.rhs))\n",
    "    \n",
    "soln3 = sym.dsolve(eqn, y3)\n",
    "constants = sym.solve([soln3.rhs.subs(t,0) - 0, \\\n",
    "                      soln3.rhs.diff(t,1).subs(t,0) - 0])\n",
    "C1, C2 = sym.symbols('C1 C2')\n",
    "soln3 = soln3.subs(constants)\n",
    "sym.factor(soln3)"
   ]
  },
  {
   "cell_type": "markdown",
   "metadata": {},
   "source": [
    "### $\\mathcal{O} \\left( \\epsilon^4 \\right) \\mbox{Solution}$"
   ]
  },
  {
   "cell_type": "code",
   "execution_count": null,
   "metadata": {},
   "outputs": [],
   "source": [
    "by_order[eps**4]"
   ]
  },
  {
   "cell_type": "code",
   "execution_count": null,
   "metadata": {},
   "outputs": [],
   "source": [
    "try:\n",
    "    eqn = sym.Eq(by_order[eps**4].replace(y3, soln3.rhs).replace(\n",
    "        y2, soln2.rhs).replace(y1, soln1.rhs).replace(y0, soln0.rhs))\n",
    "except NameError:\n",
    "    eqn = sym.Eq(by_order[eps**4].replace(y3, soln3.rhs))\n",
    "    \n",
    "soln4 = sym.dsolve(eqn, y4)\n",
    "constants = sym.solve([soln4.rhs.subs(t,0) - 0, \\\n",
    "                      soln4.rhs.diff(t,1).subs(t,0) - 0])\n",
    "C1, C2 = sym.symbols('C1 C2')\n",
    "soln4 = soln4.subs(constants)\n",
    "sym.factor(soln4)"
   ]
  },
  {
   "cell_type": "markdown",
   "metadata": {},
   "source": [
    "### $\\mbox{Composite Solution}$"
   ]
  },
  {
   "cell_type": "code",
   "execution_count": null,
   "metadata": {},
   "outputs": [],
   "source": [
    "y_comp = sym.symbols('y_{comp}', cls=sym.Function)\n",
    "try:\n",
    "    y_comp = sym.Eq(y_comp, soln0.rhs + eps*soln1.rhs + eps**2*soln2.rhs + eps**3*soln3.rhs + eps**4*soln4.rhs) # + eps**2*soln2.rhs)\n",
    "except NameError:\n",
    "    y_comp = sym.Eq(y_comp, eps*soln1.rhs + eps**2*soln2.rhs + eps**3*soln3.rhs + eps**4*soln4.rhs) # + eps**2*soln2.rhs)\n",
    "    \n",
    "sym.latex(y_comp)\n",
    "y_comp"
   ]
  },
  {
   "cell_type": "markdown",
   "metadata": {},
   "source": [
    "### $\\mbox{The Trajectory}$"
   ]
  },
  {
   "cell_type": "code",
   "execution_count": null,
   "metadata": {
    "scrolled": false
   },
   "outputs": [],
   "source": [
    "import matplotlib.pyplot as plt\n",
    "import numpy as np\n",
    "import scipy as sp\n",
    "\n",
    "%config InlineBackend.figure_format = 'retina'\n",
    "plt.rc('text', usetex=True)\n",
    "plt.rc('font', family='serif')\n",
    "\n",
    "eps_val = [.001, .01, .1, 1.][::-1]\n",
    "linestyle = ['rs--', 'bo-', 'cv-.', 'k+:', 'm']\n",
    "tt = sp.arange(0,1,0.001)\n",
    "al = .5*1/1000\n",
    "plt.figure(figsize=(6, 4), dpi=100)\n",
    "for keys, vals in enumerate(eps_val):\n",
    "    y_compP = sym.lambdify(t, y_comp.rhs.subs(eps, vals).subs(alpha, al), 'numpy')\n",
    "    plt.plot(tt, y_compP(tt), linestyle[keys],label='$\\epsilon$ = {}'.format(vals).rstrip('0').rstrip('.')\n",
    "             , markevery=len(tt)/10)\n",
    "\n",
    "plt.ylim(ymin=0., ymax=0.7)\n",
    "plt.xlim(xmax=1)\n",
    "plt.ylabel(r'y(t)')\n",
    "plt.xlabel(r't')\n",
    "plt.legend(title = r'  $\\beta$ = {:1.0E}'.format(al)[:-4] + r'$\\times 10^{-4}$')\n",
    "plt.show()"
   ]
  },
  {
   "cell_type": "markdown",
   "metadata": {},
   "source": [
    "## Time aloft"
   ]
  },
  {
   "cell_type": "code",
   "execution_count": null,
   "metadata": {},
   "outputs": [],
   "source": [
    "y2 = sym.symbols('y2', cls=sym.Function)\n",
    "y2 = sym.Function('y2')(t)\n",
    "try:\n",
    "    y2 = sym.Eq(y2, soln0.rhs + eps*soln1.rhs + eps**2*soln2.rhs) # + eps**2*soln2.rhs)\n",
    "except NameError:\n",
    "    y2 = sym.Eq(y2, eps*soln1.rhs + eps**2*soln2.rhs)\n",
    "y2.rhs\n",
    "#y2.diff(t)"
   ]
  },
  {
   "cell_type": "code",
   "execution_count": null,
   "metadata": {},
   "outputs": [],
   "source": [
    "tau0, tau1, tau2 = sym.symbols('tau0 tau1 tau2')\n",
    "tau = sym.Eq(tau0 + eps*tau1 + eps**2*tau2)\n",
    "y3 = y2.rhs.subs(t, tau.lhs).series(eps)\n",
    "col = sym.collect(y3, eps, evaluate=False)\n",
    "y3"
   ]
  },
  {
   "cell_type": "markdown",
   "metadata": {},
   "source": [
    "### $\\mathcal{O} \\left( 1 \\right) \\mbox{Solution}$"
   ]
  },
  {
   "cell_type": "code",
   "execution_count": null,
   "metadata": {},
   "outputs": [],
   "source": [
    "#tau0 = 2\n",
    "sym.Eq(col[1].removeO())"
   ]
  },
  {
   "cell_type": "markdown",
   "metadata": {},
   "source": [
    "Two roots, lets look at $\\tau_0 = 2$."
   ]
  },
  {
   "cell_type": "markdown",
   "metadata": {},
   "source": [
    "### $\\mathcal{O} \\left( \\epsilon \\right) \\mbox{Solution}$"
   ]
  },
  {
   "cell_type": "code",
   "execution_count": null,
   "metadata": {},
   "outputs": [],
   "source": [
    "order_eps = col[eps].subs(tau0, 2)\n",
    "order_eps "
   ]
  },
  {
   "cell_type": "code",
   "execution_count": null,
   "metadata": {},
   "outputs": [],
   "source": [
    "soln_eps = sym.solve(order_eps, tau1)\n",
    "tau1 = soln_eps[0]"
   ]
  },
  {
   "cell_type": "markdown",
   "metadata": {},
   "source": [
    "### $\\mathcal{O} \\left( \\epsilon^2 \\right) \\mbox{Solution}$"
   ]
  },
  {
   "cell_type": "code",
   "execution_count": null,
   "metadata": {},
   "outputs": [],
   "source": [
    "order_eps2 = col[eps**2].subs(tau0, 2).subs(tau1, soln_eps[0])\n",
    "order_eps2"
   ]
  },
  {
   "cell_type": "code",
   "execution_count": null,
   "metadata": {},
   "outputs": [],
   "source": [
    "soln_eps2 = sym.solve(order_eps2, tau2)\n",
    "tau2 = soln_eps2[0]"
   ]
  },
  {
   "cell_type": "markdown",
   "metadata": {},
   "source": [
    "### Composite solution"
   ]
  },
  {
   "cell_type": "code",
   "execution_count": null,
   "metadata": {},
   "outputs": [],
   "source": [
    "tau = sym.Eq(tau0 + eps*tau1 + eps**2*tau2)\n",
    "tau"
   ]
  },
  {
   "cell_type": "markdown",
   "metadata": {},
   "source": [
    "## Drag vs. inertia"
   ]
  },
  {
   "cell_type": "code",
   "execution_count": null,
   "metadata": {},
   "outputs": [],
   "source": [
    "t, V = sym.symbols('t V', real=True, positive=True)\n",
    "u = sym.symbols('u', cls=sym.Function)\n",
    "eq = sym.diff(u(t), t) + u(t)**2\n",
    "sol = sym.dsolve(eq, u(t))\n",
    "print(sol.rhs)\n",
    "u = sol.rhs"
   ]
  },
  {
   "cell_type": "code",
   "execution_count": null,
   "metadata": {},
   "outputs": [],
   "source": [
    "C1, C2 = sym.symbols('C1 C2')\n",
    "eq = sym.Eq(u.subs(t, 0), V)\n",
    "sol = sym.solve(eq, C1)[0]\n",
    "print(sol)\n",
    "print(u.subs(C1, sol))"
   ]
  },
  {
   "cell_type": "code",
   "execution_count": null,
   "metadata": {},
   "outputs": [],
   "source": [
    "tt = np.arange(0.01,1.,0.001)\n",
    "plt.figure(figsize=(6, 4), dpi=100)\n",
    "u_soln = sym.lambdify(t, u.subs(C1, sol).subs(V,1.), 'numpy')\n",
    "plt.semilogy(tt, u_soln(tt), 'k')\n",
    "plt.show();"
   ]
  },
  {
   "cell_type": "code",
   "execution_count": null,
   "metadata": {},
   "outputs": [],
   "source": []
  }
 ],
 "metadata": {
  "kernelspec": {
   "display_name": "Python 3",
   "language": "python",
   "name": "python3"
  },
  "language_info": {
   "codemirror_mode": {
    "name": "ipython",
    "version": 3
   },
   "file_extension": ".py",
   "mimetype": "text/x-python",
   "name": "python",
   "nbconvert_exporter": "python",
   "pygments_lexer": "ipython3",
   "version": "3.6.2"
  }
 },
 "nbformat": 4,
 "nbformat_minor": 2
}
