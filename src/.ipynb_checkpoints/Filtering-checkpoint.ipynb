{
 "cells": [
  {
   "cell_type": "markdown",
   "metadata": {},
   "source": [
    "# Getting derivatives of a noisy non-analytic function\n",
    "Using this notebook to qualitativly compare several filtering schemes.\n",
    "\n",
    "## Importing the raw data from csv\n",
    "\n",
    "One thing is that we need to know the cutoff indices of the useful frames of each sequence."
   ]
  },
  {
   "cell_type": "code",
   "execution_count": 2,
   "metadata": {},
   "outputs": [
    {
     "ename": "FileNotFoundError",
     "evalue": "[Errno 2] No such file or directory: 'position_data.csv'",
     "output_type": "error",
     "traceback": [
      "\u001b[0;31m---------------------------------------------------------------------------\u001b[0m",
      "\u001b[0;31mFileNotFoundError\u001b[0m                         Traceback (most recent call last)",
      "\u001b[0;32m<ipython-input-2-1735abd427d0>\u001b[0m in \u001b[0;36m<module>\u001b[0;34m()\u001b[0m\n\u001b[1;32m      4\u001b[0m \u001b[0my\u001b[0m \u001b[0;34m=\u001b[0m \u001b[0;34m[\u001b[0m\u001b[0;34m]\u001b[0m\u001b[0;34m\u001b[0m\u001b[0m\n\u001b[1;32m      5\u001b[0m \u001b[0mt\u001b[0m \u001b[0;34m=\u001b[0m \u001b[0;34m[\u001b[0m\u001b[0;34m]\u001b[0m\u001b[0;34m\u001b[0m\u001b[0m\n\u001b[0;32m----> 6\u001b[0;31m \u001b[0mf\u001b[0m \u001b[0;34m=\u001b[0m \u001b[0mopen\u001b[0m\u001b[0;34m(\u001b[0m\u001b[0;34m'position_data.csv'\u001b[0m\u001b[0;34m)\u001b[0m\u001b[0;34m\u001b[0m\u001b[0m\n\u001b[0m\u001b[1;32m      7\u001b[0m \u001b[0mdroplet_position_data\u001b[0m \u001b[0;34m=\u001b[0m \u001b[0mcsv\u001b[0m\u001b[0;34m.\u001b[0m\u001b[0mreader\u001b[0m\u001b[0;34m(\u001b[0m\u001b[0mf\u001b[0m\u001b[0;34m,\u001b[0m \u001b[0mdelimiter\u001b[0m\u001b[0;34m=\u001b[0m\u001b[0;34m','\u001b[0m\u001b[0;34m)\u001b[0m\u001b[0;34m\u001b[0m\u001b[0m\n\u001b[1;32m      8\u001b[0m \u001b[0mnext\u001b[0m\u001b[0;34m(\u001b[0m\u001b[0mdroplet_position_data\u001b[0m\u001b[0;34m)\u001b[0m\u001b[0;34m\u001b[0m\u001b[0m\n",
      "\u001b[0;31mFileNotFoundError\u001b[0m: [Errno 2] No such file or directory: 'position_data.csv'"
     ]
    }
   ],
   "source": [
    "import csv\n",
    "import numpy as np\n",
    "\n",
    "y = []\n",
    "t = []\n",
    "f = open('position_data.csv')\n",
    "droplet_position_data = csv.reader(f, delimiter=',')\n",
    "next(droplet_position_data)\n",
    "for row in droplet_position_data:\n",
    "    y.append(row[0])\n",
    "    t.append(row[1])\n",
    "\n",
    "dt= float(t[0])\n",
    "y = np.array(y[4:-2]).astype(float)\n",
    "t = np.array(t[4:-2]).astype(float)\n",
    "\n",
    "# plot with matplotlib\n",
    "import matplotlib\n",
    "import matplotlib.pyplot as plt\n",
    "from matplotlib import rc\n",
    "%config InlineBackend.figure_formats=['svg']\n",
    "%matplotlib inline\n",
    "\n",
    "plt.plot(t,y)\n",
    "plt.xlabel('t (s)')\n",
    "plt.ylabel('y positon (cm)')"
   ]
  },
  {
   "cell_type": "markdown",
   "metadata": {},
   "source": [
    "## Convolution with the derivative of a gaussian kernel"
   ]
  },
  {
   "cell_type": "code",
   "execution_count": null,
   "metadata": {},
   "outputs": [],
   "source": [
    "from scipy import ndimage\n",
    "\n",
    "#Normalization:\n",
    "dt = t[1] - t[0] # use np.diff(x) if x is not uniform\n",
    "dtdt = dt**2\n",
    "\n",
    "#First derivatives:\n",
    "dy = np.diff(y) / dt\n",
    "cy = np.convolve(y, [1,-1]) / dt\n",
    "gy = ndimage.gaussian_filter1d(y, sigma=1, order=1, mode='wrap') / dt\n",
    "\n",
    "#Second derivatives:\n",
    "ddy = np.diff(y, 2) / dtdt\n",
    "ccy = np.convolve(y, [1, -2, 1]) / dtdt\n",
    "ggy = ndimage.gaussian_filter1d(y, sigma=1, order=2, mode='wrap') / dtdt\n",
    "\n",
    "#Plotting:\n",
    "plt.figure()\n",
    "axes = plt.gca()\n",
    "axes.set_ylim([-25,25])\n",
    "#plt.plot(t, y, 'k', lw=2, label='original')\n",
    "plt.plot(t[:-1], dy, 'g.', label='np.diff, 1')\n",
    "#plt.plot(t, cy[:-1], 'b--', label='np.convolve, [1,-1]')\n",
    "plt.plot(t, gy, 'r', label='gaussian, 1')\n",
    "#plt.plot(t[:-2], ddy, 'g.', label='np.diff, 2')\n",
    "#plt.plot(t, ccy[:-2], 'g--', label='np.convolve, [1,-2,1]')\n",
    "#plt.plot(t, ggy, 'g', label='gaussian, 2')"
   ]
  },
  {
   "cell_type": "markdown",
   "metadata": {},
   "source": [
    "## Wiener Filtering"
   ]
  },
  {
   "cell_type": "code",
   "execution_count": null,
   "metadata": {},
   "outputs": [],
   "source": [
    "from scipy import signal\n",
    "wiener_y = signal.wiener(y, mysize=20, noise=0.05)\n",
    "wiener_y2 = signal.wiener(wiener_y, mysize=10, noise=0.05)\n",
    "wiener_y3 = signal.wiener(wiener_y2, mysize=6, noise=0.005)\n",
    "wiener_y4 = signal.wiener(wiener_y3, mysize=4, noise=0.005)\n",
    "wiener_y5 = signal.wiener(wiener_y4, mysize=2, noise=0.005)\n",
    "\n",
    "plt.plot(t,y , 'k.')\n",
    "plt.plot(t,wiener_y5, 'r')\n",
    "plt.xlabel('t (s)')\n",
    "plt.ylabel('y positon (cm)')"
   ]
  },
  {
   "cell_type": "code",
   "execution_count": null,
   "metadata": {},
   "outputs": [],
   "source": [
    "n = 0\n",
    "dy2 = signal.wiener(np.diff(wiener_y5[n:]), mysize=3, noise=0.05 ) / dt\n",
    "\n",
    "plt.figure()\n",
    "plt.plot(t[n:-1],dy2)\n",
    "plt.xlabel('t (s)')\n",
    "plt.ylabel('y velocity (cm/s)')\n",
    "axes = plt.gca()\n",
    "axes.set_xlim([0,1.5])\n",
    "axes.set_ylim([-6,17])\n",
    "#plt.plot(x, f, 'k', lw=2, label='original')\n",
    "plt.plot(t[:-1], dy, 'r.', label='np.diff, 1')\n",
    "#plt.plot(x[:-2], ddf, 'g.', label='np.diff, 2')"
   ]
  },
  {
   "cell_type": "code",
   "execution_count": null,
   "metadata": {},
   "outputs": [],
   "source": [
    "ddy2 = signal.wiener(np.diff(wiener_y5[n:],2), mysize=80, noise=0.005) / dtdt\n",
    "#ddy2 = np.diff(wiener_y5[n:],2)/dtdt\n",
    "\n",
    "\n",
    "plt.figure()\n",
    "plt.plot(t[n:-20],ddy2[:-18])\n",
    "plt.xlabel('t (s)')\n",
    "plt.ylabel('y positon (cm)')\n",
    "axes = plt.gca()\n",
    "#axes.set_xlim([0.1,1.5])\n",
    "#axes.set_ylim([-75,20])\n",
    "#plt.plot(x, f, 'k', lw=2, label='original')\n",
    "#plt.plot(t[:-1], df, 'r', label='np.diff, 1')\n",
    "#plt.plot(x[:-2], ddf, 'g.', label='np.diff, 2')"
   ]
  },
  {
   "cell_type": "markdown",
   "metadata": {},
   "source": [
    "How do I pick the 'mysize' parameter?"
   ]
  },
  {
   "cell_type": "markdown",
   "metadata": {},
   "source": [
    "## Spline fits"
   ]
  },
  {
   "cell_type": "code",
   "execution_count": null,
   "metadata": {},
   "outputs": [],
   "source": [
    "from scipy.interpolate import UnivariateSpline\n",
    "npts = len(t)\n",
    "k = 5 # 5th degree spline\n",
    "s = npts - np.sqrt(2*npts) # smoothing factor\n",
    "print(s)\n",
    "\n",
    "spline_0 = UnivariateSpline(t, wiener_y5, k=k, s=.2)\n",
    "spline_1 = UnivariateSpline(t, wiener_y5, k=k, s=.2).derivative(n=1)\n",
    "spline_2 = UnivariateSpline(t, wiener_y5, k=k, s=.2).derivative(n=2)\n",
    "\n",
    "# plot data, spline fit, and derivatives\n",
    "fig = plt.figure()\n",
    "ax = fig.add_subplot(111)\n",
    "\n",
    "#ax.plot(t, y, 'ko', ms=2, label='data')\n",
    "#ax.plot(t, spline_0(t), 'k', label='5th deg spline')\n",
    "ax.plot(t, spline_1(t), 'r', label='1st order derivative')\n",
    "ax.plot(t, spline_2(t), 'g', label='2nd order derivative')\n",
    "ax.plot(t[n:-20],dy2[:-19])\n",
    "ax.plot(t[n:-20],ddy2[:-18])\n",
    "\n",
    "ax.legend(loc='best')\n",
    "ax.grid()\n",
    "\n",
    "fig = plt.figure()\n",
    "ax = fig.add_subplot(111)\n",
    "\n",
    "ax.plot(t, wiener_y5, 'ko', ms=2, label='data')\n",
    "ax.plot(t, spline_0(t), 'r', label='5th deg spline')"
   ]
  },
  {
   "cell_type": "markdown",
   "metadata": {},
   "source": [
    "There might be something crazy going on here (e.g. the velocity is actually INCREASING), or is it an artefact of the data? Also: check these derivatives as a function of time. Note: limited to 5-order spline (or 4-order derivatives, but those may note be noticible with the resolution of my data anyway). Aslo I need a rule of thumb fo rpicking the smoothing factor, which is technically true for Gaussian convolution as well."
   ]
  },
  {
   "cell_type": "markdown",
   "metadata": {},
   "source": [
    "## FFT"
   ]
  },
  {
   "cell_type": "code",
   "execution_count": null,
   "metadata": {},
   "outputs": [],
   "source": [
    "from scipy.fftpack import fft\n",
    "\n",
    "f = fft(y)\n",
    "p = np.log(np.real(f * np.conj(f)))\n",
    "plt.plot(p)"
   ]
  },
  {
   "cell_type": "markdown",
   "metadata": {},
   "source": [
    "Data is non-periodic..."
   ]
  },
  {
   "cell_type": "markdown",
   "metadata": {},
   "source": [
    "## Savitzky-Golay Filtering"
   ]
  },
  {
   "cell_type": "code",
   "execution_count": null,
   "metadata": {},
   "outputs": [],
   "source": [
    "#yt = np.column_stack((y,t))\n",
    "y_savgol = signal.savgol_filter(y, 25, 3, deriv=0, axis=0)\n",
    "y_savgol1 = signal.savgol_filter(y_savgol, 25, 3, deriv=0, axis=0)\n",
    "y_savgol2 = signal.savgol_filter(y_savgol1, 25, 3, deriv=0, axis=0)\n",
    "y_savgol3 = signal.savgol_filter(y_savgol2, 25, 3, deriv=0, axis=0)\n",
    "dy_savgol = signal.savgol_filter(y_savgol3, 25, 3, deriv=1, axis=0)/dt\n",
    "ddy_savgol = signal.savgol_filter(y_savgol3, 25, 3, deriv=2, axis=0)/dtdt\n",
    "\n",
    "plt.figure()\n",
    "\n",
    "plt.xlabel('t (s)')\n",
    "plt.ylabel('y positon (cm)')\n",
    "axes = plt.gca()\n",
    "#axes.set_xlim([0,1.5])\n",
    "#axes.set_ylim([-100,20])\n",
    "#plt.plot(t[1:-20],df2[1:-19])\n",
    "plt.plot(t, y, 'ko', ms=2, label='data')\n",
    "#plt.plot(t, spline_0(t), 'r', label='5th deg spline')\n",
    "#plt.plot(t,wiener_y)\n",
    "plt.plot(t[1:-1],y_savgol3[1:-1])"
   ]
  },
  {
   "cell_type": "code",
   "execution_count": null,
   "metadata": {},
   "outputs": [],
   "source": [
    "spline_0 = UnivariateSpline(t, y_savgol3, k=k, s=s)\n",
    "spline_1 = UnivariateSpline(t, y_savgol3, k=k, s=s).derivative(n=1)\n",
    "spline_2 = UnivariateSpline(t, y_savgol3, k=k, s=s).derivative(n=2)\n",
    "\n",
    "# plot data, spline fit, and derivatives\n",
    "fig = plt.figure()\n",
    "ax = fig.add_subplot(111)\n",
    "\n",
    "#ax.plot(t, y, 'ko', ms=2, label='data')\n",
    "#ax.plot(t, spline_0(t), 'k', label='5th deg spline')\n",
    "ax.plot(t, spline_1(t), 'r', label='1st order derivative')\n",
    "ax.plot(t, spline_2(t), 'g', label='2nd order derivative')\n",
    "ax.plot(t,dy_savgol)\n",
    "ax.plot(t,ddy_savgol)\n"
   ]
  },
  {
   "cell_type": "code",
   "execution_count": null,
   "metadata": {},
   "outputs": [],
   "source": [
    "plt.plot(y_savgol3,ddy_savgol)"
   ]
  },
  {
   "cell_type": "markdown",
   "metadata": {},
   "source": [
    "## Big grab bag of methods"
   ]
  },
  {
   "cell_type": "code",
   "execution_count": null,
   "metadata": {},
   "outputs": [],
   "source": [
    "from scipy.interpolate import UnivariateSpline\n",
    "from scipy.signal import wiener, filtfilt, butter, gaussian, freqz\n",
    "from scipy.ndimage import filters\n",
    "#import scipy.optimize as op\n",
    "\n",
    "#def ssqe(sm, s, npts):\n",
    " #   return np.sqrt(np.sum(np.power(s-sm,2)))/npts\n",
    "\n",
    "def testGauss(x, y, npts):\n",
    "    b = gaussian(39, 10)\n",
    "    #ga = filtfilt(b/b.sum(), [1.0], y)\n",
    "    ga = filters.convolve1d(y, b/b.sum())\n",
    "    plt.plot(x, ga)\n",
    "    #print(\"gaerr\", ssqe(ga, s, npts))\n",
    "    return ga\n",
    "\n",
    "def testButterworth(nyf, x, y, npts):\n",
    "    b, a = butter(4, 1.5/nyf)\n",
    "    fl = filtfilt(b, a, y)\n",
    "    plt.plot(x,fl)\n",
    "    #print(\"flerr\", ssqe(fl, s, npts))\n",
    "    return fl\n",
    "\n",
    "def testWiener(x, y, npts):\n",
    "    wi = wiener(y, mysize=29, noise=0.5)\n",
    "    plt.plot(x,wi)\n",
    "    #print \"wieerr\", ssqe(wi, s, npts)\n",
    "    return wi\n",
    "\n",
    "def testSpline(x, y, npts):\n",
    "    #s = npts * (rmserror * np.fabs(y).max())**2\n",
    "    sp = UnivariateSpline(x, y, k=5, s=20*2)\n",
    "    dsp = UnivariateSpline(x, y, k=5, s=20*2).derivative(n=1)\n",
    "    ddsp = UnivariateSpline(x, y, k=5, s=20*2).derivative(n=2)\n",
    "    #plt.plot(x,sp(x))\n",
    "    #print \"splerr\", ssqe(sp(x), s, npts)\n",
    "    return sp(x), dsp(x), ddsp(x)\n",
    "\n",
    "def plotPowerSpectrum(y, w):\n",
    "    ft = np.fft.rfft(y)\n",
    "    ps = np.real(ft*np.conj(ft))*np.square(dt)\n",
    "    plt.plot(w, ps)\n",
    "\n",
    "if __name__ == '__main__':\n",
    "    npts = len(t)\n",
    "    end = 8\n",
    "    #dt = end/float(npts)\n",
    "    nyf = 0.5/dt\n",
    "    sigma = 0.5 \n",
    "    x = t #np.linspace(0,end,npts)\n",
    "    r = np.random.normal(scale = sigma, size=(npts))\n",
    "    #s = np.sin(2*np.pi*x)#+np.sin(4*2*np.pi*x)\n",
    "    #y = s + r\n",
    "   # plt.plot(x,s)\n",
    "   # plt.plot(x,y,ls='none',marker='.')\n",
    "    ga = testGauss(x, y, npts)\n",
    "    fl = testButterworth(nyf, x, y, npts)\n",
    "    wi = testWiener(x, y, npts)\n",
    "    sp = testSpline(x, y, npts)[0]\n",
    "    dsp = testSpline(x, y, npts)[1]\n",
    "    ddsp = testSpline(x, y, npts)[2]\n",
    "    plt.legend(['meas','gauss','iir','wie','spl'], loc='upper center')\n",
    "    plt.clf()\n",
    "    w = np.fft.fftfreq(npts, d=dt)\n",
    "    w = np.abs(w[:int(npts/2)+1]) #only freqs for real fft\n",
    "    #plotPowerSpectrum(s, w)\n",
    "    plotPowerSpectrum(y, w)\n",
    "    plotPowerSpectrum(ga, w)\n",
    "    plotPowerSpectrum(fl, w)\n",
    "    plotPowerSpectrum(wi, w)\n",
    "    plotPowerSpectrum(sp, w)\n",
    "    plt.yscale('log')\n",
    "    #plt.xlim([0,10])\n",
    "    #plt.ylim([1E-8,None])\n",
    "    plt.legend(['meas','gauss','iir','wie','spl'], loc='upper center')"
   ]
  },
  {
   "cell_type": "code",
   "execution_count": null,
   "metadata": {},
   "outputs": [],
   "source": [
    "plt.plot(t,y,t,ga,t,fl,t,wi,t,sp)\n",
    "plt.legend(['meas','gauss','iir','wie','spl'], loc='lower center')"
   ]
  },
  {
   "cell_type": "code",
   "execution_count": null,
   "metadata": {},
   "outputs": [],
   "source": [
    "plt.plot(t,sp, t, y)"
   ]
  },
  {
   "cell_type": "code",
   "execution_count": null,
   "metadata": {},
   "outputs": [],
   "source": [
    "plt.plot(y,y)\n",
    "plt.plot(y_savgol3, ddsp, 'r')\n",
    "plt.plot(y_savgol3,ddy_savgol)\n",
    "plt.legend(['spl','savgol'], loc='lower right')\n",
    "#plt.plot(t[2:], ccy[2:-2], 'ko', label='np.convolve, [1,-1]')"
   ]
  },
  {
   "cell_type": "code",
   "execution_count": null,
   "metadata": {
    "collapsed": true
   },
   "outputs": [],
   "source": [
    "def savitzky_golay(y, window_size, order, deriv=0, rate=1):\n",
    "    r\"\"\"Smooth (and optionally differentiate) data with a Savitzky-Golay filter.\n",
    "    The Savitzky-Golay filter removes high frequency noise from data.\n",
    "    It has the advantage of preserving the original shape and\n",
    "    features of the signal better than other types of filtering\n",
    "    approaches, such as moving averages techniques.\n",
    "    Parameters\n",
    "    ----------\n",
    "    y : array_like, shape (N,)\n",
    "        the values of the time history of the signal.\n",
    "    window_size : int\n",
    "        the length of the window. Must be an odd integer number.\n",
    "    order : int\n",
    "        the order of the polynomial used in the filtering.\n",
    "        Must be less then `window_size` - 1.\n",
    "    deriv: int\n",
    "        the order of the derivative to compute (default = 0 means only smoothing)\n",
    "    Returns\n",
    "    -------\n",
    "    ys : ndarray, shape (N)\n",
    "        the smoothed signal (or it's n-th derivative).\n",
    "    Notes\n",
    "    -----\n",
    "    The Savitzky-Golay is a type of low-pass filter, particularly\n",
    "    suited for smoothing noisy data. The main idea behind this\n",
    "    approach is to make for each point a least-square fit with a\n",
    "    polynomial of high order over a odd-sized window centered at\n",
    "    the point.\n",
    "    Examples\n",
    "    --------\n",
    "    t = np.linspace(-4, 4, 500)\n",
    "    y = np.exp( -t**2 ) + np.random.normal(0, 0.05, t.shape)\n",
    "    ysg = savitzky_golay(y, window_size=31, order=4)\n",
    "    import matplotlib.pyplot as plt\n",
    "    plt.plot(t, y, label='Noisy signal')\n",
    "    plt.plot(t, np.exp(-t**2), 'k', lw=1.5, label='Original signal')\n",
    "    plt.plot(t, ysg, 'r', label='Filtered signal')\n",
    "    plt.legend()\n",
    "    plt.show()\n",
    "    References\n",
    "    ----------\n",
    "    .. [1] A. Savitzky, M. J. E. Golay, Smoothing and Differentiation of\n",
    "       Data by Simplified Least Squares Procedures. Analytical\n",
    "       Chemistry, 1964, 36 (8), pp 1627-1639.\n",
    "    .. [2] Numerical Recipes 3rd Edition: The Art of Scientific Computing\n",
    "       W.H. Press, S.A. Teukolsky, W.T. Vetterling, B.P. Flannery\n",
    "       Cambridge University Press ISBN-13: 9780521880688\n",
    "    \"\"\"\n",
    "    import numpy as np\n",
    "    from math import factorial\n",
    "\n",
    "    try:\n",
    "        window_size = np.abs(np.int(window_size))\n",
    "        order = np.abs(np.int(order))\n",
    "    except ValueError:\n",
    "        raise ValueError(\"window_size and order have to be of type int\")\n",
    "    if window_size % 2 != 1 or window_size < 1:\n",
    "        raise TypeError(\"window_size size must be a positive odd number\")\n",
    "    if window_size < order + 2:\n",
    "        raise TypeError(\"window_size is too small for the polynomials order\")\n",
    "    order_range = range(order+1)\n",
    "    half_window = (window_size -1) // 2\n",
    "    # precompute coefficients\n",
    "    b = np.mat([[k**i for i in order_range] for k in range(-half_window, half_window+1)])\n",
    "    m = np.linalg.pinv(b).A[deriv] * rate**deriv * factorial(deriv)\n",
    "    # pad the signal at the extremes with\n",
    "    # values taken from the signal itself\n",
    "    firstvals = y[0] - np.abs( y[1:half_window+1][::-1] - y[0] )\n",
    "    lastvals = y[-1] + np.abs(y[-half_window-1:-1][::-1] - y[-1])\n",
    "    y = np.concatenate((firstvals, y, lastvals))\n",
    "    return np.convolve( m[::-1], y, mode='valid')\n",
    "\n"
   ]
  },
  {
   "cell_type": "code",
   "execution_count": null,
   "metadata": {},
   "outputs": [],
   "source": [
    "n = 5\n",
    "nderiv = 2\n",
    "y_sv = savitzky_golay(y,21, 3, deriv=nderiv)/dt**nderiv\n",
    "y_sv0 = savitzky_golay(y,21, 3, deriv=0)\n",
    "y_sv_sp = testSpline(t, y_sv0, npts=npts)\n",
    "\n",
    "\n",
    "\n",
    "y_sv = y_sv[:-n]\n",
    "plt.plot(y_sv0[:-n], y_sv, 'k.')\n",
    "plt.plot(y_sv0, y_sv_sp[2], 'b')\n",
    "#plt.plot(t, y, 'ko')\n",
    "#plt.plot(t[10:-n], y_sv[10:], 'r')\n",
    "#plt.plot(t, y_savgol)\n",
    "#plt.plot(t[10:-(len(y)-len(y_sv))], y_sv[10:], 'ko')\n",
    "#plt.plot(t, dsp, 'r')\n",
    "\n",
    "\n"
   ]
  },
  {
   "cell_type": "markdown",
   "metadata": {
    "collapsed": true
   },
   "source": [
    "## Total variance regularization"
   ]
  },
  {
   "cell_type": "code",
   "execution_count": null,
   "metadata": {
    "collapsed": true
   },
   "outputs": [],
   "source": [
    "import prox_tv as ptv\n",
    "\n",
    "y_tv = ptv.tv1_1d(y, 20, method='condat', sigma = 0.05)\n",
    "y_tv2 = ptv.tv1_1d(y_tv, .05, method='condat', sigma = 0.05)\n",
    "y_tv3 = ptv.tv1_1d(y_tv2, .05, method='condat', sigma = 0.05)"
   ]
  },
  {
   "cell_type": "code",
   "execution_count": null,
   "metadata": {},
   "outputs": [],
   "source": [
    "plt.plot(t, y_tv3, t, y_tv)"
   ]
  },
  {
   "cell_type": "code",
   "execution_count": null,
   "metadata": {},
   "outputs": [],
   "source": [
    "help(ptv.tv1_1d)"
   ]
  },
  {
   "cell_type": "code",
   "execution_count": null,
   "metadata": {
    "collapsed": true
   },
   "outputs": [],
   "source": []
  }
 ],
 "metadata": {
  "kernelspec": {
   "display_name": "Python 3",
   "language": "python",
   "name": "python3"
  },
  "language_info": {
   "codemirror_mode": {
    "name": "ipython",
    "version": 3
   },
   "file_extension": ".py",
   "mimetype": "text/x-python",
   "name": "python",
   "nbconvert_exporter": "python",
   "pygments_lexer": "ipython3",
   "version": "3.6.1"
  }
 },
 "nbformat": 4,
 "nbformat_minor": 2
}
