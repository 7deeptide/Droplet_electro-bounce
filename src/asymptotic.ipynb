{
 "cells": [
  {
   "cell_type": "markdown",
   "metadata": {},
   "source": [
    "# $ \\mbox{Asymptotic methods with SymPy}$"
   ]
  },
  {
   "cell_type": "markdown",
   "metadata": {},
   "source": [
    "Projectile motion in a non-homogenous potential field is described by the equation\n",
    "\n",
    "$$y_{\\tau \\tau} - \\frac{1}{(1 + \\epsilon y)^2} = 0,$$\n",
    "\n",
    "with $y(0) = 0$ and $y_{\\tau}(0)=1$, and where $\\epsilon \\ll 1$ is expected."
   ]
  },
  {
   "cell_type": "code",
   "execution_count": 1,
   "metadata": {},
   "outputs": [],
   "source": [
    "import sympy as sym\n",
    "from sympy import init_printing\n",
    "init_printing() "
   ]
  },
  {
   "cell_type": "markdown",
   "metadata": {},
   "source": [
    "In the limit $y \\ll a$ the electric field is\n",
    "\n",
    "$$ E  = 4 \\pi k \\sigma,$$\n",
    "\n",
    "which is the same as a the electric field due to an infinite plane of charge. The equation of motion becomes\n",
    "\n",
    "$$ y_{tt} = \\frac{-4 \\pi k \\sigma q}{m}.$$\n",
    "\n",
    "This has the analytic solution"
   ]
  },
  {
   "cell_type": "code",
   "execution_count": 2,
   "metadata": {},
   "outputs": [
    {
     "data": {
      "image/png": "[encoded data removed]",
      "text/latex": [
       "$$y{\\left (t \\right )} = - \\frac{2 \\pi}{m} k q \\sigma t^{2} + t v_{0}$$"
      ],
      "text/plain": [
       "                    2       \n",
       "         2⋅π⋅k⋅q⋅σ⋅t        \n",
       "y(t) = - ──────────── + t⋅v₀\n",
       "              m             "
      ]
     },
     "execution_count": 2,
     "metadata": {},
     "output_type": "execute_result"
    }
   ],
   "source": [
    "k, sig, q, t, v0, m = sym.symbols('k, sigma, q, t, v0, m')\n",
    "\n",
    "y = sym.symbols('y', cls=sym.Function)\n",
    "eqn = sym.Eq(y(t).diff(t,t) + 4*sym.pi*k*sig*q/m)\n",
    "soln = sym.dsolve(eqn, y(t))\n",
    "constants = sym.solve([soln.rhs.subs(t,0) - 0,\n",
    "                      soln.rhs.diff(t).subs(t,0) - v0])\n",
    "C1, C2 = sym.symbols('C1 C2')\n",
    "soln = soln.subs(constants)\n",
    "soln"
   ]
  },
  {
   "cell_type": "code",
   "execution_count": 3,
   "metadata": {},
   "outputs": [
    {
     "data": {
      "image/png": "[encoded data removed]",
      "text/latex": [
       "$$1$$"
      ],
      "text/plain": [
       "1"
      ]
     },
     "execution_count": 3,
     "metadata": {},
     "output_type": "execute_result"
    }
   ],
   "source": [
    "y0, t0, a, E0 = sym.symbols('y0, t0, a, E0')\n",
    "y0 = v0**2*m/(q*E0)\n",
    "t0 = v0*m/(q*E0)\n",
    "parameter = E0*q*t0**2/(m* y0**3)\n",
    "parameter = y0*m/(q*E0*t0**2)\n",
    "y0, t0 \n",
    "sym.latex(parameter)\n",
    "parameter"
   ]
  },
  {
   "cell_type": "code",
   "execution_count": 4,
   "metadata": {},
   "outputs": [
    {
     "data": {
      "image/png": "[encoded data removed]",
      "text/latex": [
       "$$1$$"
      ],
      "text/plain": [
       "1"
      ]
     },
     "execution_count": 4,
     "metadata": {},
     "output_type": "execute_result"
    }
   ],
   "source": [
    "y0 = q*E0*a**2/(m*v0**2)\n",
    "t0 = q*E0*a**2/(m*v0**3)\n",
    "parameter = q*E0*a**2/m*t0**2/y0**3\n",
    "parameter"
   ]
  },
  {
   "cell_type": "code",
   "execution_count": 5,
   "metadata": {},
   "outputs": [],
   "source": [
    "y, eps, a, b, tau = sym.symbols('y, epsilon, a, b, tau')\n",
    "y0 = sym.Function('y0')(tau)\n",
    "y1 = sym.Function('y1')(tau)\n",
    "y2 = sym.Function('y2')(tau)"
   ]
  },
  {
   "cell_type": "code",
   "execution_count": 6,
   "metadata": {},
   "outputs": [],
   "source": [
    "y = sym.Eq(y0 + eps*y1 + eps**2*y2) # naive expansion\n",
    "\n",
    "class f(sym.Function):\n",
    "    \n",
    "    @classmethod\n",
    "    def eval(cls, y):\n",
    "        return y.lhs.diff(tau,tau) + 1/(1 + eps*y.lhs)**2\n",
    "        #return y.lhs.diff(tau, tau) + eps/y.lhs**2\n"
   ]
  },
  {
   "cell_type": "code",
   "execution_count": 7,
   "metadata": {},
   "outputs": [
    {
     "data": {
      "image/png": "[encoded data removed]",
      "text/latex": [
       "$$1 + \\frac{d^{2}}{d \\tau^{2}}  \\operatorname{y_{0}}{\\left (\\tau \\right )} + \\epsilon \\left(- 2 \\operatorname{y_{0}}{\\left (\\tau \\right )} + \\frac{d^{2}}{d \\tau^{2}}  \\operatorname{y_{1}}{\\left (\\tau \\right )}\\right) + \\epsilon^{2} \\left(3 \\operatorname{y_{0}}^{2}{\\left (\\tau \\right )} - 2 \\operatorname{y_{1}}{\\left (\\tau \\right )} + \\frac{d^{2}}{d \\tau^{2}}  \\operatorname{y_{2}}{\\left (\\tau \\right )}\\right) + \\mathcal{O}\\left(\\epsilon^{3}\\right)$$"
      ],
      "text/plain": [
       "      2            ⎛             2       ⎞      ⎛                       2     \n",
       "     d             ⎜            d        ⎟    2 ⎜    2                 d      \n",
       "1 + ───(y₀(τ)) + ε⋅⎜-2⋅y₀(τ) + ───(y₁(τ))⎟ + ε ⋅⎜3⋅y₀ (τ) - 2⋅y₁(τ) + ───(y₂(τ\n",
       "      2            ⎜             2       ⎟      ⎜                       2     \n",
       "    dτ             ⎝           dτ        ⎠      ⎝                     dτ      \n",
       "\n",
       "  ⎞        \n",
       "  ⎟    ⎛ 3⎞\n",
       "))⎟ + O⎝ε ⎠\n",
       "  ⎟        \n",
       "  ⎠        "
      ]
     },
     "execution_count": 7,
     "metadata": {},
     "output_type": "execute_result"
    }
   ],
   "source": [
    "the_series = sym.series(f(y), eps, x0=0, n=3)\n",
    "by_order = sym.collect(the_series, eps, evaluate=False)\n",
    "the_series"
   ]
  },
  {
   "cell_type": "markdown",
   "metadata": {},
   "source": [
    "### $\\mathcal{O} \\left( 1 \\right) \\mbox{Solution}$"
   ]
  },
  {
   "cell_type": "code",
   "execution_count": 8,
   "metadata": {},
   "outputs": [
    {
     "data": {
      "image/png": "[encoded data removed]",
      "text/latex": [
       "$$\\frac{d^{2}}{d \\tau^{2}}  \\operatorname{y_{0}}{\\left (\\tau \\right )} + 1 = 0$$"
      ],
      "text/plain": [
       "  2               \n",
       " d                \n",
       "───(y₀(τ)) + 1 = 0\n",
       "  2               \n",
       "dτ                "
      ]
     },
     "execution_count": 8,
     "metadata": {},
     "output_type": "execute_result"
    }
   ],
   "source": [
    "sym.Eq(by_order[1].removeO())"
   ]
  },
  {
   "cell_type": "code",
   "execution_count": 9,
   "metadata": {},
   "outputs": [
    {
     "data": {
      "image/png": "[encoded data removed]",
      "text/latex": [
       "$$\\operatorname{y_{0}}{\\left (\\tau \\right )} = - \\frac{\\tau^{2}}{2} + \\tau$$"
      ],
      "text/plain": [
       "           2    \n",
       "          τ     \n",
       "y₀(τ) = - ── + τ\n",
       "          2     "
      ]
     },
     "execution_count": 9,
     "metadata": {},
     "output_type": "execute_result"
    }
   ],
   "source": [
    "eqn = sym.Eq(by_order[1].removeO())    #1 + y0(tau).diff(tau, tau))\n",
    "soln0 = sym.dsolve(eqn, y0)\n",
    "constants = sym.solve([soln0.rhs.subs(tau,0) - 0, \\\n",
    "                      soln0.rhs.diff(tau).subs(tau,0) - 1])\n",
    "C1, C2 = sym.symbols('C1 C2')\n",
    "soln0 = soln0.subs(constants)\n",
    "soln0"
   ]
  },
  {
   "cell_type": "markdown",
   "metadata": {},
   "source": [
    "### $\\mathcal{O} \\left( \\epsilon \\right) \\mbox{Solution}$"
   ]
  },
  {
   "cell_type": "code",
   "execution_count": 10,
   "metadata": {},
   "outputs": [
    {
     "data": {
      "image/png": "[encoded data removed]",
      "text/latex": [
       "$$- 2 \\operatorname{y_{0}}{\\left (\\tau \\right )} + \\frac{d^{2}}{d \\tau^{2}}  \\operatorname{y_{1}}{\\left (\\tau \\right )}$$"
      ],
      "text/plain": [
       "             2       \n",
       "            d        \n",
       "-2⋅y₀(τ) + ───(y₁(τ))\n",
       "             2       \n",
       "           dτ        "
      ]
     },
     "execution_count": 10,
     "metadata": {},
     "output_type": "execute_result"
    }
   ],
   "source": [
    "by_order[eps]"
   ]
  },
  {
   "cell_type": "markdown",
   "metadata": {},
   "source": [
    "Note, this looks like an Autonomous equation."
   ]
  },
  {
   "cell_type": "code",
   "execution_count": 11,
   "metadata": {},
   "outputs": [
    {
     "data": {
      "image/png": "[encoded data removed]",
      "text/latex": [
       "$$\\operatorname{y_{1}}{\\left (\\tau \\right )} = - \\frac{\\tau^{4}}{12} + \\frac{\\tau^{3}}{3}$$"
      ],
      "text/plain": [
       "           4    3\n",
       "          τ    τ \n",
       "y₁(τ) = - ── + ──\n",
       "          12   3 "
      ]
     },
     "execution_count": 11,
     "metadata": {},
     "output_type": "execute_result"
    }
   ],
   "source": [
    "try:\n",
    "    eqn = sym.Eq(by_order[eps].replace(y0, soln0.rhs))\n",
    "except NameError:\n",
    "    eqn = sym.Eq(by_order[eps])\n",
    "    \n",
    "soln1 = sym.dsolve(eqn, y1)\n",
    "constants = sym.solve([soln1.rhs.subs(tau,0) - 0, \\\n",
    "                      soln1.rhs.diff(tau,1).subs(tau,0) - 0])\n",
    "C1, C2 = sym.symbols('C1 C2')\n",
    "soln1 = soln1.subs(constants)\n",
    "soln1\n"
   ]
  },
  {
   "cell_type": "markdown",
   "metadata": {},
   "source": [
    "### $\\mathcal{O} \\left( \\epsilon^2 \\right) \\mbox{Solution}$"
   ]
  },
  {
   "cell_type": "code",
   "execution_count": 12,
   "metadata": {},
   "outputs": [
    {
     "data": {
      "image/png": "[encoded data removed]",
      "text/latex": [
       "$$3 \\operatorname{y_{0}}^{2}{\\left (\\tau \\right )} - 2 \\operatorname{y_{1}}{\\left (\\tau \\right )} + \\frac{d^{2}}{d \\tau^{2}}  \\operatorname{y_{2}}{\\left (\\tau \\right )}$$"
      ],
      "text/plain": [
       "                       2       \n",
       "    2                 d        \n",
       "3⋅y₀ (τ) - 2⋅y₁(τ) + ───(y₂(τ))\n",
       "                       2       \n",
       "                     dτ        "
      ]
     },
     "execution_count": 12,
     "metadata": {},
     "output_type": "execute_result"
    }
   ],
   "source": [
    "by_order[eps**2]"
   ]
  },
  {
   "cell_type": "code",
   "execution_count": 13,
   "metadata": {},
   "outputs": [
    {
     "data": {
      "image/png": "[encoded data removed]",
      "text/latex": [
       "$$\\operatorname{y_{2}}{\\left (\\tau \\right )} = - \\frac{\\tau^{4}}{360} \\left(11 \\tau^{2} - 66 \\tau + 90\\right)$$"
      ],
      "text/plain": [
       "          4 ⎛    2            ⎞ \n",
       "        -τ ⋅⎝11⋅τ  - 66⋅τ + 90⎠ \n",
       "y₂(τ) = ────────────────────────\n",
       "                  360           "
      ]
     },
     "execution_count": 13,
     "metadata": {},
     "output_type": "execute_result"
    }
   ],
   "source": [
    "try:\n",
    "    eqn = sym.Eq(by_order[eps**2].replace(y1, soln1.rhs).replace(y0, soln0.rhs))\n",
    "except NameError:\n",
    "    eqn = sym.Eq(by_order[eps**2].replace(y1, soln1.rhs))\n",
    "    \n",
    "soln2 = sym.dsolve(eqn, y2)\n",
    "constants = sym.solve([soln2.rhs.subs(tau,0) - 0, \\\n",
    "                      soln2.rhs.diff(tau,1).subs(tau,0) - 0])\n",
    "C1, C2 = sym.symbols('C1 C2')\n",
    "soln2 = soln2.subs(constants)\n",
    "sym.factor(soln2)"
   ]
  },
  {
   "cell_type": "markdown",
   "metadata": {},
   "source": [
    "Non-linear term in the ODE, could linearize it, or add the numerical solution to the composite solution after lambda-ifying..."
   ]
  },
  {
   "cell_type": "markdown",
   "metadata": {},
   "source": [
    "### $\\mbox{Composite Solution}$"
   ]
  },
  {
   "cell_type": "code",
   "execution_count": 14,
   "metadata": {},
   "outputs": [
    {
     "data": {
      "image/png": "[encoded data removed]",
      "text/latex": [
       "$$\\operatorname{y_{comp}} = \\epsilon^{2} \\left(- \\frac{11 \\tau^{6}}{360} + \\frac{11 \\tau^{5}}{60} - \\frac{\\tau^{4}}{4}\\right) + \\epsilon \\left(- \\frac{\\tau^{4}}{12} + \\frac{\\tau^{3}}{3}\\right) - \\frac{\\tau^{2}}{2} + \\tau$$"
      ],
      "text/plain": [
       "              ⎛      6       5    4⎞     ⎛   4    3⎞    2    \n",
       "            2 ⎜  11⋅τ    11⋅τ    τ ⎟     ⎜  τ    τ ⎟   τ     \n",
       "y_{comp} = ε ⋅⎜- ───── + ───── - ──⎟ + ε⋅⎜- ── + ──⎟ - ── + τ\n",
       "              ⎝   360      60    4 ⎠     ⎝  12   3 ⎠   2     "
      ]
     },
     "execution_count": 14,
     "metadata": {},
     "output_type": "execute_result"
    }
   ],
   "source": [
    "y_comp = sym.symbols('y_{comp}', cls=sym.Function)\n",
    "try:\n",
    "    y_comp = sym.Eq(y_comp, soln0.rhs + eps*soln1.rhs + eps**2*soln2.rhs) # + eps**2*soln2.rhs)\n",
    "except NameError:\n",
    "    y_comp = sym.Eq(y_comp, eps*soln1.rhs + eps**2*soln2.rhs) # + eps**2*soln2.rhs)\n",
    "y_comp"
   ]
  },
  {
   "cell_type": "markdown",
   "metadata": {},
   "source": [
    "### $\\mbox{The Trajectory}$"
   ]
  },
  {
   "cell_type": "code",
   "execution_count": 15,
   "metadata": {},
   "outputs": [
    {
     "data": {
      "image/png": "[encoded data removed]",
      "text/plain": [
       "<matplotlib.figure.Figure at 0x7feef354ae80>"
      ]
     },
     "metadata": {
      "image/png": {
       "height": 363,
       "width": 533
      }
     },
     "output_type": "display_data"
    }
   ],
   "source": [
    "import matplotlib.pyplot as plt\n",
    "import numpy as np\n",
    "import scipy as sp\n",
    "\n",
    "%config InlineBackend.figure_format = 'retina'\n",
    "plt.rc('text', usetex=True)\n",
    "plt.rc('font', family='serif')\n",
    "\n",
    "eps_val = [.001, .01, .1, 1][::-1]\n",
    "linestyle = ['rs--', 'bo-', 'cv-.', 'k+:']\n",
    "tt = sp.arange(0,1,0.1)\n",
    "\n",
    "plt.figure(figsize=(6, 4), dpi=100)\n",
    "for keys, vals in enumerate(eps_val):\n",
    "    y_compP = sym.lambdify(tau, y_comp.rhs.subs(eps, vals), 'numpy')\n",
    "    plt.plot(tt, y_compP(tt), linestyle[keys],label='$\\epsilon$ = {}'.format(vals))\n",
    "    \n",
    "plt.ylabel(r'y$(\\tau)$')\n",
    "plt.xlabel(r'$\\tau$')\n",
    "plt.legend(title = r'Asymptotic approx. soln. $\\mathcal{O} \\left( \\epsilon^2 \\right)$')\n",
    "plt.show()"
   ]
  },
  {
   "cell_type": "code",
   "execution_count": null,
   "metadata": {},
   "outputs": [],
   "source": []
  }
 ],
 "metadata": {
  "kernelspec": {
   "display_name": "Python 3",
   "language": "python",
   "name": "python3"
  },
  "language_info": {
   "codemirror_mode": {
    "name": "ipython",
    "version": 3
   },
   "file_extension": ".py",
   "mimetype": "text/x-python",
   "name": "python",
   "nbconvert_exporter": "python",
   "pygments_lexer": "ipython3",
   "version": "3.6.2"
  }
 },
 "nbformat": 4,
 "nbformat_minor": 2
}
