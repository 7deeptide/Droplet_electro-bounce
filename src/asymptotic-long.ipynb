{
 "cells": [
  {
   "cell_type": "markdown",
   "metadata": {},
   "source": [
    "# Asymptotic solutions in long-times"
   ]
  },
  {
   "cell_type": "markdown",
   "metadata": {},
   "source": [
    "Projectile motion in a non-homogenous potential field with drag is described by the equation\n",
    "\n",
    "$$y_{\\tau \\tau} + \\beta \\epsilon y_{\\tau} + \\frac{1}{(1 + \\epsilon y)^2} = 0,$$\n",
    "\n",
    "with $y(0) = \\epsilon$ and $y_{\\tau}(0)=1$, and where $\\epsilon \\ll 1$ is expected."
   ]
  },
  {
   "cell_type": "code",
   "execution_count": 1,
   "metadata": {},
   "outputs": [],
   "source": [
    "import sympy as sym\n",
    "from sympy import init_printing\n",
    "init_printing(order='rev-lex') "
   ]
  },
  {
   "cell_type": "code",
   "execution_count": 2,
   "metadata": {},
   "outputs": [],
   "source": [
    "y, eps, a, b, tau, t, beta, gamma = sym.symbols('y, epsilon, a, b, tau, t, beta, gamma')\n",
    "y0 = sym.Function('y0')(t)\n",
    "y1 = sym.Function('y1')(t)\n",
    "y2 = sym.Function('y2')(t)\n",
    "y3 = sym.Function('y3')(t)\n",
    "y4 = sym.Function('y4')(t)"
   ]
  },
  {
   "cell_type": "code",
   "execution_count": 3,
   "metadata": {},
   "outputs": [
    {
     "data": {
      "image/png": "[encoded data removed]",
      "text/latex": [
       "$$\\epsilon^{4} \\operatorname{y_{4}}{\\left (t \\right )} + \\epsilon^{3} \\operatorname{y_{3}}{\\left (t \\right )} + \\epsilon^{2} \\operatorname{y_{2}}{\\left (t \\right )} + \\epsilon \\operatorname{y_{1}}{\\left (t \\right )} + \\operatorname{y_{0}}{\\left (t \\right )} = 0$$"
      ],
      "text/plain": [
       "                   2          3          4          \n",
       "y₀(t) + ε⋅y₁(t) + ε ⋅y₂(t) + ε ⋅y₃(t) + ε ⋅y₄(t) = 0"
      ]
     },
     "execution_count": 3,
     "metadata": {},
     "output_type": "execute_result"
    }
   ],
   "source": [
    "y = sym.Eq(y0 + eps*y1 + eps**2*y2 + eps**3*y3 + eps**4*y4) # naive expansion\n",
    "\n",
    "class f(sym.Function):\n",
    "    \n",
    "    @classmethod\n",
    "    def eval(cls, y):\n",
    "        return y.lhs.diff(t,t) + beta*eps*y.lhs.diff(t)**2 + 1/(1 + eps*y.lhs)**2\n",
    "        #return y.lhs.diff(tau, tau) + eps/y.lhs**2\n",
    "y"
   ]
  },
  {
   "cell_type": "code",
   "execution_count": 4,
   "metadata": {},
   "outputs": [
    {
     "data": {
      "image/png": "[encoded data removed]",
      "text/latex": [
       "$$1 + \\frac{d^{2}}{d t^{2}} \\operatorname{y_{0}}{\\left (t \\right )} + \\epsilon \\left(\\beta \\left(\\frac{d}{d t} \\operatorname{y_{0}}{\\left (t \\right )}\\right)^{2} - 2 \\operatorname{y_{0}}{\\left (t \\right )} + \\frac{d^{2}}{d t^{2}} \\operatorname{y_{1}}{\\left (t \\right )}\\right) + \\epsilon^{2} \\left(2 \\beta \\frac{d}{d t} \\operatorname{y_{0}}{\\left (t \\right )} \\frac{d}{d t} \\operatorname{y_{1}}{\\left (t \\right )} + 3 \\operatorname{y_{0}}^{2}{\\left (t \\right )} - 2 \\operatorname{y_{1}}{\\left (t \\right )} + \\frac{d^{2}}{d t^{2}} \\operatorname{y_{2}}{\\left (t \\right )}\\right) + \\epsilon^{3} \\left(2 \\beta \\frac{d}{d t} \\operatorname{y_{0}}{\\left (t \\right )} \\frac{d}{d t} \\operatorname{y_{2}}{\\left (t \\right )} + \\beta \\left(\\frac{d}{d t} \\operatorname{y_{1}}{\\left (t \\right )}\\right)^{2} - 4 \\operatorname{y_{0}}^{3}{\\left (t \\right )} + 6 \\operatorname{y_{0}}{\\left (t \\right )} \\operatorname{y_{1}}{\\left (t \\right )} - 2 \\operatorname{y_{2}}{\\left (t \\right )} + \\frac{d^{2}}{d t^{2}} \\operatorname{y_{3}}{\\left (t \\right )}\\right) + \\epsilon^{4} \\left(2 \\beta \\frac{d}{d t} \\operatorname{y_{0}}{\\left (t \\right )} \\frac{d}{d t} \\operatorname{y_{3}}{\\left (t \\right )} + 2 \\beta \\frac{d}{d t} \\operatorname{y_{1}}{\\left (t \\right )} \\frac{d}{d t} \\operatorname{y_{2}}{\\left (t \\right )} + 5 \\operatorname{y_{0}}^{4}{\\left (t \\right )} - 12 \\operatorname{y_{0}}^{2}{\\left (t \\right )} \\operatorname{y_{1}}{\\left (t \\right )} + 6 \\operatorname{y_{0}}{\\left (t \\right )} \\operatorname{y_{2}}{\\left (t \\right )} + 3 \\operatorname{y_{1}}^{2}{\\left (t \\right )} - 2 \\operatorname{y_{3}}{\\left (t \\right )} + \\frac{d^{2}}{d t^{2}} \\operatorname{y_{4}}{\\left (t \\right )}\\right) + O\\left(\\epsilon^{5}\\right)$$"
      ],
      "text/plain": [
       "      2            ⎛  2                                 2⎞      ⎛  2          \n",
       "     d             ⎜ d                       ⎛d        ⎞ ⎟    2 ⎜ d           \n",
       "1 + ───(y₀(t)) + ε⋅⎜───(y₁(t)) - 2⋅y₀(t) + β⋅⎜──(y₀(t))⎟ ⎟ + ε ⋅⎜───(y₂(t)) - \n",
       "      2            ⎜  2                      ⎝dt       ⎠ ⎟      ⎜  2          \n",
       "    dt             ⎝dt                                   ⎠      ⎝dt           \n",
       "\n",
       "                                            ⎞      ⎛  2                       \n",
       "              2          d         d        ⎟    3 ⎜ d                        \n",
       "2⋅y₁(t) + 3⋅y₀ (t) + 2⋅β⋅──(y₀(t))⋅──(y₁(t))⎟ + ε ⋅⎜───(y₃(t)) - 2⋅y₂(t) + 6⋅y\n",
       "                         dt        dt       ⎟      ⎜  2                       \n",
       "                                            ⎠      ⎝dt                        \n",
       "\n",
       "                                     2                          ⎞      ⎛  2   \n",
       "                 3        ⎛d        ⎞        d         d        ⎟    4 ⎜ d    \n",
       "₀(t)⋅y₁(t) - 4⋅y₀ (t) + β⋅⎜──(y₁(t))⎟  + 2⋅β⋅──(y₀(t))⋅──(y₂(t))⎟ + ε ⋅⎜───(y₄\n",
       "                          ⎝dt       ⎠        dt        dt       ⎟      ⎜  2   \n",
       "                                                                ⎠      ⎝dt    \n",
       "\n",
       "                                                                              \n",
       "                     2                           2                4          d\n",
       "(t)) - 2⋅y₃(t) + 3⋅y₁ (t) + 6⋅y₀(t)⋅y₂(t) - 12⋅y₀ (t)⋅y₁(t) + 5⋅y₀ (t) + 2⋅β⋅─\n",
       "                                                                             d\n",
       "                                                                              \n",
       "\n",
       "                                            ⎞        \n",
       "         d               d         d        ⎟    ⎛ 5⎞\n",
       "─(y₁(t))⋅──(y₂(t)) + 2⋅β⋅──(y₀(t))⋅──(y₃(t))⎟ + O⎝ε ⎠\n",
       "t        dt              dt        dt       ⎟        \n",
       "                                            ⎠        "
      ]
     },
     "execution_count": 4,
     "metadata": {},
     "output_type": "execute_result"
    }
   ],
   "source": [
    "the_series = sym.series(f(y), eps, x0=0, n=5)\n",
    "by_order = sym.collect(the_series, eps, evaluate=False)\n",
    "the_series"
   ]
  },
  {
   "cell_type": "markdown",
   "metadata": {},
   "source": [
    "### $\\mathcal{O} \\left( 1 \\right) \\mbox{Solution}$"
   ]
  },
  {
   "cell_type": "code",
   "execution_count": 5,
   "metadata": {},
   "outputs": [
    {
     "data": {
      "image/png": "[encoded data removed]",
      "text/latex": [
       "$$\\frac{d^{2}}{d t^{2}} \\operatorname{y_{0}}{\\left (t \\right )} + 1 = 0$$"
      ],
      "text/plain": [
       "      2           \n",
       "     d            \n",
       "1 + ───(y₀(t)) = 0\n",
       "      2           \n",
       "    dt            "
      ]
     },
     "execution_count": 5,
     "metadata": {},
     "output_type": "execute_result"
    }
   ],
   "source": [
    "sym.Eq(by_order[1].removeO())"
   ]
  },
  {
   "cell_type": "code",
   "execution_count": 6,
   "metadata": {},
   "outputs": [
    {
     "data": {
      "image/png": "[encoded data removed]",
      "text/latex": [
       "$$\\operatorname{y_{0}}{\\left (t \\right )} = - \\frac{t^{2}}{2} + t$$"
      ],
      "text/plain": [
       "             2\n",
       "            t \n",
       "y₀(t) = t - ──\n",
       "            2 "
      ]
     },
     "execution_count": 6,
     "metadata": {},
     "output_type": "execute_result"
    }
   ],
   "source": [
    "eqn = sym.Eq(by_order[1].removeO())    #1 + y0(tau).diff(tau, tau))\n",
    "soln0 = sym.dsolve(eqn, y0)\n",
    "constants = sym.solve([soln0.rhs.subs(t,0) - 0, \\\n",
    "                      soln0.rhs.diff(t).subs(t,0) - 1])\n",
    "C1, C2 = sym.symbols('C1 C2')\n",
    "soln0 = soln0.subs(constants)\n",
    "soln0"
   ]
  },
  {
   "cell_type": "markdown",
   "metadata": {},
   "source": [
    "### $\\mathcal{O} \\left( \\epsilon \\right) \\mbox{Solution}$"
   ]
  },
  {
   "cell_type": "code",
   "execution_count": 7,
   "metadata": {},
   "outputs": [
    {
     "data": {
      "image/png": "[encoded data removed]",
      "text/latex": [
       "$$\\beta \\left(\\frac{d}{d t} \\operatorname{y_{0}}{\\left (t \\right )}\\right)^{2} - 2 \\operatorname{y_{0}}{\\left (t \\right )} + \\frac{d^{2}}{d t^{2}} \\operatorname{y_{1}}{\\left (t \\right )}$$"
      ],
      "text/plain": [
       "  2                                 2\n",
       " d                       ⎛d        ⎞ \n",
       "───(y₁(t)) - 2⋅y₀(t) + β⋅⎜──(y₀(t))⎟ \n",
       "  2                      ⎝dt       ⎠ \n",
       "dt                                   "
      ]
     },
     "execution_count": 7,
     "metadata": {},
     "output_type": "execute_result"
    }
   ],
   "source": [
    "by_order[eps]"
   ]
  },
  {
   "cell_type": "code",
   "execution_count": 8,
   "metadata": {},
   "outputs": [
    {
     "data": {
      "image/png": "[encoded data removed]",
      "text/latex": [
       "$$\\operatorname{y_{1}}{\\left (t \\right )} = - \\frac{\\beta t^{2}}{2} + \\frac{t^{4} \\left(- \\beta - 1\\right)}{12} + \\frac{t^{3} \\left(\\beta + 1\\right)}{3}$$"
      ],
      "text/plain": [
       "         3            4               2\n",
       "        t ⋅(1 + β)   t ⋅(-1 - β)   β⋅t \n",
       "y₁(t) = ────────── + ─────────── - ────\n",
       "            3             12        2  "
      ]
     },
     "execution_count": 8,
     "metadata": {},
     "output_type": "execute_result"
    }
   ],
   "source": [
    "try:\n",
    "    eqn = sym.Eq(by_order[eps].replace(y0, soln0.rhs))\n",
    "except NameError:\n",
    "    eqn = sym.Eq(by_order[eps])\n",
    "    \n",
    "soln1 = sym.dsolve(eqn, y1)\n",
    "constants = sym.solve([soln1.rhs.subs(t,0) - 0, \\\n",
    "                      soln1.rhs.diff(t,1).subs(t,0) - 0])\n",
    "C1, C2 = sym.symbols('C1 C2')\n",
    "soln1 = soln1.subs(constants)\n",
    "soln1\n"
   ]
  },
  {
   "cell_type": "markdown",
   "metadata": {},
   "source": [
    "### $\\mathcal{O} \\left( \\epsilon^2 \\right) \\mbox{Solution}$"
   ]
  },
  {
   "cell_type": "code",
   "execution_count": 9,
   "metadata": {},
   "outputs": [
    {
     "data": {
      "image/png": "[encoded data removed]",
      "text/latex": [
       "$$2 \\beta \\frac{d}{d t} \\operatorname{y_{0}}{\\left (t \\right )} \\frac{d}{d t} \\operatorname{y_{1}}{\\left (t \\right )} + 3 \\operatorname{y_{0}}^{2}{\\left (t \\right )} - 2 \\operatorname{y_{1}}{\\left (t \\right )} + \\frac{d^{2}}{d t^{2}} \\operatorname{y_{2}}{\\left (t \\right )}$$"
      ],
      "text/plain": [
       "  2                                                      \n",
       " d                         2          d         d        \n",
       "───(y₂(t)) - 2⋅y₁(t) + 3⋅y₀ (t) + 2⋅β⋅──(y₀(t))⋅──(y₁(t))\n",
       "  2                                   dt        dt       \n",
       "dt                                                       "
      ]
     },
     "execution_count": 9,
     "metadata": {},
     "output_type": "execute_result"
    }
   ],
   "source": [
    "by_order[eps**2]"
   ]
  },
  {
   "cell_type": "code",
   "execution_count": 10,
   "metadata": {},
   "outputs": [
    {
     "data": {
      "image/png": "[encoded data removed]",
      "text/latex": [
       "$$\\operatorname{y_{2}}{\\left (t \\right )} = - \\frac{t^{3} \\left(8 \\beta^{2} t^{3} - 48 \\beta^{2} t^{2} + 120 \\beta^{2} t - 120 \\beta^{2} + 10 \\beta t^{3} - 60 \\beta t^{2} + 90 \\beta t + 11 t^{3} - 66 t^{2} + 90 t\\right)}{360}$$"
      ],
      "text/plain": [
       "          3 ⎛           2       3                  2         3        2       \n",
       "        -t ⋅⎝90⋅t - 66⋅t  + 11⋅t  + 90⋅β⋅t - 60⋅β⋅t  + 10⋅β⋅t  - 120⋅β  + 120⋅\n",
       "y₂(t) = ──────────────────────────────────────────────────────────────────────\n",
       "                                                       360                    \n",
       "\n",
       " 2         2  2      2  3⎞ \n",
       "β ⋅t - 48⋅β ⋅t  + 8⋅β ⋅t ⎠ \n",
       "───────────────────────────\n",
       "                           "
      ]
     },
     "execution_count": 10,
     "metadata": {},
     "output_type": "execute_result"
    }
   ],
   "source": [
    "try:\n",
    "    eqn = sym.Eq(by_order[eps**2].replace(y1, soln1.rhs).replace(y0, soln0.rhs))\n",
    "except NameError:\n",
    "    eqn = sym.Eq(by_order[eps**2].replace(y1, soln1.rhs))\n",
    "    \n",
    "soln2 = sym.dsolve(eqn, y2)\n",
    "constants = sym.solve([soln2.rhs.subs(t,0) - 0, \\\n",
    "                      soln2.rhs.diff(t,1).subs(t,0) - 0])\n",
    "C1, C2 = sym.symbols('C1 C2')\n",
    "soln2 = soln2.subs(constants)\n",
    "sym.factor(soln2)"
   ]
  },
  {
   "cell_type": "markdown",
   "metadata": {},
   "source": [
    "### $\\mathcal{O} \\left( \\epsilon^3 \\right) \\mbox{Solution}$"
   ]
  },
  {
   "cell_type": "code",
   "execution_count": 11,
   "metadata": {},
   "outputs": [
    {
     "data": {
      "image/png": "[encoded data removed]",
      "text/latex": [
       "$$2 \\beta \\frac{d}{d t} \\operatorname{y_{0}}{\\left (t \\right )} \\frac{d}{d t} \\operatorname{y_{2}}{\\left (t \\right )} + \\beta \\left(\\frac{d}{d t} \\operatorname{y_{1}}{\\left (t \\right )}\\right)^{2} - 4 \\operatorname{y_{0}}^{3}{\\left (t \\right )} + 6 \\operatorname{y_{0}}{\\left (t \\right )} \\operatorname{y_{1}}{\\left (t \\right )} - 2 \\operatorname{y_{2}}{\\left (t \\right )} + \\frac{d^{2}}{d t^{2}} \\operatorname{y_{3}}{\\left (t \\right )}$$"
      ],
      "text/plain": [
       "  2                                                            2              \n",
       " d                                         3        ⎛d        ⎞        d      \n",
       "───(y₃(t)) - 2⋅y₂(t) + 6⋅y₀(t)⋅y₁(t) - 4⋅y₀ (t) + β⋅⎜──(y₁(t))⎟  + 2⋅β⋅──(y₀(t\n",
       "  2                                                 ⎝dt       ⎠        dt     \n",
       "dt                                                                            \n",
       "\n",
       "            \n",
       "   d        \n",
       "))⋅──(y₂(t))\n",
       "   dt       \n",
       "            "
      ]
     },
     "execution_count": 11,
     "metadata": {},
     "output_type": "execute_result"
    }
   ],
   "source": [
    "by_order[eps**3]"
   ]
  },
  {
   "cell_type": "code",
   "execution_count": 12,
   "metadata": {
    "scrolled": true
   },
   "outputs": [
    {
     "data": {
      "image/png": "[encoded data removed]",
      "text/latex": [
       "$$\\operatorname{y_{3}}{\\left (t \\right )} = - \\frac{t^{4} \\left(68 \\beta^{3} t^{4} - 544 \\beta^{3} t^{3} + 1904 \\beta^{3} t^{2} - 3360 \\beta^{3} t + 2520 \\beta^{3} + 108 \\beta^{2} t^{4} - 864 \\beta^{2} t^{3} + 2352 \\beta^{2} t^{2} - 2352 \\beta^{2} t + 141 \\beta t^{4} - 1128 \\beta t^{3} + 2968 \\beta t^{2} - 2520 \\beta t + 146 t^{4} - 1168 t^{3} + 2856 t^{2} - 2016 t\\right)}{10080}$$"
      ],
      "text/plain": [
       "          4 ⎛                2         3        4                      2      \n",
       "        -t ⋅⎝-2016⋅t + 2856⋅t  - 1168⋅t  + 146⋅t  - 2520⋅β⋅t + 2968⋅β⋅t  - 112\n",
       "y₃(t) = ──────────────────────────────────────────────────────────────────────\n",
       "                                                                              \n",
       "\n",
       "     3          4         2           2  2        2  3        2  4         3  \n",
       "8⋅β⋅t  + 141⋅β⋅t  - 2352⋅β ⋅t + 2352⋅β ⋅t  - 864⋅β ⋅t  + 108⋅β ⋅t  + 2520⋅β  -\n",
       "──────────────────────────────────────────────────────────────────────────────\n",
       "                         10080                                                \n",
       "\n",
       "       3           3  2        3  3       3  4⎞ \n",
       " 3360⋅β ⋅t + 1904⋅β ⋅t  - 544⋅β ⋅t  + 68⋅β ⋅t ⎠ \n",
       "────────────────────────────────────────────────\n",
       "                                                "
      ]
     },
     "execution_count": 12,
     "metadata": {},
     "output_type": "execute_result"
    }
   ],
   "source": [
    "try:\n",
    "    eqn = sym.Eq(by_order[eps**3].replace(y2, soln2.rhs).replace(y1, soln1.rhs).replace(y0, soln0.rhs))\n",
    "except NameError:\n",
    "    eqn = sym.Eq(by_order[eps**3].replace(y2, soln2.rhs))\n",
    "    \n",
    "soln3 = sym.dsolve(eqn, y3)\n",
    "constants = sym.solve([soln3.rhs.subs(t,0) - 0, \\\n",
    "                      soln3.rhs.diff(t,1).subs(t,0) - 0])\n",
    "C1, C2 = sym.symbols('C1 C2')\n",
    "soln3 = soln3.subs(constants)\n",
    "sym.factor(soln3)"
   ]
  },
  {
   "cell_type": "markdown",
   "metadata": {},
   "source": [
    "### $\\mathcal{O} \\left( \\epsilon^4 \\right) \\mbox{Solution}$"
   ]
  },
  {
   "cell_type": "code",
   "execution_count": 13,
   "metadata": {},
   "outputs": [
    {
     "data": {
      "image/png": "[encoded data removed]",
      "text/latex": [
       "$$2 \\beta \\frac{d}{d t} \\operatorname{y_{0}}{\\left (t \\right )} \\frac{d}{d t} \\operatorname{y_{3}}{\\left (t \\right )} + 2 \\beta \\frac{d}{d t} \\operatorname{y_{1}}{\\left (t \\right )} \\frac{d}{d t} \\operatorname{y_{2}}{\\left (t \\right )} + 5 \\operatorname{y_{0}}^{4}{\\left (t \\right )} - 12 \\operatorname{y_{0}}^{2}{\\left (t \\right )} \\operatorname{y_{1}}{\\left (t \\right )} + 6 \\operatorname{y_{0}}{\\left (t \\right )} \\operatorname{y_{2}}{\\left (t \\right )} + 3 \\operatorname{y_{1}}^{2}{\\left (t \\right )} - 2 \\operatorname{y_{3}}{\\left (t \\right )} + \\frac{d^{2}}{d t^{2}} \\operatorname{y_{4}}{\\left (t \\right )}$$"
      ],
      "text/plain": [
       "  2                                                                           \n",
       " d                         2                           2                4     \n",
       "───(y₄(t)) - 2⋅y₃(t) + 3⋅y₁ (t) + 6⋅y₀(t)⋅y₂(t) - 12⋅y₀ (t)⋅y₁(t) + 5⋅y₀ (t) +\n",
       "  2                                                                           \n",
       "dt                                                                            \n",
       "\n",
       "                                                  \n",
       "     d         d               d         d        \n",
       " 2⋅β⋅──(y₁(t))⋅──(y₂(t)) + 2⋅β⋅──(y₀(t))⋅──(y₃(t))\n",
       "     dt        dt              dt        dt       \n",
       "                                                  "
      ]
     },
     "execution_count": 13,
     "metadata": {},
     "output_type": "execute_result"
    }
   ],
   "source": [
    "by_order[eps**4]"
   ]
  },
  {
   "cell_type": "code",
   "execution_count": 14,
   "metadata": {},
   "outputs": [
    {
     "data": {
      "image/png": "[encoded data removed]",
      "text/latex": [
       "$$\\operatorname{y_{4}}{\\left (t \\right )} = - \\frac{t^{5} \\left(992 \\beta^{4} t^{5} - 9920 \\beta^{4} t^{4} + 44640 \\beta^{4} t^{3} - 110880 \\beta^{4} t^{2} + 151200 \\beta^{4} t - 90720 \\beta^{4} + 1940 \\beta^{3} t^{5} - 19400 \\beta^{3} t^{4} + 75060 \\beta^{3} t^{3} - 138240 \\beta^{3} t^{2} + 103320 \\beta^{3} t + 2853 \\beta^{2} t^{5} - 28530 \\beta^{2} t^{4} + 106515 \\beta^{2} t^{3} - 176400 \\beta^{2} t^{2} + 109620 \\beta^{2} t + 3815 \\beta t^{5} - 38150 \\beta t^{4} + 139950 \\beta t^{3} - 220320 \\beta t^{2} + 120960 \\beta t + 3548 t^{5} - 35480 t^{4} + 123525 t^{3} - 171720 t^{2} + 75600 t\\right)}{453600}$$"
      ],
      "text/plain": [
       "          5 ⎛                  2           3          4         5             \n",
       "        -t ⋅⎝75600⋅t - 171720⋅t  + 123525⋅t  - 35480⋅t  + 3548⋅t  + 120960⋅β⋅t\n",
       "y₄(t) = ──────────────────────────────────────────────────────────────────────\n",
       "                                                                              \n",
       "\n",
       "             2             3            4           5           2             \n",
       " - 220320⋅β⋅t  + 139950⋅β⋅t  - 38150⋅β⋅t  + 3815⋅β⋅t  + 109620⋅β ⋅t - 176400⋅β\n",
       "──────────────────────────────────────────────────────────────────────────────\n",
       "                                                                              \n",
       "\n",
       "2  2           2  3          2  4         2  5           3             3  2   \n",
       " ⋅t  + 106515⋅β ⋅t  - 28530⋅β ⋅t  + 2853⋅β ⋅t  + 103320⋅β ⋅t - 138240⋅β ⋅t  + \n",
       "──────────────────────────────────────────────────────────────────────────────\n",
       "                      453600                                                  \n",
       "\n",
       "       3  3          3  4         3  5          4           4             4  2\n",
       "75060⋅β ⋅t  - 19400⋅β ⋅t  + 1940⋅β ⋅t  - 90720⋅β  + 151200⋅β ⋅t - 110880⋅β ⋅t \n",
       "──────────────────────────────────────────────────────────────────────────────\n",
       "                                                                              \n",
       "\n",
       "          4  3         4  4        4  5⎞ \n",
       " + 44640⋅β ⋅t  - 9920⋅β ⋅t  + 992⋅β ⋅t ⎠ \n",
       "─────────────────────────────────────────\n",
       "                                         "
      ]
     },
     "execution_count": 14,
     "metadata": {},
     "output_type": "execute_result"
    }
   ],
   "source": [
    "try:\n",
    "    eqn = sym.Eq(by_order[eps**4].replace(y3, soln3.rhs).replace(\n",
    "        y2, soln2.rhs).replace(y1, soln1.rhs).replace(y0, soln0.rhs))\n",
    "except NameError:\n",
    "    eqn = sym.Eq(by_order[eps**4].replace(y3, soln3.rhs))\n",
    "    \n",
    "soln4 = sym.dsolve(eqn, y4)\n",
    "constants = sym.solve([soln4.rhs.subs(t,0) - 0, \\\n",
    "                      soln4.rhs.diff(t,1).subs(t,0) - 0])\n",
    "C1, C2 = sym.symbols('C1 C2')\n",
    "soln4 = soln4.subs(constants)\n",
    "sym.factor(soln4)"
   ]
  },
  {
   "cell_type": "markdown",
   "metadata": {},
   "source": [
    "### $\\mbox{Composite Solution}$"
   ]
  },
  {
   "cell_type": "code",
   "execution_count": 33,
   "metadata": {},
   "outputs": [
    {
     "name": "stdout",
     "output_type": "stream",
     "text": [
      "0.00997118232863575 \\epsilon^{4} + 0.0180903441714801 \\epsilon^{3} - 0.0972943974999999 \\epsilon^{2} + 0.2498375 \\epsilon + \\frac{1}{2}\n"
     ]
    },
    {
     "data": {
      "image/png": "[encoded data removed]",
      "text/latex": [
       "$$\\epsilon^{4} \\left(\\frac{\\beta^{4} t^{5}}{5} + \\frac{t^{10} \\left(- 992 \\beta^{4} - 1940 \\beta^{3} - 2853 \\beta^{2} - 3815 \\beta - 3548\\right)}{453600} + \\frac{t^{9} \\left(992 \\beta^{4} + 1940 \\beta^{3} + 2853 \\beta^{2} + 3815 \\beta + 3548\\right)}{45360} + \\frac{t^{8} \\left(- 992 \\beta^{4} - 1668 \\beta^{3} - 2367 \\beta^{2} - 3110 \\beta - 2745\\right)}{10080} + \\frac{t^{7} \\left(308 \\beta^{4} + 384 \\beta^{3} + 490 \\beta^{2} + 612 \\beta + 477\\right)}{1260} + \\frac{t^{6} \\left(- 120 \\beta^{4} - 82 \\beta^{3} - 87 \\beta^{2} - 96 \\beta - 60\\right)}{360}\\right) + \\epsilon^{3} \\left(- \\frac{\\beta^{3} t^{4}}{4} + \\frac{t^{8} \\left(- 68 \\beta^{3} - 108 \\beta^{2} - 141 \\beta - 146\\right)}{10080} + \\frac{t^{7} \\left(68 \\beta^{3} + 108 \\beta^{2} + 141 \\beta + 146\\right)}{1260} + \\frac{t^{6} \\left(- 34 \\beta^{3} - 42 \\beta^{2} - 53 \\beta - 51\\right)}{180} + \\frac{t^{5} \\left(20 \\beta^{3} + 14 \\beta^{2} + 15 \\beta + 12\\right)}{60}\\right) + \\epsilon^{2} \\left(\\frac{\\beta^{2} t^{3}}{3} + \\frac{t^{6} \\left(- 8 \\beta^{2} - 10 \\beta - 11\\right)}{360} + \\frac{t^{5} \\left(8 \\beta^{2} + 10 \\beta + 11\\right)}{60} + \\frac{t^{4} \\left(- 4 \\beta^{2} - 3 \\beta - 3\\right)}{12}\\right) + \\epsilon \\left(- \\frac{\\beta t^{2}}{2} + \\frac{t^{4} \\left(- \\beta - 1\\right)}{12} + \\frac{t^{3} \\left(\\beta + 1\\right)}{3}\\right) - \\frac{t^{2}}{2} + t$$"
      ],
      "text/plain": [
       "     2     ⎛ 3            4               2⎞      ⎛ 4 ⎛              2⎞    5 ⎛\n",
       "    t      ⎜t ⋅(1 + β)   t ⋅(-1 - β)   β⋅t ⎟    2 ⎜t ⋅⎝-3 - 3⋅β - 4⋅β ⎠   t ⋅⎝\n",
       "t - ── + ε⋅⎜────────── + ─────────── - ────⎟ + ε ⋅⎜──────────────────── + ────\n",
       "    2      ⎝    3             12        2  ⎠      ⎝         12                \n",
       "\n",
       "               2⎞    6 ⎛                2⎞    2  3⎞      ⎛ 5 ⎛                \n",
       "11 + 10⋅β + 8⋅β ⎠   t ⋅⎝-11 - 10⋅β - 8⋅β ⎠   β ⋅t ⎟    3 ⎜t ⋅⎝12 + 15⋅β + 14⋅β\n",
       "───────────────── + ────────────────────── + ─────⎟ + ε ⋅⎜────────────────────\n",
       "      60                     360               3  ⎠      ⎝              60    \n",
       "\n",
       "2       3⎞    6 ⎛                 2       3⎞    7 ⎛                   2       \n",
       "  + 20⋅β ⎠   t ⋅⎝-51 - 53⋅β - 42⋅β  - 34⋅β ⎠   t ⋅⎝146 + 141⋅β + 108⋅β  + 68⋅β\n",
       "────────── + ─────────────────────────────── + ───────────────────────────────\n",
       "                           180                                1260            \n",
       "\n",
       "3⎞    8 ⎛                    2       3⎞    3  4⎞      ⎛ 6 ⎛                 2 \n",
       " ⎠   t ⋅⎝-146 - 141⋅β - 108⋅β  - 68⋅β ⎠   β ⋅t ⎟    4 ⎜t ⋅⎝-60 - 96⋅β - 87⋅β  \n",
       "── + ────────────────────────────────── - ─────⎟ + ε ⋅⎜───────────────────────\n",
       "                   10080                    4  ⎠      ⎝                  360  \n",
       "\n",
       "      3        4⎞    7 ⎛                   2        3        4⎞    8 ⎛        \n",
       "- 82⋅β  - 120⋅β ⎠   t ⋅⎝477 + 612⋅β + 490⋅β  + 384⋅β  + 308⋅β ⎠   t ⋅⎝-2745 - \n",
       "───────────────── + ─────────────────────────────────────────── + ────────────\n",
       "                                        1260                                  \n",
       "\n",
       "               2         3        4⎞    9 ⎛                      2         3  \n",
       "3110⋅β - 2367⋅β  - 1668⋅β  - 992⋅β ⎠   t ⋅⎝3548 + 3815⋅β + 2853⋅β  + 1940⋅β  +\n",
       "──────────────────────────────────── + ───────────────────────────────────────\n",
       "         10080                                              45360             \n",
       "\n",
       "      4⎞    10 ⎛                       2         3        4⎞    4  5⎞\n",
       " 992⋅β ⎠   t  ⋅⎝-3548 - 3815⋅β - 2853⋅β  - 1940⋅β  - 992⋅β ⎠   β ⋅t ⎟\n",
       "──────── + ───────────────────────────────────────────────── + ─────⎟\n",
       "                                 453600                          5  ⎠"
      ]
     },
     "execution_count": 33,
     "metadata": {},
     "output_type": "execute_result"
    }
   ],
   "source": [
    "y_comp = sym.symbols('y_{comp}', cls=sym.Function)\n",
    "try:\n",
    "    y_comp = sym.Eq(y_comp, soln0.rhs + eps*soln1.rhs + eps**2*soln2.rhs + eps**3*soln3.rhs + eps**4*soln4.rhs) # + eps**2*soln2.rhs)\n",
    "except NameError:\n",
    "    y_comp = sym.Eq(y_comp, eps*soln1.rhs + eps**2*soln2.rhs + eps**3*soln3.rhs + eps**4*soln4.rhs) # + eps**2*soln2.rhs)\n",
    "    \n",
    "#print(sym.latex(y_comp))\n",
    "#print(str(y_comp.rhs.subs(beta,6.5E-4)))\n",
    "print(sym.latex(y_comp.rhs.subs(beta,6.5E-4).subs(t, 1)))\n",
    "#sym.latex(y_comp.rhs.subs(beta, 6.5E-4))\n",
    "y_comp.rhs"
   ]
  },
  {
   "cell_type": "markdown",
   "metadata": {},
   "source": [
    "### $\\mbox{The Trajectory}$"
   ]
  },
  {
   "cell_type": "code",
   "execution_count": 16,
   "metadata": {},
   "outputs": [],
   "source": [
    "def savefig(filename, pics):\n",
    "    if pics == True:\n",
    "        plt.savefig('../doc/figures/{}.pgf'.format(filename), bbox_inches='tight', dpi=400)\n",
    "    else:\n",
    "        pass\n",
    "pics = True"
   ]
  },
  {
   "cell_type": "code",
   "execution_count": 17,
   "metadata": {
    "scrolled": false
   },
   "outputs": [
    {
     "data": {
      "text/plain": [
       "<Figure size 1800x1200 with 1 Axes>"
      ]
     },
     "metadata": {},
     "output_type": "display_data"
    }
   ],
   "source": [
    "import matplotlib.pyplot as plt\n",
    "import matplotlib\n",
    "import numpy as np\n",
    "import scipy as sp\n",
    "\n",
    "%config InlineBackend.figure_format = 'retina'\n",
    "plt.rc('text', usetex=True)\n",
    "plt.rc('font', family='serif')\n",
    "plt.rcParams['figure.dpi'] = 300\n",
    "matplotlib.rcParams.update(\n",
    "{   'text.color': 'k',\n",
    "    'xtick.color': 'k',\n",
    "    'ytick.color': 'k',\n",
    "    'axes.labelcolor': 'k'\n",
    "})\n",
    "plt.rc('font', size=14)\n",
    "eps_val = [.1, .5, 1.][::-1]\n",
    "linestyle = ['rs--', 'bo-', 'cv-.', 'k+:', 'm']\n",
    "tt = sp.arange(0,1,0.001)\n",
    "bet = 6.5E-4\n",
    "plt.figure(figsize=(6, 4))#, dpi=100)\n",
    "for keys, vals in enumerate(eps_val):\n",
    "    y_compP = sym.lambdify(t, y_comp.rhs.subs(eps, vals).subs(beta, bet), 'numpy')\n",
    "    plt.plot(tt, y_compP(tt), linestyle[keys],label=r'$\\phi \\mathbf{E}\\mbox{u}$'+ ' = {}'.format(vals).rstrip('0').rstrip('.')\n",
    "             , markevery=100)\n",
    "\n",
    "plt.ylim(ymin=0., ymax=0.7)\n",
    "plt.xlim(xmax=1)\n",
    "plt.ylabel(r'$y^*$')\n",
    "plt.xlabel(r'$t^*$')\n",
    "leg = plt.legend(title = r'$\\mathbf{D}\\mbox{g}$' +' = {:1.0E}'.format(bet)[:-4] + r'$\\times 10^{-4}$')\n",
    "leg.get_frame().set_linewidth(0.0)\n",
    "savefig('long_times',pics)\n",
    "plt.show();"
   ]
  },
  {
   "cell_type": "markdown",
   "metadata": {},
   "source": [
    "## Time aloft"
   ]
  },
  {
   "cell_type": "code",
   "execution_count": 18,
   "metadata": {},
   "outputs": [
    {
     "data": {
      "image/png": "[encoded data removed]",
      "text/latex": [
       "$$\\epsilon^{4} \\left(\\frac{\\beta^{4} t^{5}}{5} + \\frac{t^{10} \\left(- 992 \\beta^{4} - 1940 \\beta^{3} - 2853 \\beta^{2} - 3815 \\beta - 3548\\right)}{453600} + \\frac{t^{9} \\left(992 \\beta^{4} + 1940 \\beta^{3} + 2853 \\beta^{2} + 3815 \\beta + 3548\\right)}{45360} + \\frac{t^{8} \\left(- 992 \\beta^{4} - 1668 \\beta^{3} - 2367 \\beta^{2} - 3110 \\beta - 2745\\right)}{10080} + \\frac{t^{7} \\left(308 \\beta^{4} + 384 \\beta^{3} + 490 \\beta^{2} + 612 \\beta + 477\\right)}{1260} + \\frac{t^{6} \\left(- 120 \\beta^{4} - 82 \\beta^{3} - 87 \\beta^{2} - 96 \\beta - 60\\right)}{360}\\right) + \\epsilon^{3} \\left(- \\frac{\\beta^{3} t^{4}}{4} + \\frac{t^{8} \\left(- 68 \\beta^{3} - 108 \\beta^{2} - 141 \\beta - 146\\right)}{10080} + \\frac{t^{7} \\left(68 \\beta^{3} + 108 \\beta^{2} + 141 \\beta + 146\\right)}{1260} + \\frac{t^{6} \\left(- 34 \\beta^{3} - 42 \\beta^{2} - 53 \\beta - 51\\right)}{180} + \\frac{t^{5} \\left(20 \\beta^{3} + 14 \\beta^{2} + 15 \\beta + 12\\right)}{60}\\right) + \\epsilon^{2} \\left(\\frac{\\beta^{2} t^{3}}{3} + \\frac{t^{6} \\left(- 8 \\beta^{2} - 10 \\beta - 11\\right)}{360} + \\frac{t^{5} \\left(8 \\beta^{2} + 10 \\beta + 11\\right)}{60} + \\frac{t^{4} \\left(- 4 \\beta^{2} - 3 \\beta - 3\\right)}{12}\\right) + \\epsilon \\left(- \\frac{\\beta t^{2}}{2} + \\frac{t^{4} \\left(- \\beta - 1\\right)}{12} + \\frac{t^{3} \\left(\\beta + 1\\right)}{3}\\right) - \\frac{t^{2}}{2} + t$$"
      ],
      "text/plain": [
       "     2     ⎛ 3            4               2⎞      ⎛ 4 ⎛              2⎞    5 ⎛\n",
       "    t      ⎜t ⋅(1 + β)   t ⋅(-1 - β)   β⋅t ⎟    2 ⎜t ⋅⎝-3 - 3⋅β - 4⋅β ⎠   t ⋅⎝\n",
       "t - ── + ε⋅⎜────────── + ─────────── - ────⎟ + ε ⋅⎜──────────────────── + ────\n",
       "    2      ⎝    3             12        2  ⎠      ⎝         12                \n",
       "\n",
       "               2⎞    6 ⎛                2⎞    2  3⎞      ⎛ 5 ⎛                \n",
       "11 + 10⋅β + 8⋅β ⎠   t ⋅⎝-11 - 10⋅β - 8⋅β ⎠   β ⋅t ⎟    3 ⎜t ⋅⎝12 + 15⋅β + 14⋅β\n",
       "───────────────── + ────────────────────── + ─────⎟ + ε ⋅⎜────────────────────\n",
       "      60                     360               3  ⎠      ⎝              60    \n",
       "\n",
       "2       3⎞    6 ⎛                 2       3⎞    7 ⎛                   2       \n",
       "  + 20⋅β ⎠   t ⋅⎝-51 - 53⋅β - 42⋅β  - 34⋅β ⎠   t ⋅⎝146 + 141⋅β + 108⋅β  + 68⋅β\n",
       "────────── + ─────────────────────────────── + ───────────────────────────────\n",
       "                           180                                1260            \n",
       "\n",
       "3⎞    8 ⎛                    2       3⎞    3  4⎞      ⎛ 6 ⎛                 2 \n",
       " ⎠   t ⋅⎝-146 - 141⋅β - 108⋅β  - 68⋅β ⎠   β ⋅t ⎟    4 ⎜t ⋅⎝-60 - 96⋅β - 87⋅β  \n",
       "── + ────────────────────────────────── - ─────⎟ + ε ⋅⎜───────────────────────\n",
       "                   10080                    4  ⎠      ⎝                  360  \n",
       "\n",
       "      3        4⎞    7 ⎛                   2        3        4⎞    8 ⎛        \n",
       "- 82⋅β  - 120⋅β ⎠   t ⋅⎝477 + 612⋅β + 490⋅β  + 384⋅β  + 308⋅β ⎠   t ⋅⎝-2745 - \n",
       "───────────────── + ─────────────────────────────────────────── + ────────────\n",
       "                                        1260                                  \n",
       "\n",
       "               2         3        4⎞    9 ⎛                      2         3  \n",
       "3110⋅β - 2367⋅β  - 1668⋅β  - 992⋅β ⎠   t ⋅⎝3548 + 3815⋅β + 2853⋅β  + 1940⋅β  +\n",
       "──────────────────────────────────── + ───────────────────────────────────────\n",
       "         10080                                              45360             \n",
       "\n",
       "      4⎞    10 ⎛                       2         3        4⎞    4  5⎞\n",
       " 992⋅β ⎠   t  ⋅⎝-3548 - 3815⋅β - 2853⋅β  - 1940⋅β  - 992⋅β ⎠   β ⋅t ⎟\n",
       "──────── + ───────────────────────────────────────────────── + ─────⎟\n",
       "                                 453600                          5  ⎠"
      ]
     },
     "execution_count": 18,
     "metadata": {},
     "output_type": "execute_result"
    }
   ],
   "source": [
    "y2 = sym.symbols('y2', cls=sym.Function)\n",
    "y2 = sym.Function('y2')(t)\n",
    "try:\n",
    "    y2 = sym.Eq(y2, soln0.rhs + eps*soln1.rhs + eps**2*soln2.rhs \n",
    "                + eps**3*soln3.rhs + eps**4*soln4.rhs) # + eps**2*soln2.rhs)\n",
    "except NameError:\n",
    "    y2 = sym.Eq(y2, eps*soln1.rhs + eps**2*soln2.rhs + eps**3*soln3.rhs + eps**4*soln4.rhs)\n",
    "y2.rhs\n",
    "#y2.diff(t)"
   ]
  },
  {
   "cell_type": "code",
   "execution_count": 19,
   "metadata": {},
   "outputs": [],
   "source": [
    "tau0, tau1, tau2, tau3 = sym.symbols('tau0 tau1 tau2 tau3')\n",
    "tau = sym.Eq(tau0 + eps*tau1 + eps**2*tau2 + eps**3*tau3)\n",
    "y3 = y2.rhs.subs(t, tau.lhs).series(eps)\n",
    "col = sym.collect(y3, eps, evaluate=False)"
   ]
  },
  {
   "cell_type": "markdown",
   "metadata": {},
   "source": [
    "### $\\mathcal{O} \\left( 1 \\right) \\mbox{Solution}$"
   ]
  },
  {
   "cell_type": "code",
   "execution_count": 20,
   "metadata": {},
   "outputs": [
    {
     "data": {
      "image/png": "[encoded data removed]",
      "text/latex": [
       "$$- \\frac{\\tau_{0}^{2}}{2} + \\tau_{0} = 0$$"
      ],
      "text/plain": [
       "       2    \n",
       "     τ₀     \n",
       "τ₀ - ─── = 0\n",
       "      2     "
      ]
     },
     "execution_count": 20,
     "metadata": {},
     "output_type": "execute_result"
    }
   ],
   "source": [
    "#tau0 = 2\n",
    "sym.Eq(col[1].removeO())"
   ]
  },
  {
   "cell_type": "markdown",
   "metadata": {},
   "source": [
    "Two roots, lets look at $\\tau_0 = 2$."
   ]
  },
  {
   "cell_type": "markdown",
   "metadata": {},
   "source": [
    "### $\\mathcal{O} \\left( \\epsilon \\right) \\mbox{Solution}$"
   ]
  },
  {
   "cell_type": "code",
   "execution_count": 21,
   "metadata": {},
   "outputs": [
    {
     "data": {
      "image/png": "[encoded data removed]",
      "text/latex": [
       "$$- \\frac{2 \\beta}{3} - \\tau_{1} + \\frac{4}{3}$$"
      ],
      "text/plain": [
       "4        2⋅β\n",
       "─ - τ₁ - ───\n",
       "3         3 "
      ]
     },
     "execution_count": 21,
     "metadata": {},
     "output_type": "execute_result"
    }
   ],
   "source": [
    "order_eps = col[eps].subs(tau0, 2)\n",
    "order_eps "
   ]
  },
  {
   "cell_type": "code",
   "execution_count": 22,
   "metadata": {},
   "outputs": [],
   "source": [
    "soln_eps = sym.solve(order_eps, tau1)"
   ]
  },
  {
   "cell_type": "markdown",
   "metadata": {},
   "source": [
    "### $\\mathcal{O} \\left( \\epsilon^2 \\right) \\mbox{Solution}$"
   ]
  },
  {
   "cell_type": "code",
   "execution_count": 23,
   "metadata": {},
   "outputs": [
    {
     "data": {
      "image/png": "[encoded data removed]",
      "text/latex": [
       "$$\\frac{8 \\beta^{2}}{45} - \\frac{2 \\beta \\left(- \\frac{2 \\beta}{3} + \\frac{4}{3}\\right)}{3} - \\frac{4 \\beta}{3} - \\tau_{2} - \\frac{\\left(- \\frac{2 \\beta}{3} + \\frac{4}{3}\\right)^{2}}{2} + \\frac{76}{45}$$"
      ],
      "text/plain": [
       "              2                                  \n",
       "     ⎛4   2⋅β⎞                   ⎛4   2⋅β⎞       \n",
       "     ⎜─ - ───⎟               2⋅β⋅⎜─ - ───⎟      2\n",
       "76   ⎝3    3 ⎠         4⋅β       ⎝3    3 ⎠   8⋅β \n",
       "── - ────────── - τ₂ - ─── - ───────────── + ────\n",
       "45       2              3          3          45 "
      ]
     },
     "execution_count": 23,
     "metadata": {},
     "output_type": "execute_result"
    }
   ],
   "source": [
    "order_eps2 = col[eps**2].subs(tau0, 2).subs(tau1, soln_eps[0])\n",
    "order_eps2"
   ]
  },
  {
   "cell_type": "code",
   "execution_count": 24,
   "metadata": {},
   "outputs": [],
   "source": [
    "soln_eps2 = sym.solve(order_eps2, tau2)"
   ]
  },
  {
   "cell_type": "markdown",
   "metadata": {},
   "source": [
    "### $\\mathcal{O} \\left( \\epsilon^3 \\right) \\mbox{Solution}$"
   ]
  },
  {
   "cell_type": "code",
   "execution_count": 25,
   "metadata": {},
   "outputs": [],
   "source": [
    "order_eps3 = col[eps**3].subs(tau0, 2).subs(tau1, soln_eps[0]).subs(tau2, soln_eps2[0])\n",
    "order_eps3\n",
    "soln_eps3 = sym.solve(order_eps3, tau3)"
   ]
  },
  {
   "cell_type": "markdown",
   "metadata": {},
   "source": [
    "### Composite solution"
   ]
  },
  {
   "cell_type": "code",
   "execution_count": 26,
   "metadata": {},
   "outputs": [
    {
     "data": {
      "image/png": "[encoded data removed]",
      "text/latex": [
       "$$5.026548245743669$$"
      ],
      "text/plain": [
       "5.026548245743669"
      ]
     },
     "execution_count": 26,
     "metadata": {},
     "output_type": "execute_result"
    }
   ],
   "source": [
    "0.2*8*np.pi"
   ]
  },
  {
   "cell_type": "code",
   "execution_count": 27,
   "metadata": {},
   "outputs": [
    {
     "name": "stdout",
     "output_type": "stream",
     "text": [
      "0.597660039324869*epsilon**3 + 1.04695218864*epsilon**2 + 1.74614266666667*epsilon + 2.62\n",
      "0.456229037652571*epsilon**3 + 0.799200144*epsilon**2 + 1.33293333333333*epsilon + 2\n",
      "113.75340697961346\n"
     ]
    },
    {
     "data": {
      "image/png": "[encoded data removed]",
      "text/latex": [
       "$$\\epsilon^{3} \\left(- \\frac{2 \\beta^{3}}{7} + \\frac{136 \\beta^{2}}{105} - \\frac{32 \\beta}{21} + \\frac{16}{35}\\right) + \\epsilon^{2} \\left(\\frac{2 \\beta^{2}}{5} - \\frac{4 \\beta}{3} + \\frac{4}{5}\\right) + \\epsilon \\left(- \\frac{2 \\beta}{3} + \\frac{4}{3}\\right) + 2 = 0$$"
      ],
      "text/plain": [
       "                     ⎛             2⎞      ⎛                 2      3⎞    \n",
       "      ⎛4   2⋅β⎞    2 ⎜4   4⋅β   2⋅β ⎟    3 ⎜16   32⋅β   136⋅β    2⋅β ⎟    \n",
       "2 + ε⋅⎜─ - ───⎟ + ε ⋅⎜─ - ─── + ────⎟ + ε ⋅⎜── - ──── + ────── - ────⎟ = 0\n",
       "      ⎝3    3 ⎠      ⎝5    3     5  ⎠      ⎝35    21     105      7  ⎠    "
      ]
     },
     "execution_count": 27,
     "metadata": {},
     "output_type": "execute_result"
    }
   ],
   "source": [
    "tau0, tau1, tau2, tau3 = sym.symbols('tau0 tau1 tau2 tau3')\n",
    "tau = sym.Eq(tau0 + eps*tau1 + eps**2*tau2 + eps**3*tau3)\n",
    "tau = tau.subs(tau0, 2).subs(tau1, soln_eps[0]).subs(tau2, soln_eps2[0]).subs(tau3, soln_eps3[0])\n",
    "print(tau.subs(beta, 6E-4).lhs*1.31)\n",
    "print(str(tau.subs(beta, 6E-4).lhs))\n",
    "tau_soln = sym.lambdify(eps, tau.subs(beta, 6E-4).lhs*1.31, 'numpy')\n",
    "print(tau_soln(5.026548245743669))\n",
    "tau"
   ]
  },
  {
   "cell_type": "code",
   "execution_count": 31,
   "metadata": {},
   "outputs": [
    {
     "data": {
      "image/png": "[encoded data removed]",
      "text/latex": [
       "$$- \\gamma \\left(0.104037746912581 \\gamma^{5} + 0.364527087041757 \\gamma^{4} + 0.92731341515627 \\gamma^{3} + 1.52131797337211 \\gamma^{2} + 1.68744470733333 \\gamma + 1.3329\\right)$$"
      ],
      "text/plain": [
       "   ⎛                                                2                     3   \n",
       "-γ⋅⎝1.3329 + 1.68744470733333⋅γ + 1.52131797337211⋅γ  + 0.92731341515627⋅γ  + \n",
       "\n",
       "                   4                      5⎞\n",
       "0.364527087041757⋅γ  + 0.104037746912581⋅γ ⎠"
      ]
     },
     "execution_count": 31,
     "metadata": {},
     "output_type": "execute_result"
    }
   ],
   "source": [
    "a=y_comp.rhs.subs(t, tau.lhs.subs(eps, gamma)).subs(beta,6.5E-4)\n",
    "#(sym.collect(a, eps, evaluate=False)[1])\n",
    "b = sym.collect(a, eps, evaluate=False)[1]\n",
    "sym.simplify(b)"
   ]
  },
  {
   "cell_type": "code",
   "execution_count": null,
   "metadata": {},
   "outputs": [],
   "source": [
    "ttt = np.arange(0.01, 1,0.001)\n",
    "betas = [bet]\n",
    "linestyle = ['k','k--', 'bo-', 'cv-.', 'k+:', 'm']\n",
    "plt.figure(figsize=(6, 4))#, dpi=100)\n",
    "for keys, vals in enumerate(betas):\n",
    "    taun = tau.subs(beta, vals)\n",
    "    tau_soln = sym.lambdify(eps, taun.lhs, 'numpy')\n",
    "    label=['{:1.0E}'.format(vals)[:-4] + r'$\\times 10^{-4}$']\n",
    "    plt.semilogx(ttt, tau_soln(ttt), linestyle[keys], \n",
    "                 label=r'$\\mathbf{D}\\mbox{g}$ = '+ label[keys], markevery=100)\n",
    "plt.xlabel(r'$\\phi \\mathbf{E}\\mbox{u}$')\n",
    "plt.ylabel(r'$t_f$')\n",
    "plt.legend()\n",
    "savefig('drag', pics)\n",
    "plt.show();"
   ]
  },
  {
   "cell_type": "markdown",
   "metadata": {},
   "source": [
    "## Drag vs. inertia"
   ]
  },
  {
   "cell_type": "code",
   "execution_count": null,
   "metadata": {},
   "outputs": [],
   "source": [
    "t, V = sym.symbols('t V', real=True, positive=True)\n",
    "u = sym.symbols('u', cls=sym.Function)\n",
    "eq = sym.diff(u(t), t) + u(t)**2\n",
    "sol = sym.dsolve(eq, u(t))\n",
    "print(sol.rhs)\n",
    "u = sol.rhs"
   ]
  },
  {
   "cell_type": "code",
   "execution_count": null,
   "metadata": {},
   "outputs": [],
   "source": [
    "C1, C2 = sym.symbols('C1 C2')\n",
    "eq = sym.Eq(u.subs(t, 0), 1)\n",
    "sol = sym.solve(eq, C1)[0]\n",
    "print(sol)\n",
    "print(u.subs(C1, sol))"
   ]
  },
  {
   "cell_type": "code",
   "execution_count": null,
   "metadata": {},
   "outputs": [],
   "source": [
    "tt = np.arange(0.01,1.,0.001)\n",
    "plt.figure(figsize=(6, 4), dpi=100)\n",
    "u_soln = sym.lambdify(t, u.subs(C1, sol).subs(V,1.), 'numpy')\n",
    "plt.semilogy(tt, u_soln(tt), 'k')\n",
    "plt.show();"
   ]
  },
  {
   "cell_type": "code",
   "execution_count": null,
   "metadata": {},
   "outputs": [],
   "source": []
  }
 ],
 "metadata": {
  "kernelspec": {
   "display_name": "Python 3",
   "language": "python",
   "name": "python3"
  },
  "language_info": {
   "codemirror_mode": {
    "name": "ipython",
    "version": 3
   },
   "file_extension": ".py",
   "mimetype": "text/x-python",
   "name": "python",
   "nbconvert_exporter": "python",
   "pygments_lexer": "ipython3",
   "version": "3.6.7"
  }
 },
 "nbformat": 4,
 "nbformat_minor": 2
}
