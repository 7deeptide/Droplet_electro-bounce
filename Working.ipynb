{
 "cells": [
  {
   "cell_type": "code",
   "execution_count": 1,
   "metadata": {},
   "outputs": [
    {
     "data": {
      "text/plain": [
       "['blue', 'magenta']"
      ]
     },
     "execution_count": 1,
     "metadata": {},
     "output_type": "execute_result"
    }
   ],
   "source": [
    "colors = ['red', 'blue', 'green', 'magenta', 'lavendar']\n",
    "type(colors)\n",
    "colors[2]\n",
    "colors [-2]\n",
    "colors[1::2]"
   ]
  },
  {
   "cell_type": "code",
   "execution_count": 2,
   "metadata": {
    "collapsed": true
   },
   "outputs": [],
   "source": [
    "#note can use the slicing stride to get the correct rows for double drops\n",
    "#e.g. colors[1::2]"
   ]
  },
  {
   "cell_type": "code",
   "execution_count": 3,
   "metadata": {},
   "outputs": [
    {
     "data": {
      "text/plain": [
       "['red', 'blue', 'green', 'magenta', 'lavendar']"
      ]
     },
     "execution_count": 3,
     "metadata": {},
     "output_type": "execute_result"
    }
   ],
   "source": [
    "colors"
   ]
  },
  {
   "cell_type": "code",
   "execution_count": 4,
   "metadata": {
    "collapsed": true
   },
   "outputs": [],
   "source": [
    "colors[0] ='yello'"
   ]
  },
  {
   "cell_type": "code",
   "execution_count": 41,
   "metadata": {},
   "outputs": [
    {
     "name": "stdout",
     "output_type": "stream",
     "text": [
      "i\n",
      "t\n",
      "'\n",
      "s\n",
      " \n",
      "a\n",
      " \n",
      "m\n",
      "e\n",
      "s\n",
      "s\n",
      "a\n",
      "g\n",
      "e\n"
     ]
    }
   ],
   "source": [
    "message = \"it's a message\"\n",
    "for letter in message:\n",
    "    print(letter)"
   ]
  },
  {
   "cell_type": "code",
   "execution_count": 6,
   "metadata": {},
   "outputs": [
    {
     "data": {
      "text/plain": [
       "['red', 'green', 'black', 'white']"
      ]
     },
     "execution_count": 6,
     "metadata": {},
     "output_type": "execute_result"
    }
   ],
   "source": [
    "#add and remove elements\n",
    "colors[2:4]=['grey', 'purple']\n",
    "colors\n",
    "colors = [3, -200, 'hello']\n",
    "colors\n",
    "colors[1], colors[2]\n",
    "colors = ['red', 'green', 'black', 'white']\n",
    "colors.append('pink')\n",
    "colors\n",
    "colors.pop()\n",
    "colors.extend(['pink', 'purple'])\n",
    "colors\n",
    "colors = colors[:-2]\n",
    "colors"
   ]
  },
  {
   "cell_type": "code",
   "execution_count": 7,
   "metadata": {},
   "outputs": [
    {
     "data": {
      "text/plain": [
       "['white', 'black', 'green', 'red']"
      ]
     },
     "execution_count": 7,
     "metadata": {},
     "output_type": "execute_result"
    }
   ],
   "source": [
    "#reverse\n",
    "rcolors = colors[::-1]\n",
    "rcolors\n",
    "rcolors2 = list(colors)\n",
    "rcolors2.reverse()\n",
    "rcolors2"
   ]
  },
  {
   "cell_type": "code",
   "execution_count": 8,
   "metadata": {},
   "outputs": [
    {
     "data": {
      "text/plain": [
       "['white', 'black', 'green', 'red', 'red', 'green', 'black', 'white']"
      ]
     },
     "execution_count": 8,
     "metadata": {},
     "output_type": "execute_result"
    }
   ],
   "source": [
    "#concatenate and repat lists\n",
    "rcolors+colors"
   ]
  },
  {
   "cell_type": "code",
   "execution_count": 9,
   "metadata": {},
   "outputs": [
    {
     "data": {
      "text/plain": [
       "['white', 'black', 'green', 'red', 'white', 'black', 'green', 'red']"
      ]
     },
     "execution_count": 9,
     "metadata": {},
     "output_type": "execute_result"
    }
   ],
   "source": [
    "rcolors*2"
   ]
  },
  {
   "cell_type": "code",
   "execution_count": 10,
   "metadata": {},
   "outputs": [
    {
     "name": "stdout",
     "output_type": "stream",
     "text": [
      "['white', 'black', 'green', 'red']\n"
     ]
    },
    {
     "data": {
      "text/plain": [
       "['black', 'green', 'red', 'white']"
      ]
     },
     "execution_count": 10,
     "metadata": {},
     "output_type": "execute_result"
    }
   ],
   "source": [
    "#sort\n",
    "print(rcolors)\n",
    "rcolors.sort()\n",
    "#sorted(rcolors)\n",
    "rcolors"
   ]
  },
  {
   "cell_type": "code",
   "execution_count": 11,
   "metadata": {},
   "outputs": [
    {
     "data": {
      "text/plain": [
       "'processing_of_dataset_102.txt'"
      ]
     },
     "execution_count": 11,
     "metadata": {},
     "output_type": "execute_result"
    }
   ],
   "source": [
    "i = 102\n",
    "filename = 'processing_of_dataset_%d.txt' % i\n",
    "filename"
   ]
  },
  {
   "cell_type": "code",
   "execution_count": 12,
   "metadata": {},
   "outputs": [
    {
     "data": {
      "text/plain": [
       "'An integer: 1; a float: 0.100000; another string string'"
      ]
     },
     "execution_count": 12,
     "metadata": {},
     "output_type": "execute_result"
    }
   ],
   "source": [
    "'An integer: %i; a float: %f; another string %s' %(1, 0.1, 'string') "
   ]
  },
  {
   "cell_type": "code",
   "execution_count": 13,
   "metadata": {},
   "outputs": [
    {
     "data": {
      "text/plain": [
       "{'emmanuelle': 5752, 'francis': 5915, 'sebastian': 5578}"
      ]
     },
     "execution_count": 13,
     "metadata": {},
     "output_type": "execute_result"
    }
   ],
   "source": [
    "#Dictionaries\n",
    "tel = {'emmanuelle':5752, 'sebastian': 5578}\n",
    "tel['francis'] = 5915\n",
    "tel"
   ]
  },
  {
   "cell_type": "code",
   "execution_count": 14,
   "metadata": {},
   "outputs": [
    {
     "data": {
      "text/plain": [
       "dict_keys(['emmanuelle', 'sebastian', 'francis'])"
      ]
     },
     "execution_count": 14,
     "metadata": {},
     "output_type": "execute_result"
    }
   ],
   "source": [
    "tel.keys()\n",
    "'francis' in tel\n",
    "a = [1,0,5]\n",
    "4 in a\n",
    "d = {'a':1, 'b':2, 3:'hello'}\n",
    "tel.keys()"
   ]
  },
  {
   "cell_type": "code",
   "execution_count": 22,
   "metadata": {},
   "outputs": [
    {
     "name": "stdout",
     "output_type": "stream",
     "text": [
      "3.141592575080861\n"
     ]
    }
   ],
   "source": [
    "i = 1\n",
    "pi = 4*i**2/(4*i**2 - 1)\n",
    "while i <=10000000:\n",
    "    i+= 1\n",
    "    pi *= 4*i**2/(4*i**2 - 1)\n",
    "\n",
    "pi *= 2\n",
    "print(pi)"
   ]
  },
  {
   "cell_type": "code",
   "execution_count": 23,
   "metadata": {},
   "outputs": [
    {
     "name": "stdout",
     "output_type": "stream",
     "text": [
      "Obvious!\n"
     ]
    }
   ],
   "source": [
    "if 2**2 == 4:\n",
    "    print('Obvious!')"
   ]
  },
  {
   "cell_type": "code",
   "execution_count": null,
   "metadata": {
    "collapsed": true
   },
   "outputs": [],
   "source": []
  },
  {
   "cell_type": "code",
   "execution_count": 24,
   "metadata": {},
   "outputs": [
    {
     "name": "stdout",
     "output_type": "stream",
     "text": [
      "A lot\n"
     ]
    }
   ],
   "source": [
    "a = 10\n",
    "if a == 1:\n",
    "    print(1)\n",
    "elif a == 2:\n",
    "    print(2)\n",
    "else:\n",
    "    print('A lot')"
   ]
  },
  {
   "cell_type": "code",
   "execution_count": 25,
   "metadata": {},
   "outputs": [
    {
     "name": "stdout",
     "output_type": "stream",
     "text": [
      "Python is cool\n",
      "Python is powerful\n",
      "Python is readible\n"
     ]
    }
   ],
   "source": [
    "for word in ('cool', 'powerful', 'readible'):\n",
    "    print('Python is {}'.format(word))"
   ]
  },
  {
   "cell_type": "code",
   "execution_count": 27,
   "metadata": {},
   "outputs": [
    {
     "data": {
      "text/plain": [
       "(-134+352j)"
      ]
     },
     "execution_count": 27,
     "metadata": {},
     "output_type": "execute_result"
    }
   ],
   "source": [
    "z = 1 + 1j\n",
    "while abs(z) < 100:\n",
    "    if z.imag ==0:\n",
    "        break\n",
    "    z = z**2 + 1\n",
    "\n",
    "z"
   ]
  },
  {
   "cell_type": "code",
   "execution_count": 29,
   "metadata": {},
   "outputs": [
    {
     "name": "stdout",
     "output_type": "stream",
     "text": [
      "1.0\n",
      "NaN\n",
      "0.5\n",
      "0.25\n"
     ]
    }
   ],
   "source": [
    "a = [1,0,2,4]\n",
    "for element in a:\n",
    "    if element ==0:\n",
    "        print('NaN')\n",
    "        continue\n",
    "    print(1./ element)"
   ]
  },
  {
   "cell_type": "code",
   "execution_count": 30,
   "metadata": {},
   "outputs": [
    {
     "name": "stdout",
     "output_type": "stream",
     "text": [
      "o\n",
      "e\n",
      "u\n"
     ]
    }
   ],
   "source": [
    "vowels = 'aeiouy'\n",
    "for i in 'powerful':\n",
    "    if i in vowels:\n",
    "        print(i)"
   ]
  },
  {
   "cell_type": "code",
   "execution_count": 33,
   "metadata": {},
   "outputs": [
    {
     "name": "stdout",
     "output_type": "stream",
     "text": [
      "Hello\n",
      "how\n",
      "are\n",
      "you?\n"
     ]
    },
    {
     "data": {
      "text/plain": [
       "'Hello how are you?'"
      ]
     },
     "execution_count": 33,
     "metadata": {},
     "output_type": "execute_result"
    }
   ],
   "source": [
    "message = \"Hello how are you?\"\n",
    "message.split() #returns a list\n",
    "for word in message.split():\n",
    "    print(word)\n",
    "message"
   ]
  },
  {
   "cell_type": "code",
   "execution_count": 35,
   "metadata": {},
   "outputs": [
    {
     "name": "stdout",
     "output_type": "stream",
     "text": [
      "(0, 'cool')\n",
      "(1, 'powerful')\n",
      "(2, 'readable')\n"
     ]
    }
   ],
   "source": [
    "#Keeping track of the enumeration number\n",
    "words = ('cool', 'powerful', 'readable')\n",
    "for i in range(0, len(words)):\n",
    "    print((i,words[i]))"
   ]
  },
  {
   "cell_type": "code",
   "execution_count": 37,
   "metadata": {},
   "outputs": [
    {
     "name": "stdout",
     "output_type": "stream",
     "text": [
      "(0, 'cool')\n",
      "(1, 'powerful')\n",
      "(2, 'readable')\n"
     ]
    }
   ],
   "source": [
    "for index, item in enumerate(words):\n",
    "    print((index,item))"
   ]
  },
  {
   "cell_type": "code",
   "execution_count": 39,
   "metadata": {},
   "outputs": [
    {
     "name": "stdout",
     "output_type": "stream",
     "text": [
      "Key: a has values: 1\n",
      "Key: b has values: 1.2\n",
      "Key: c has values: 1j\n"
     ]
    }
   ],
   "source": [
    "#Looping over a dictionary\n",
    "\n",
    "d = {'a':1, 'b':1.2, 'c':1j}\n",
    "for key, val in sorted(d.items()):\n",
    "    print('Key: %s has values: %s' % (key, val))"
   ]
  },
  {
   "cell_type": "code",
   "execution_count": 40,
   "metadata": {},
   "outputs": [
    {
     "data": {
      "text/plain": [
       "[0, 1, 4, 9]"
      ]
     },
     "execution_count": 40,
     "metadata": {},
     "output_type": "execute_result"
    }
   ],
   "source": [
    "[i**2 for i in range(4)]"
   ]
  },
  {
   "cell_type": "code",
   "execution_count": 43,
   "metadata": {
    "collapsed": true
   },
   "outputs": [],
   "source": [
    "def slicer(seq, start=None, stop=None, step=None):\n",
    "    \"\"\"Implimennt basic python slicing\"\"\"\n",
    "    return seq[start:stop:step]\n",
    "\n",
    "rhyme = 'one fish, two fish, red fish, blue fish'.split()"
   ]
  },
  {
   "cell_type": "code",
   "execution_count": 47,
   "metadata": {},
   "outputs": [
    {
     "data": {
      "text/plain": [
       "['fish,', 'fish,', 'fish,', 'fish']"
      ]
     },
     "execution_count": 47,
     "metadata": {},
     "output_type": "execute_result"
    }
   ],
   "source": [
    "slicer(rhyme,1, step=2)"
   ]
  },
  {
   "cell_type": "code",
   "execution_count": 10,
   "metadata": {},
   "outputs": [
    {
     "name": "stdout",
     "output_type": "stream",
     "text": [
      "23\n",
      "[99, 42]\n",
      "[99]\n",
      "77 [99, 42] [28]\n"
     ]
    }
   ],
   "source": [
    "#passing by values (modifying a variable in a local namespace)\n",
    "\n",
    "def try_to_modify(x,y,z):\n",
    "    x=23\n",
    "    y.append(42)\n",
    "    z=[99] # new reference\n",
    "    print(x)\n",
    "    print(y)\n",
    "    print(z)\n",
    "    \n",
    "a= 77 #immutable variable\n",
    "b=[99] #mutable variable\n",
    "c =[28]\n",
    "try_to_modify(a, b, c)\n",
    "print(a,b,c)"
   ]
  },
  {
   "cell_type": "code",
   "execution_count": 11,
   "metadata": {},
   "outputs": [
    {
     "data": {
      "text/plain": [
       "15"
      ]
     },
     "execution_count": 11,
     "metadata": {},
     "output_type": "execute_result"
    }
   ],
   "source": [
    "#Global variables\n",
    "x=5\n",
    "def addx(y):\n",
    "    return x+y\n",
    "\n",
    "addx(10)"
   ]
  },
  {
   "cell_type": "code",
   "execution_count": 14,
   "metadata": {},
   "outputs": [
    {
     "name": "stdout",
     "output_type": "stream",
     "text": [
      "x is 10\n"
     ]
    },
    {
     "data": {
      "text/plain": [
       "10"
      ]
     },
     "execution_count": 14,
     "metadata": {},
     "output_type": "execute_result"
    }
   ],
   "source": [
    "def setx(y):\n",
    "    global x\n",
    "    x = y\n",
    "    print('x is %d' % x)\n",
    "    \n",
    "setx(10)\n",
    "x"
   ]
  },
  {
   "cell_type": "code",
   "execution_count": 25,
   "metadata": {},
   "outputs": [
    {
     "name": "stdout",
     "output_type": "stream",
     "text": [
      "args is ('one', 'two')\n",
      "kwargs is {'x': 1, 'y': 2, 'z': 3}\n",
      "args is ('three',)\n",
      "kwargs is {'x': 1, 'y': 2}\n"
     ]
    }
   ],
   "source": [
    "#Variable number of parameters\n",
    "#*args: any number of positonal arguments packed into a tuple\n",
    "#**kwargs: any number of keywords argumets packed into a dictionary\n",
    "def variable_args(*args, **kwargs):\n",
    "    \"\"\"A function that prints *args and **kwargs used as arguments.\"\"\"\n",
    "    print('args is', args)\n",
    "    print('kwargs is', kwargs)\n",
    "    \n",
    "variable_args('one', 'two', x=1, y=2, z=3)\n",
    "va = variable_args\n",
    "va('three', x=1, y=2)"
   ]
  },
  {
   "cell_type": "code",
   "execution_count": 65,
   "metadata": {},
   "outputs": [
    {
     "data": {
      "text/plain": [
       "[1, 1, 2, 3, 5, 8, 13, 21, 34]"
      ]
     },
     "execution_count": 65,
     "metadata": {},
     "output_type": "execute_result"
    }
   ],
   "source": [
    "def fib(n, u_0=1, u_1=1):\n",
    "    \"\"\"Write a function that displays the first n \\\n",
    "    terms of the Fibonacci sequence\"\"\"\n",
    "    u = [u_0,u_1]\n",
    "    if u[1]>= u[0]:\n",
    "        for i in range(n-3):\n",
    "            u.append(u[i] + u[i+1])\n",
    "        return u\n",
    "    else:\n",
    "        print(\"Make sure the inital sequence \\\n",
    "        is monotonically increasing\")\n",
    "\n",
    "fib(10)\n",
    "        "
   ]
  },
  {
   "cell_type": "code",
   "execution_count": 48,
   "metadata": {},
   "outputs": [
    {
     "data": {
      "text/plain": [
       "[0, 3, 5, 8, 8, 8, 11, 19, 27, 43]"
      ]
     },
     "execution_count": 48,
     "metadata": {},
     "output_type": "execute_result"
    }
   ],
   "source": [
    "import random as r\n",
    "def qs(l):\n",
    "    less= []\n",
    "    greater=[]\n",
    "    \"\"\"The quicksort algorithem\"\"\"\n",
    "    if len(l) > 1:\n",
    "        pivot = l.pop(r.randint(0,len(l)-1))\n",
    "        for k in l:\n",
    "            if k < pivot + 1:\n",
    "                less.append(k)\n",
    "            else:\n",
    "                greater.append(k)\n",
    "        return qs(less)+[pivot]+qs(greater)\n",
    "    else:\n",
    "        return l\n",
    "\n",
    "q= [43, 27, 8,8,8, 19,0, 5, 11, 3]\n",
    "qs(q)"
   ]
  },
  {
   "cell_type": "code",
   "execution_count": 66,
   "metadata": {},
   "outputs": [
    {
     "data": {
      "text/plain": [
       "['results_06645.xlsx',\n",
       " 'jfm-instructions.aux',\n",
       " 'AMSsymb.sty',\n",
       " 'jfm-instructions.log',\n",
       " 'test.bib',\n",
       " 'jfm-instructions.pdf',\n",
       " 'escape_velo_2.xlsx',\n",
       " 'pt_new',\n",
       " 'natbib.sty',\n",
       " 'ef_notes.blg',\n",
       " 'jfm-instructions.bib',\n",
       " '.ipynb_checkpoints',\n",
       " 'thesis_outline.bbl',\n",
       " 'jfm-instructions.synctex.gz',\n",
       " 'ef_notes.bbl',\n",
       " 'thesis_outline.blg',\n",
       " 'ef_notes.pdf',\n",
       " 'Drop Jump Velocity vs Vd BA YK MW.xlsx',\n",
       " 'thesis_outline.pdf',\n",
       " 'texput.log',\n",
       " 'ef_notes.synctex.gz',\n",
       " 'jfm-instructions.blg',\n",
       " 'ef_notes.tex',\n",
       " 'README.md',\n",
       " 'AMSbsy.sty',\n",
       " 'Fiji_particle_tracking',\n",
       " 'Working.ipynb',\n",
       " 'upmath.sty',\n",
       " 'Figures',\n",
       " 'jfm-references.bbl',\n",
       " '28039I(Model616).pdf',\n",
       " 'AMSfonts.sty',\n",
       " 'jfm.cls',\n",
       " 'ef_notes.aux',\n",
       " 'AMSgen.sty',\n",
       " 'jfm.bst',\n",
       " 'ef_notes.log',\n",
       " 'Droplet_dielectrophoresis.ipynb',\n",
       " 'jfm-instructions.bbl',\n",
       " '.git',\n",
       " 'e88_1_thumb.jpg',\n",
       " 'thesis_outline.tex',\n",
       " 'escape_velo.xlsx',\n",
       " 'thesis_outline.synctex.gz',\n",
       " 'thesis_outline.log',\n",
       " 'thesis_outline.aux',\n",
       " 'jfm-instructions.tex']"
      ]
     },
     "execution_count": 66,
     "metadata": {},
     "output_type": "execute_result"
    }
   ],
   "source": [
    "import os\n",
    "os.listdir('.')"
   ]
  },
  {
   "cell_type": "code",
   "execution_count": 80,
   "metadata": {},
   "outputs": [
    {
     "name": "stdout",
     "output_type": "stream",
     "text": [
      "a\n",
      "b\n"
     ]
    }
   ],
   "source": [
    "import demo\n",
    "demo.print_a()\n",
    "demo.prints_b()\n",
    "c\n",
    "demo?"
   ]
  },
  {
   "cell_type": "code",
   "execution_count": 81,
   "metadata": {
    "collapsed": true
   },
   "outputs": [],
   "source": [
    "from demo import print_a, prints_b\n"
   ]
  },
  {
   "cell_type": "code",
   "execution_count": 3,
   "metadata": {},
   "outputs": [
    {
     "data": {
      "text/plain": [
       "0.9999990463256836"
      ]
     },
     "execution_count": 3,
     "metadata": {},
     "output_type": "execute_result"
    }
   ],
   "source": [
    "def achilles_arrow(x):\n",
    "    if abs(x-1) < 1e-6:\n",
    "        raise StopIteration\n",
    "    x= 1-(1-x)/2\n",
    "    return x\n",
    "x=0\n",
    "while True:\n",
    "    try:\n",
    "        x = achilles_arrow(x)\n",
    "    except StopIteration:\n",
    "        break\n",
    "x"
   ]
  },
  {
   "cell_type": "code",
   "execution_count": 16,
   "metadata": {},
   "outputs": [
    {
     "name": "stdout",
     "output_type": "stream",
     "text": [
      "/home/erin/anaconda3/lib/python3.6/site.py\n",
      "/home/erin/anaconda3/lib/python3.6/site-packages/jedi/evaluate/site.py\n",
      "/home/erin/anaconda3/lib/python3.6/site-packages/jedi/evaluate/site.py\n"
     ]
    }
   ],
   "source": [
    "#write a program to search PYTHONPATH \\\n",
    "#for the module site.py\n",
    "import os, sys\n",
    "\n",
    "for directories in sys.path:\n",
    "    for dirpath, dirnames, filenames in os.walk(directories):\n",
    "        if 'site.py' in filenames:\n",
    "            print(dirpath+'/site.py')\n"
   ]
  },
  {
   "cell_type": "code",
   "execution_count": 19,
   "metadata": {},
   "outputs": [
    {
     "data": {
      "text/plain": [
       "[['/home/erin/anaconda3/lib/python3.6/site.py']]"
      ]
     },
     "execution_count": 19,
     "metadata": {},
     "output_type": "execute_result"
    }
   ],
   "source": [
    "\"\"\"Script to search the PYTHONPATH for the module site.py\"\"\"\n",
    "\n",
    "import os\n",
    "import sys\n",
    "import glob\n",
    "\n",
    "def find_module(module):\n",
    "    result = []\n",
    "    # Loop over the list of paths in sys.path\n",
    "    for subdir in sys.path:\n",
    "        # Join the subdir path with the module we're searching for\n",
    "        pth = os.path.join(subdir, module)\n",
    "        # Use glob to test if the pth is exists\n",
    "        res = glob.glob(pth)\n",
    "        # glob returns a list, if it is not empty, the pth exists\n",
    "        if len(res) > 0:\n",
    "            result.append(res)\n",
    "    return result\n",
    "\n",
    "find_module('site.py')"
   ]
  },
  {
   "cell_type": "code",
   "execution_count": 21,
   "metadata": {},
   "outputs": [],
   "source": [
    "class Student(object):\n",
    "    def __init__(self, name):\n",
    "        self.name = name\n",
    "    def set_age(self, age):\n",
    "        self.age = age\n",
    "    def set_major(self, major):\n",
    "        self.major = major\n",
    "        \n",
    "anna = Student('anna')\n",
    "anna.set_age(21)\n",
    "anna.set_major('physics')"
   ]
  },
  {
   "cell_type": "code",
   "execution_count": 22,
   "metadata": {
    "collapsed": true
   },
   "outputs": [],
   "source": [
    "anna?"
   ]
  },
  {
   "cell_type": "code",
   "execution_count": 23,
   "metadata": {
    "collapsed": true
   },
   "outputs": [],
   "source": [
    "anna.set_age(31)"
   ]
  },
  {
   "cell_type": "code",
   "execution_count": 24,
   "metadata": {},
   "outputs": [
    {
     "name": "stdout",
     "output_type": "stream",
     "text": [
      "31\n"
     ]
    }
   ],
   "source": [
    "print(anna.age)"
   ]
  },
  {
   "cell_type": "code",
   "execution_count": 27,
   "metadata": {},
   "outputs": [],
   "source": [
    "class MasterStudent(Student):\n",
    "    internship = 'mandatory, from March to June'\n",
    "james = MasterStudent('james')\n",
    "james.internship\n",
    "james.set_age(23)\n",
    "james.age\n"
   ]
  },
  {
   "cell_type": "code",
   "execution_count": null,
   "metadata": {
    "collapsed": true
   },
   "outputs": [],
   "source": []
  }
 ],
 "metadata": {
  "kernelspec": {
   "display_name": "Python 3",
   "language": "python",
   "name": "python3"
  },
  "language_info": {
   "codemirror_mode": {
    "name": "ipython",
    "version": 3
   },
   "file_extension": ".py",
   "mimetype": "text/x-python",
   "name": "python",
   "nbconvert_exporter": "python",
   "pygments_lexer": "ipython3",
   "version": "3.6.1"
  }
 },
 "nbformat": 4,
 "nbformat_minor": 2
}
